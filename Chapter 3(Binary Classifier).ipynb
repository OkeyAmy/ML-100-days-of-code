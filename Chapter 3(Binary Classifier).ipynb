{
 "cells": [
  {
   "cell_type": "code",
   "execution_count": 240,
   "id": "initial_id",
   "metadata": {
    "collapsed": true,
    "ExecuteTime": {
     "end_time": "2024-07-19T00:07:53.149291Z",
     "start_time": "2024-07-19T00:07:49.455854400Z"
    }
   },
   "outputs": [],
   "source": [
    "from sklearn.datasets import fetch_openml\n",
    "import pandas as pd\n",
    "import matplotlib as mpl\n",
    "import numpy as np\n",
    "import  matplotlib.pyplot as plt\n",
    "from sklearn.linear_model import SGDClassifier\n",
    "from sklearn.model_selection import cross_val_score, cross_val_predict\n",
    "from sklearn.metrics import confusion_matrix, precision_recall_curve, precision_score, recall_score, roc_curve, roc_auc_score\n",
    "from sklearn.ensemble import RandomForestClassifier"
   ]
  },
  {
   "cell_type": "code",
   "execution_count": null,
   "outputs": [],
   "source": [
    "# This would have been a way to import the MNIST Data from Scikit-learn but my network was poor wich i then downloaded\n",
    "mnist = fetch_openml('mnist_784', version=1)"
   ],
   "metadata": {
    "collapsed": false
   },
   "id": "ee736df3b2c93017"
  },
  {
   "cell_type": "code",
   "execution_count": null,
   "outputs": [],
   "source": [
    "mnist.keys()"
   ],
   "metadata": {
    "collapsed": false
   },
   "id": "ecbcaea2c0c34010"
  },
  {
   "cell_type": "markdown",
   "source": [
    "The MNIST data contains 70,000 features and 784 labels"
   ],
   "metadata": {
    "collapsed": false
   },
   "id": "d341603008bf61bf"
  },
  {
   "cell_type": "code",
   "execution_count": null,
   "outputs": [],
   "source": [
    "X, y = mnist['data'], mnist['target']\n",
    "\n",
    "print(X.shape)\n",
    "print(y.shape)"
   ],
   "metadata": {
    "collapsed": false
   },
   "id": "3a5a2c3568887baa"
  },
  {
   "cell_type": "code",
   "execution_count": null,
   "outputs": [],
   "source": [
    "# Show an image\n",
    "some_digits = X[0:1]\n",
    "some_digits = np.array(some_digits, dtype='float')\n",
    "some_digits_image = some_digits.reshape(28,28)\n",
    "\n",
    "plt.imshow(some_digits_image, cmap=mpl.cm.binary, interpolation='antialiased') #other form of interpolation to generate pixel are: 'nearest', 'bicubic', 'bilinear' Check out the Documentation to understand more \n",
    "plt.axis('on')\n",
    "plt.show()"
   ],
   "metadata": {
    "collapsed": false
   },
   "id": "5bd189e61cae0519"
  },
  {
   "cell_type": "code",
   "execution_count": null,
   "outputs": [],
   "source": [
    "# Convert y to int so that we can be able to use it\n",
    "y = y.astype(np.uint8)\n",
    "y.info()"
   ],
   "metadata": {
    "collapsed": false
   },
   "id": "13f0d04095b3ca61"
  },
  {
   "cell_type": "code",
   "execution_count": null,
   "outputs": [],
   "source": [
    "X_train, X_test, y_train, y_test = X[:60000], X[60000:], y[:60000], y[60000:]"
   ],
   "metadata": {
    "collapsed": false
   },
   "id": "9db2bcec72e5f2d4"
  },
  {
   "cell_type": "code",
   "execution_count": null,
   "outputs": [],
   "source": [
    "# Check if my Set's are Bias\n",
    "ydf = np.array(y_train, dtype=\"int\")\n",
    "ydft = np.array(y_test, dtype=\"int\")\n",
    "y_train_bias_5 = print(f\"Size of row in train set: {len(ydf)}\\nThis is the sum of 5 in the train set: {sum(ydf==5)}\\nThis is the sum of 5 that are not 5 in the train set: {sum(ydf!=5)}\")\n",
    "y_test_bias_show = print(f\"Size of row in test set: {len(ydft)}\\nThis is the sum of 5 in the test set: {sum(ydft==5)}\\nThis is the sum of 5 that are not 5 in the test set: {sum(ydft!=5)}\")\n",
    "y_train_5 = y_train == 5\n",
    "y_test_5 = y_test == 5"
   ],
   "metadata": {
    "collapsed": false
   },
   "id": "83981c81802b8d90"
  },
  {
   "cell_type": "code",
   "execution_count": null,
   "outputs": [],
   "source": [
    "sdf_clf = SGDClassifier(random_state=42)\n",
    "sdf_clf_fit = sdf_clf.fit(X_train, y_train_5)\n",
    "\n",
    "y_pred = sdf_clf_fit.predict(some_digits)"
   ],
   "metadata": {
    "collapsed": false
   },
   "id": "9c0b2a2fe3122cc0"
  },
  {
   "cell_type": "raw",
   "source": [
    "\"Accuracy\" is not often the best preferred preformace measure for classifier especially when dealing with skewed dat "
   ],
   "metadata": {
    "collapsed": false
   },
   "id": "94d6bcde5a82022"
  },
  {
   "cell_type": "code",
   "execution_count": 169,
   "outputs": [],
   "source": [
    "cross_score = cross_val_score(sdf_clf, X_train, y_train_5,cv=3, scoring=\"accuracy\") # K-folds cross validation means spliting the training set into k-folds(in this case, 5), then making prediction and evaluating them on each fold using model a model trained on the remaining folds. It reture the evaluation score"
   ],
   "metadata": {
    "collapsed": false,
    "ExecuteTime": {
     "end_time": "2024-07-18T18:13:57.055755600Z",
     "start_time": "2024-07-18T18:13:21.174111800Z"
    }
   },
   "id": "1f0a265c82cec8b1"
  },
  {
   "cell_type": "code",
   "execution_count": 172,
   "outputs": [],
   "source": [
    "y_train_pred = cross_val_predict(sdf_clf, X_train,y_train_5, cv=3) # returns the predictions made on each test fold"
   ],
   "metadata": {
    "collapsed": false,
    "ExecuteTime": {
     "end_time": "2024-07-18T18:17:03.791496100Z",
     "start_time": "2024-07-18T18:16:28.222058700Z"
    }
   },
   "id": "937d4d8aee6f2fd8"
  },
  {
   "cell_type": "code",
   "execution_count": 175,
   "outputs": [
    {
     "data": {
      "text/plain": "array([[53892,   687],\n       [ 1891,  3530]], dtype=int64)"
     },
     "execution_count": 175,
     "metadata": {},
     "output_type": "execute_result"
    }
   ],
   "source": [
    "confusion_matrix(y_train_5, y_train_pred)"
   ],
   "metadata": {
    "collapsed": false,
    "ExecuteTime": {
     "end_time": "2024-07-18T18:18:39.171721600Z",
     "start_time": "2024-07-18T18:18:38.791143900Z"
    }
   },
   "id": "ce7db7bb4e326097"
  },
  {
   "cell_type": "markdown",
   "source": [
    "53892 = True Negative(TN)\n",
    "687 = False Positive(FP)\n",
    "1891 = False Negative(FN)\n",
    "3530 = True Positive(TP)\n",
    "For a perfect model our wrongly predicted value(i.e: FP and FN) should be 0. We could also try using the Precision, Recall, and F1_score\n",
    "## Mathematically \n",
    "*Precision* = TP/(TP + FP)\n",
    "*Recall* = TP/(TP + FN)\n",
    "*F1_score* = 2 × (precision × recall)/(precision + recall)\n",
    "\n"
   ],
   "metadata": {
    "collapsed": false
   },
   "id": "d8b362d3a0e9bb3f"
  },
  {
   "cell_type": "code",
   "execution_count": 177,
   "outputs": [],
   "source": [
    "y_scores = cross_val_predict(sdf_clf, X_train, y_train_5, cv=3, method=\"decision_function\")"
   ],
   "metadata": {
    "collapsed": false,
    "ExecuteTime": {
     "end_time": "2024-07-18T18:56:54.307836900Z",
     "start_time": "2024-07-18T18:56:19.048575400Z"
    }
   },
   "id": "458435cc4c6beef0"
  },
  {
   "cell_type": "code",
   "execution_count": 178,
   "outputs": [
    {
     "data": {
      "text/plain": "array([  1200.93051237, -26883.79202424, -33072.03475406, ...,\n        13272.12718981,  -7258.47203373, -16877.50840447])"
     },
     "execution_count": 178,
     "metadata": {},
     "output_type": "execute_result"
    }
   ],
   "source": [
    "y_scores"
   ],
   "metadata": {
    "collapsed": false,
    "ExecuteTime": {
     "end_time": "2024-07-18T18:56:54.345695500Z",
     "start_time": "2024-07-18T18:56:54.307836900Z"
    }
   },
   "id": "40c39c9c4aba1b35"
  },
  {
   "cell_type": "code",
   "execution_count": 181,
   "outputs": [],
   "source": [
    "precision, recall, threshold = precision_recall_curve(y_train_5, y_scores)"
   ],
   "metadata": {
    "collapsed": false,
    "ExecuteTime": {
     "end_time": "2024-07-18T22:48:29.900981100Z",
     "start_time": "2024-07-18T22:48:29.809855800Z"
    }
   },
   "id": "5e46b93571905ac6"
  },
  {
   "cell_type": "code",
   "execution_count": 214,
   "outputs": [
    {
     "data": {
      "text/plain": "<Figure size 640x480 with 1 Axes>",
      "image/png": "[encoded data removed]"
     },
     "metadata": {},
     "output_type": "display_data"
    }
   ],
   "source": [
    "def plot_precision_recall_vs_threshold(precision, recall, threshold):\n",
    "    plt.plot(threshold, precision[:-1], 'b--', label = \"Precision\")\n",
    "    plt.plot(threshold, recall[:-1], \"-g\", label=\"Recall\")\n",
    "    plt.xlabel(\"Threshold\")\n",
    "    plt.autoscale()\n",
    "    plt.grid(visible=True)\n",
    "    plt.legend()\n",
    "    \n",
    "plot_precision_recall_vs_threshold(precision,recall, threshold)\n",
    "plt.show()"
   ],
   "metadata": {
    "collapsed": false,
    "ExecuteTime": {
     "end_time": "2024-07-18T23:19:24.325492200Z",
     "start_time": "2024-07-18T23:19:23.382653200Z"
    }
   },
   "id": "5a8a3c3c7c4d85b1"
  },
  {
   "cell_type": "markdown",
   "source": [
    "From the plot: why the precision plot is bumpier is because Precision tends to go down when you increase the threshold. On the other hand, recall can only go down when the thres‐\n",
    "hold is increased, which explains why its curve looks smooth "
   ],
   "metadata": {
    "collapsed": false
   },
   "id": "9fe065142fd3b31"
  },
  {
   "cell_type": "code",
   "execution_count": 217,
   "outputs": [
    {
     "data": {
      "text/plain": "<Figure size 640x480 with 1 Axes>",
      "image/png": "[encoded data removed]"
     },
     "metadata": {},
     "output_type": "display_data"
    }
   ],
   "source": [
    "plt.plot(recall,precision,scalex=True)\n",
    "plt.ylabel('Precision')\n",
    "plt.xlabel('Recall')\n",
    "plt.grid(visible=True)"
   ],
   "metadata": {
    "collapsed": false,
    "ExecuteTime": {
     "end_time": "2024-07-18T23:30:42.958962800Z",
     "start_time": "2024-07-18T23:30:42.643321100Z"
    }
   },
   "id": "3351de1dd209dd0d"
  },
  {
   "cell_type": "markdown",
   "source": [
    "Supposedly we are looking for 95% precision from our model we will use the following"
   ],
   "metadata": {
    "collapsed": false
   },
   "id": "551d21cdfba4ff0b"
  },
  {
   "cell_type": "code",
   "execution_count": 218,
   "outputs": [],
   "source": [
    "threshold_95_precision = threshold[np.argmax(precision >= 0.95)]"
   ],
   "metadata": {
    "collapsed": false,
    "ExecuteTime": {
     "end_time": "2024-07-18T23:37:15.627558200Z",
     "start_time": "2024-07-18T23:37:15.498326100Z"
    }
   },
   "id": "5545e6244bc046a1"
  },
  {
   "cell_type": "code",
   "execution_count": 222,
   "outputs": [],
   "source": [
    "y_train_pred_95 = (y_scores >= threshold_95_precision)"
   ],
   "metadata": {
    "collapsed": false,
    "ExecuteTime": {
     "end_time": "2024-07-18T23:38:26.568066Z",
     "start_time": "2024-07-18T23:38:26.472125200Z"
    }
   },
   "id": "c9e192b70357cb58"
  },
  {
   "cell_type": "code",
   "execution_count": 228,
   "outputs": [
    {
     "data": {
      "text/plain": "0.9503367003367004"
     },
     "execution_count": 228,
     "metadata": {},
     "output_type": "execute_result"
    }
   ],
   "source": [
    "precision_score(y_train_5, y_train_pred_95) # Now we've acheived a 95% precision score for our model"
   ],
   "metadata": {
    "collapsed": false,
    "ExecuteTime": {
     "end_time": "2024-07-18T23:41:15.823857Z",
     "start_time": "2024-07-18T23:41:15.702888800Z"
    }
   },
   "id": "95021fd623c1295e"
  },
  {
   "cell_type": "code",
   "execution_count": 230,
   "outputs": [
    {
     "data": {
      "text/plain": "0.20826415790444566"
     },
     "execution_count": 230,
     "metadata": {},
     "output_type": "execute_result"
    }
   ],
   "source": [
    "recall_score(y_train_5, y_train_pred_95) # Note that our recall score is very poor with 20.8% score. Which quantify this 'A high-precision classifier is not very useful if its recall is too low'"
   ],
   "metadata": {
    "collapsed": false,
    "ExecuteTime": {
     "end_time": "2024-07-18T23:44:26.153652700Z",
     "start_time": "2024-07-18T23:44:26.037487400Z"
    }
   },
   "id": "ef0ae49cf65ede46"
  },
  {
   "cell_type": "markdown",
   "source": [
    "# ROC Curve And ROC AUC "
   ],
   "metadata": {
    "collapsed": false
   },
   "id": "aed2d3738a3ecd01"
  },
  {
   "cell_type": "code",
   "execution_count": 235,
   "outputs": [],
   "source": [
    "fpr, tpr, thresholds = roc_curve(y_train_5, y_scores)"
   ],
   "metadata": {
    "collapsed": false,
    "ExecuteTime": {
     "end_time": "2024-07-18T23:56:15.762079100Z",
     "start_time": "2024-07-18T23:56:15.644328900Z"
    }
   },
   "id": "773c578fdf3743f9"
  },
  {
   "cell_type": "code",
   "execution_count": 237,
   "outputs": [],
   "source": [
    "def plot_roc_curve(fpr, tpr, label=None):\n",
    "    plt.plot(fpr,tpr, label=label)\n",
    "    plt.plot([0,1], [0,1], 'b--')\n",
    "    plt.legend()\n",
    "    plt.xlabel(\"False Positive Rate\")\n",
    "    plt.ylabel(\"True Positive Rate(Recall)\")"
   ],
   "metadata": {
    "collapsed": false,
    "ExecuteTime": {
     "end_time": "2024-07-18T23:59:58.574469Z",
     "start_time": "2024-07-18T23:59:58.496315100Z"
    }
   },
   "id": "ae435d6fb1c4e935"
  },
  {
   "cell_type": "code",
   "execution_count": 238,
   "outputs": [
    {
     "name": "stderr",
     "output_type": "stream",
     "text": [
      "No artists with labels found to put in legend.  Note that artists whose label start with an underscore are ignored when legend() is called with no argument.\n"
     ]
    },
    {
     "data": {
      "text/plain": "<Figure size 640x480 with 1 Axes>",
      "image/png": "[encoded data removed]"
     },
     "metadata": {},
     "output_type": "display_data"
    }
   ],
   "source": [
    "plot_roc_curve(fpr,tpr)"
   ],
   "metadata": {
    "collapsed": false,
    "ExecuteTime": {
     "end_time": "2024-07-19T00:00:22.996557Z",
     "start_time": "2024-07-19T00:00:22.613296700Z"
    }
   },
   "id": "793f8814caadb677"
  },
  {
   "cell_type": "code",
   "execution_count": 239,
   "outputs": [
    {
     "data": {
      "text/plain": "0.9604938554008616"
     },
     "execution_count": 239,
     "metadata": {},
     "output_type": "execute_result"
    }
   ],
   "source": [
    "roc_auc_score(y_train_5,y_scores)"
   ],
   "metadata": {
    "collapsed": false,
    "ExecuteTime": {
     "end_time": "2024-07-19T00:00:55.980909900Z",
     "start_time": "2024-07-19T00:00:55.602169Z"
    }
   },
   "id": "1f3bec65571f51b1"
  },
  {
   "cell_type": "markdown",
   "source": [
    "When do will Decide when to use precision/recall curve or AUC Curve is whenever the positive class is rare or when you care more about the false positives than the false negatives, and the ROC curve otherwise"
   ],
   "metadata": {
    "collapsed": false
   },
   "id": "8829dcb727492cc7"
  },
  {
   "cell_type": "markdown",
   "source": [
    "*Let's try and train a new model and compare both the ruc cuve with the old model*"
   ],
   "metadata": {
    "collapsed": false
   },
   "id": "41cba2cbe6c25326"
  },
  {
   "cell_type": "code",
   "execution_count": null,
   "outputs": [],
   "source": [
    "forest_clf = RandomForestClassifier(random_state=42)\n",
    "\n",
    "y_probas_forest = cross_val_predict(forest_clf, X_train, y_train_5, method='predict_proba')"
   ],
   "metadata": {
    "collapsed": false,
    "is_executing": true,
    "ExecuteTime": {
     "start_time": "2024-07-19T00:10:09.473952500Z"
    }
   },
   "id": "edc319242edbe4fe"
  },
  {
   "cell_type": "code",
   "execution_count": null,
   "outputs": [],
   "source": [
    "y_probas_forest"
   ],
   "metadata": {
    "collapsed": false,
    "is_executing": true
   },
   "id": "c5690bd366cc2e3"
  },
  {
   "cell_type": "code",
   "execution_count": null,
   "outputs": [],
   "source": [],
   "metadata": {
    "collapsed": false
   },
   "id": "a47e05eead515748"
  }
 ],
 "metadata": {
  "kernelspec": {
   "display_name": "Python 3",
   "language": "python",
   "name": "python3"
  },
  "language_info": {
   "codemirror_mode": {
    "name": "ipython",
    "version": 2
   },
   "file_extension": ".py",
   "mimetype": "text/x-python",
   "name": "python",
   "nbconvert_exporter": "python",
   "pygments_lexer": "ipython2",
   "version": "2.7.6"
  }
 },
 "nbformat": 4,
 "nbformat_minor": 5
}
