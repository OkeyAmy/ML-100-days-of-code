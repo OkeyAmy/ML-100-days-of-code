{
 "cells": [
  {
   "cell_type": "markdown",
   "id": "45cac65f-31f6-45e8-ad1c-ed6eee943da2",
   "metadata": {},
   "source": [
    "# What is the fundamental idea behind Support Vector Machines?\n",
    "\n",
    "Ans: It is a capable of performing linear and non-linear classification and regression and also good for dectecting outliers"
   ]
  },
  {
   "cell_type": "markdown",
   "id": "060c89b2-8bfb-4fd2-b625-bfda6509b60d",
   "metadata": {},
   "source": [
    "# What is a support vector?\n",
    "\n",
    "Ans: This are point that torches the margin or are located at the edge of the margin"
   ]
  },
  {
   "cell_type": "markdown",
   "id": "69628aea-db58-4fb6-92ad-9d781478f6ed",
   "metadata": {},
   "source": [
    "# Why is it important to scale the inputs when using SVMs?\n",
    "\n",
    "Ans: The major reason why we scale is so that it can be linearly separable"
   ]
  },
  {
   "cell_type": "markdown",
   "id": "f877e5bd-50b5-4086-8ec8-9a2583e11d7f",
   "metadata": {},
   "source": [
    "# Can an SVM classifier output a confidence score when it classifies an instance? What about a probability?\n",
    "\n",
    "Ans: Yes it can outputa confidence score but can't output a probability score"
   ]
  },
  {
   "cell_type": "markdown",
   "id": "ffd9b29c-9680-4a33-9b93-d874fe370a9b",
   "metadata": {},
   "source": [
    "# Should you use the primal or the dual form of the SVM problem to train a model on a training set with millions of instances and hundreds of features? \n",
    "Ans: We should use a primal form when training on milions of instances nad hundreds of features"
   ]
  },
  {
   "cell_type": "markdown",
   "id": "c8fad23e-f2f0-49a4-bccb-46ad0b0054fb",
   "metadata": {},
   "source": [
    "# Say you trained an SVM classifier with an RBF kernel. It seems to underfit the training set: should you increase or decrease γ (gamma)? What about C?\n",
    "\n",
    "Ans: We should increase gamma if we suspect that our model is underfitting the training set and increase C if we also suspect that our model is underfitting"
   ]
  },
  {
   "cell_type": "markdown",
   "id": "24f2a506-d81c-482c-8a7d-91f807f08b58",
   "metadata": {},
   "source": [
    "# How should you set the QP parameters (H, f, A, and b) to solve the soft margin linear SVM classifier problem using an off-the-shelf QP solver?\n",
    "\n",
    "Ans:"
   ]
  },
  {
   "cell_type": "markdown",
   "id": "5e391bb6-5c4a-4f34-a323-5a731250bf56",
   "metadata": {},
   "source": [
    "# Train a LinearSVC on a linearly separable dataset. Then train an SVC and a SGDClassifier on the same dataset. See if you can get them to produce roughly the same model\n",
    "\n",
    "Ans:"
   ]
  },
  {
   "cell_type": "code",
   "execution_count": 9,
   "id": "d5cd86fd-5fe6-4155-bc3c-5a891fe9d735",
   "metadata": {},
   "outputs": [
    {
     "name": "stdout",
     "output_type": "stream",
     "text": [
      "          0         1         2\n",
      "0  1.000000  0.871754  0.817941\n",
      "1  0.871754  1.000000  0.962865\n",
      "2  0.817941  0.962865  1.000000\n"
     ]
    }
   ],
   "source": [
    "from sklearn import datasets\n",
    "import matplotlib.pyplot as plt\n",
    "from sklearn.model_selection import train_test_split\n",
    "import numpy as np\n",
    "import pandas as pd\n",
    "from sklearn.pipeline import Pipeline\n",
    "from sklearn.preprocessing import StandardScaler\n",
    "\n",
    "#Import my dataset\n",
    "iris = datasets.load_iris()\n",
    "iris.keys()\n",
    "X = iris.data[: , [0,2,3]]\n",
    "y = (iris.target == 1) # 'versicolor' \n",
    "\n",
    "# My Covaraince matrix\n",
    "corr_matrix = pd.DataFrame(X).corr()\n",
    "print(corr_matrix)\n",
    "\n",
    "\n",
    "\n",
    "#Split my data into training and testing set\n",
    "X_train,X_test, y_train, y_test = train_test_split(X,y, shuffle=True, random_state=42,test_size=0.1)\n",
    "\n",
    "# plt.scatter(X_scaled[:,0], X_scaled[:,1])\n",
    "# plt.scatter(X_scaled[:1], X_scaled[:,2])\n",
    "# plt.plot([0,7], [0,2.5])\n",
    "# plt.xlabel('petal length (cm)')\n",
    "# plt.ylabel('petal width (cm)')\n",
    "\n",
    "# Scale data\n",
    "scaler = StandardScaler()\n",
    "X_train_scaled = scaler.fit_transform(X_train)\n",
    "X_test_scaled = scaler.transform(X_test)"
   ]
  },
  {
   "cell_type": "code",
   "execution_count": 10,
   "id": "fc7230ef-3aea-4fd3-9762-ab1e1852e49d",
   "metadata": {},
   "outputs": [
    {
     "name": "stdout",
     "output_type": "stream",
     "text": [
      "LinearSVC\n",
      "Train Accuracy: 0.7037037037037037\n",
      "Test Accuracy: 0.6666666666666666\n",
      "\n",
      "SVC\n",
      "Train Accuracy: 0.7037037037037037\n",
      "Test Accuracy: 0.6666666666666666\n"
     ]
    }
   ],
   "source": [
    "from sklearn.svm import SVC, LinearSVC\n",
    "\n",
    "# svm_clf = SVC(kernel='linear',C=10,gamma=0.5,tol=3e-3)\n",
    "# svm_clf.fit(X_train,y_train)\n",
    "# svm_clf.score(X_train,y_train), svm_clf.score(X_test, y_test)\n",
    "\n",
    "linear_svc_clf = LinearSVC(C=10, tol=1e-3,max_iter=9000,loss='hinge',dual=True)\n",
    "linear_svc_clf.fit(X_train_scaled, y_train)\n",
    "print(\"LinearSVC\")\n",
    "print(\"Train Accuracy:\", linear_svc_clf.score(X_train_scaled, y_train))\n",
    "print(\"Test Accuracy:\", linear_svc_clf.score(X_test_scaled, y_test))\n",
    "\n",
    "# Train SVC\n",
    "svm_clf = SVC(kernel='linear', C=10, gamma=0.5, tol=3e-3)\n",
    "svm_clf.fit(X_train_scaled, y_train)\n",
    "print(\"\\nSVC\")\n",
    "print(\"Train Accuracy:\", svm_clf.score(X_train_scaled, y_train))\n",
    "print(\"Test Accuracy:\", svm_clf.score(X_test_scaled, y_test))"
   ]
  },
  {
   "cell_type": "code",
   "execution_count": 12,
   "id": "39d0ccb5-c137-4bc7-af34-37dede56caf2",
   "metadata": {},
   "outputs": [
    {
     "name": "stdout",
     "output_type": "stream",
     "text": [
      "\n",
      "SGDClassifier\n",
      "Train Accuracy: 0.7407407407407407\n",
      "Test Accuracy: 0.6666666666666666\n"
     ]
    }
   ],
   "source": [
    "from sklearn.linear_model import SGDClassifier\n",
    "\n",
    "# Train SGDClassifier\n",
    "sgd_clf = SGDClassifier(alpha= 0.0001, eta0=2.5, learning_rate='adaptive', loss='hinge',max_iter=3000, penalty= 'l2', tol=0.01,shuffle=True)\n",
    "sgd_clf.fit(X_train_scaled, y_train)\n",
    "print(\"\\nSGDClassifier\")\n",
    "print(\"Train Accuracy:\", sgd_clf.score(X_train_scaled, y_train))\n",
    "print(\"Test Accuracy:\", sgd_clf.score(X_test_scaled, y_test))"
   ]
  },
  {
   "cell_type": "markdown",
   "id": "1165d8f1-2e59-44e1-85d1-1d606002ebee",
   "metadata": {},
   "source": [
    "# Train an SVM classifier on the MNIST dataset. Since SVM classifiers are binary classifiers, you will need to use one-versus-all to classify all 10 digits. You may want to tune the hyperparameters using small validation sets to speed up the process. What accuracy can you reach?\n",
    "\n",
    "Ans:\n"
   ]
  },
  {
   "cell_type": "code",
   "execution_count": 13,
   "id": "7a250fc6-8b77-4408-af25-e36c046971a8",
   "metadata": {},
   "outputs": [
    {
     "name": "stderr",
     "output_type": "stream",
     "text": [
      "C:\\Python311\\Lib\\site-packages\\sklearn\\datasets\\_openml.py:1022: FutureWarning: The default value of `parser` will change from `'liac-arff'` to `'auto'` in 1.4. You can set `parser='auto'` to silence this warning. Therefore, an `ImportError` will be raised from 1.4 if the dataset is dense and pandas is not installed. Note that the pandas parser may return different data types. See the Notes Section in fetch_openml's API doc for details.\n",
      "  warn(\n"
     ]
    }
   ],
   "source": [
    "from sklearn.datasets import fetch_openml\n",
    "from sklearn.multiclass import OneVsRestClassifier\n",
    "\n",
    "mnist = fetch_openml('mnist_784', version=1)"
   ]
  },
  {
   "cell_type": "code",
   "execution_count": 14,
   "id": "1a50a3d3-9bc2-4ec9-b01b-1453e99827b7",
   "metadata": {},
   "outputs": [
    {
     "data": {
      "text/plain": [
       "dict_keys(['data', 'target', 'frame', 'categories', 'feature_names', 'target_names', 'DESCR', 'details', 'url'])"
      ]
     },
     "execution_count": 14,
     "metadata": {},
     "output_type": "execute_result"
    }
   ],
   "source": [
    "mnist.keys()"
   ]
  },
  {
   "cell_type": "code",
   "execution_count": 15,
   "id": "7b515661-b9fe-4bbd-9717-e43665f80c58",
   "metadata": {},
   "outputs": [
    {
     "name": "stdout",
     "output_type": "stream",
     "text": [
      "<class 'pandas.core.series.Series'>\n",
      "RangeIndex: 70000 entries, 0 to 69999\n",
      "Series name: class\n",
      "Non-Null Count  Dtype \n",
      "--------------  ----- \n",
      "70000 non-null  uint16\n",
      "dtypes: uint16(1)\n",
      "memory usage: 136.8 KB\n"
     ]
    }
   ],
   "source": [
    "X = mnist.data\n",
    "y = mnist.target\n",
    "\n",
    "y = y.astype(np.uint16)\n",
    "y.info()"
   ]
  },
  {
   "cell_type": "code",
   "execution_count": 16,
   "id": "c77bd292-849c-4875-9f66-5c27540db790",
   "metadata": {},
   "outputs": [],
   "source": [
    "X_train, X_test, y_train, y_test = train_test_split(X, y, test_size=0.4, random_state=42,shuffle=True,)"
   ]
  },
  {
   "cell_type": "code",
   "execution_count": null,
   "id": "5c81bc84-7b8f-4bac-aa62-286a3bae4c7a",
   "metadata": {},
   "outputs": [
    {
     "name": "stdout",
     "output_type": "stream",
     "text": [
      "[LibSVM][LibSVM][LibSVM][LibSVM]"
     ]
    }
   ],
   "source": [
    "ovr_clf = OneVsRestClassifier(SVC(kernel='rbf',C=10,gamma=1,verbose=True,tol=3e-1)).fit(X_train,y_train)"
   ]
  },
  {
   "cell_type": "code",
   "execution_count": null,
   "id": "a673c490-d88b-42c7-b7d3-78775f200868",
   "metadata": {},
   "outputs": [],
   "source": [
    "ovr_clf.predict(X_test)"
   ]
  },
  {
   "cell_type": "code",
   "execution_count": null,
   "id": "edc0e83d-0eaa-4385-8018-b69787ca2f9b",
   "metadata": {},
   "outputs": [],
   "source": []
  }
 ],
 "metadata": {
  "kernelspec": {
   "display_name": "Python 3 (ipykernel)",
   "language": "python",
   "name": "python3"
  },
  "language_info": {
   "codemirror_mode": {
    "name": "ipython",
    "version": 3
   },
   "file_extension": ".py",
   "mimetype": "text/x-python",
   "name": "python",
   "nbconvert_exporter": "python",
   "pygments_lexer": "ipython3",
   "version": "3.11.5"
  }
 },
 "nbformat": 4,
 "nbformat_minor": 5
}
