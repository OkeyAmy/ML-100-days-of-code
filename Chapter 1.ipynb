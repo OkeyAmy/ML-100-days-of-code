{
 "cells": [
  {
   "cell_type": "markdown",
   "source": [
    "## What is Machine Learning\n",
    "\n",
    "Machine Learning is the ability of a machine to learn or the ability of a programming computers to learn from data they are trained on. An example is a computer to dectect a spam mails.\n",
    "\n",
    "We have different kinds of machine learning(ML) system:\n",
    "* Supervised Learning: This is a type of learning that requires a lot of supervision from it trainer before it can be sent out to user. Supervised learning has a feature or predictors(X) and a label(y). The labels are what we're trying to predict which can be bimodal or multimodal while the features are data we're going to use to help the model predict accurately. An example is predicting the price of a car,\n",
    "given a set of features (mileage, age, brand, etc.).\n",
    "These are the most common Supervised learning algorithms:\n",
    "    • k-Nearest Neighbors\n",
    "    • Linear Regression\n",
    "    • Logistic Regression\n",
    "    • Support Vector Machines (SVMs)\n",
    "    • Decision Trees and Random Forests\n",
    "    • Neural networks\n",
    "\n",
    "* Unsupervised Learning: This is a type of learning that has just the predictors/features(y). An example is finding catching manufacturing defects. The model is shown normal and defected products, then the system learns to reconginze them when it sees a new instance.\n",
    "Common Unsupervised learning algorithms:\n",
    "   * Clustering\n",
    "   • K-Means\n",
    "   • DBSCAN\n",
    "   • Hierarchical Cluster Analysis (HCA)\n",
    "   * Anomaly detection and novelty detection\n",
    "   • One-class SVM\n",
    "   • Isolation Forest\n",
    "   * Visualization and dimensionality reduction\n",
    "   • Principal Component Analysis (PCA)\n",
    "   • Kernel PCA\n",
    "   • Locally-Linear Embedding (LLE)\n",
    "   • t-distributed Stochastic Neighbor Embedding (t-SNE)\n",
    "   * Association rule learning\n",
    "   • Apriori\n",
    "   • Eclat\n",
    "* Reinforcement Learning: This type of learning is whereby a system learns to make prediction but gets a reward in return(but penalties for negative reward) but it must then learn by itself the best strategy called -policy to get a reward overtime. DeepMind’s AlphaGo program is also a good example of Reinforcement Learning.It learned its winning policy by analyzing millions of games, and\n",
    "then playing many games against itself."
   ],
   "metadata": {
    "collapsed": false
   },
   "id": "5d52d132c84289b1"
  },
  {
   "cell_type": "markdown",
   "source": [
    "* Batch Learning: In batch learning the system is trained with all available data. But it will take lots of computational resources and it mostly done offline. if you want a batch learning to learn about new data, you will need to train a new version of the system from scratch on a full dataset containing both the previous data and the new data.\n",
    "* Online Learning: This type of learning allows the system to receive data continously without having to stop the system to train the system. A good example is training a system to predict stock prices.Online learning algorithms can also be used to train systems on huge datasets that cannot fit in one machine’s main memory (this is called out-of-core learning).The algorithm loads part of the data, runs a training step on that data, and repeats the process until it has run on all of the data. \n",
    "The \"Learning rate\" is how fast we want to system to adept to new data. If you get a high leearning rate, the system will tend to forget old data's easily(if you will training a spam filter to flag spam messages, you wouldn't want it to forget old data and just learn the new ones) but a low lr allows the system to learn more slowly.\n",
    "A big challenge with online learning is that if bad data is fed to the system, the sys‐\n",
    "tem’s performance will gradually decline\n"
   ],
   "metadata": {
    "collapsed": false
   },
   "id": "700c98322876976e"
  },
  {
   "cell_type": "code",
   "execution_count": 1,
   "outputs": [],
   "source": [],
   "metadata": {
    "collapsed": false,
    "ExecuteTime": {
     "start_time": "2024-07-19T12:39:28.072058600Z"
    }
   },
   "id": "3dad92f2c24a26b"
  },
  {
   "cell_type": "code",
   "execution_count": null,
   "outputs": [],
   "source": [],
   "metadata": {
    "collapsed": false
   },
   "id": "dcfd2bfa88233ad6"
  }
 ],
 "metadata": {
  "kernelspec": {
   "display_name": "Python 3",
   "language": "python",
   "name": "python3"
  },
  "language_info": {
   "codemirror_mode": {
    "name": "ipython",
    "version": 2
   },
   "file_extension": ".py",
   "mimetype": "text/x-python",
   "name": "python",
   "nbconvert_exporter": "python",
   "pygments_lexer": "ipython2",
   "version": "2.7.6"
  }
 },
 "nbformat": 4,
 "nbformat_minor": 5
}
