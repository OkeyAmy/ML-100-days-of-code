{
 "cells": [
  {
   "cell_type": "code",
   "execution_count": 1,
   "id": "initial_id",
   "metadata": {
    "ExecuteTime": {
     "end_time": "2024-07-21T10:51:33.041122800Z",
     "start_time": "2024-07-21T10:49:56.621418500Z"
    }
   },
   "outputs": [],
   "source": [
    "from sklearn.datasets import fetch_openml\n",
    "# import pandas as pd\n",
    "import matplotlib as mpl\n",
    "import numpy as np\n",
    "import  matplotlib.pyplot as plt\n",
    "from sklearn.linear_model import SGDClassifier\n",
    "from sklearn.model_selection import cross_val_score, cross_val_predict\n",
    "from sklearn.metrics import confusion_matrix, precision_recall_curve, precision_score, recall_score, roc_curve, roc_auc_score, f1_score\n",
    "from sklearn.ensemble import RandomForestClassifier\n",
    "from sklearn.multiclass import OneVsOneClassifier\n",
    "from sklearn.preprocessing import StandardScaler\n",
    "from sklearn.neighbors import KNeighborsClassifier"
   ]
  },
  {
   "cell_type": "code",
   "execution_count": 2,
   "id": "ee736df3b2c93017",
   "metadata": {
    "ExecuteTime": {
     "end_time": "2024-07-21T11:08:18.784161Z",
     "start_time": "2024-07-21T10:51:33.047266100Z"
    },
    "collapsed": false,
    "jupyter": {
     "outputs_hidden": false
    }
   },
   "outputs": [
    {
     "name": "stderr",
     "output_type": "stream",
     "text": [
      "C:\\Python311\\Lib\\site-packages\\sklearn\\datasets\\_openml.py:1022: FutureWarning: The default value of `parser` will change from `'liac-arff'` to `'auto'` in 1.4. You can set `parser='auto'` to silence this warning. Therefore, an `ImportError` will be raised from 1.4 if the dataset is dense and pandas is not installed. Note that the pandas parser may return different data types. See the Notes Section in fetch_openml's API doc for details.\n",
      "  warn(\n"
     ]
    }
   ],
   "source": [
    "# This would have been a way to import the MNIST Data from Scikit-learn but my network was poor wich i then downloaded\n",
    "mnist = fetch_openml('mnist_784', version=1)"
   ]
  },
  {
   "cell_type": "code",
   "execution_count": 3,
   "id": "ecbcaea2c0c34010",
   "metadata": {
    "ExecuteTime": {
     "end_time": "2024-07-21T11:08:19.763821400Z",
     "start_time": "2024-07-21T11:08:18.830992700Z"
    },
    "collapsed": false,
    "jupyter": {
     "outputs_hidden": false
    }
   },
   "outputs": [
    {
     "data": {
      "text/plain": [
       "dict_keys(['data', 'target', 'frame', 'categories', 'feature_names', 'target_names', 'DESCR', 'details', 'url'])"
      ]
     },
     "execution_count": 3,
     "metadata": {},
     "output_type": "execute_result"
    }
   ],
   "source": [
    "mnist.keys()"
   ]
  },
  {
   "cell_type": "markdown",
   "id": "d341603008bf61bf",
   "metadata": {
    "collapsed": false,
    "jupyter": {
     "outputs_hidden": false
    }
   },
   "source": [
    "The MNIST data contains 70,000 features and 784 labels"
   ]
  },
  {
   "cell_type": "code",
   "execution_count": 4,
   "id": "3a5a2c3568887baa",
   "metadata": {
    "ExecuteTime": {
     "end_time": "2024-07-21T11:08:21.221966700Z",
     "start_time": "2024-07-21T11:08:20.407949100Z"
    },
    "collapsed": false,
    "jupyter": {
     "outputs_hidden": false
    }
   },
   "outputs": [
    {
     "name": "stdout",
     "output_type": "stream",
     "text": [
      "(70000, 784)\n",
      "(70000,)\n"
     ]
    }
   ],
   "source": [
    "X, y = mnist['data'], mnist['target']\n",
    "\n",
    "print(X.shape)\n",
    "print(y.shape)"
   ]
  },
  {
   "cell_type": "code",
   "execution_count": null,
   "id": "e4e395b1-278c-4b19-ba80-8c6f3faa9118",
   "metadata": {},
   "outputs": [],
   "source": [
    "from skle"
   ]
  },
  {
   "cell_type": "code",
   "execution_count": 26,
   "id": "5bd189e61cae0519",
   "metadata": {
    "ExecuteTime": {
     "end_time": "2024-07-21T11:08:40.476980800Z",
     "start_time": "2024-07-21T11:08:21.237552600Z"
    },
    "collapsed": false,
    "jupyter": {
     "outputs_hidden": false
    }
   },
   "outputs": [
    {
     "name": "stdout",
     "output_type": "stream",
     "text": [
      "(1, 784)\n"
     ]
    },
    {
     "data": {
      "image/png": "[encoded data removed]",
      "text/plain": [
       "<Figure size 640x480 with 1 Axes>"
      ]
     },
     "metadata": {},
     "output_type": "display_data"
    }
   ],
   "source": [
    "# Show an image\n",
    "some_digits = X[0:1]\n",
    "some_digits = np.array(some_digits, dtype='float')\n",
    "some_digits_image = some_digits.reshape(28,28)\n",
    "print(some_digits.shape)\n",
    "plt.imshow(some_digits_image, cmap=mpl.cm.binary, interpolation='antialiased') #other form of interpolation to generate pixel are: 'nearest', 'bicubic', 'bilinear' Check out the Documentation to understand more \n",
    "plt.axis('on')\n",
    "plt.show()"
   ]
  },
  {
   "cell_type": "code",
   "execution_count": 11,
   "id": "13f0d04095b3ca61",
   "metadata": {
    "ExecuteTime": {
     "end_time": "2024-07-20T00:57:41.534308400Z",
     "start_time": "2024-07-20T00:56:59.131933900Z"
    },
    "collapsed": false,
    "jupyter": {
     "outputs_hidden": false
    }
   },
   "outputs": [
    {
     "name": "stdout",
     "output_type": "stream",
     "text": [
      "<class 'pandas.core.series.Series'>\n",
      "RangeIndex: 70000 entries, 0 to 69999\n",
      "Series name: class\n",
      "Non-Null Count  Dtype\n",
      "--------------  -----\n",
      "70000 non-null  uint8\n",
      "dtypes: uint8(1)\n",
      "memory usage: 68.5 KB\n"
     ]
    }
   ],
   "source": [
    "# Convert y to int so that we can be able to use it\n",
    "y = y.astype(np.uint8)\n",
    "y.info()"
   ]
  },
  {
   "cell_type": "code",
   "execution_count": 12,
   "id": "9db2bcec72e5f2d4",
   "metadata": {
    "ExecuteTime": {
     "end_time": "2024-07-20T00:57:41.535321900Z",
     "start_time": "2024-07-20T00:56:59.131933900Z"
    },
    "collapsed": false,
    "jupyter": {
     "outputs_hidden": false
    }
   },
   "outputs": [],
   "source": [
    "X_train, X_test, y_train, y_test = X[:60000], X[60000:], y[:60000], y[60000:]"
   ]
  },
  {
   "cell_type": "code",
   "execution_count": 13,
   "id": "83981c81802b8d90",
   "metadata": {
    "ExecuteTime": {
     "end_time": "2024-07-20T00:57:41.536316800Z",
     "start_time": "2024-07-20T00:56:59.373100300Z"
    },
    "collapsed": false,
    "jupyter": {
     "outputs_hidden": false
    }
   },
   "outputs": [
    {
     "name": "stdout",
     "output_type": "stream",
     "text": [
      "Size of row in train set: 60000\n",
      "This is the sum of 5 in the train set: 5421\n",
      "This is the sum of 5 that are not 5 in the train set: 54579\n",
      "Size of row in test set: 10000\n",
      "This is the sum of 5 in the test set: 892\n",
      "This is the sum of 5 that are not 5 in the test set: 9108\n"
     ]
    }
   ],
   "source": [
    "# Check if my Set's are Bias\n",
    "ydf = np.array(y_train, dtype=\"int\")\n",
    "ydft = np.array(y_test, dtype=\"int\")\n",
    "y_train_bias_5 = print(f\"Size of row in train set: {len(ydf)}\\nThis is the sum of 5 in the train set: {sum(ydf==5)}\\nThis is the sum of 5 that are not 5 in the train set: {sum(ydf!=5)}\")\n",
    "y_test_bias_show = print(f\"Size of row in test set: {len(ydft)}\\nThis is the sum of 5 in the test set: {sum(ydft==5)}\\nThis is the sum of 5 that are not 5 in the test set: {sum(ydft!=5)}\")\n",
    "y_train_5 = y_train == 5\n",
    "y_test_5 = y_test == 5"
   ]
  },
  {
   "cell_type": "code",
   "execution_count": 9,
   "id": "9c0b2a2fe3122cc0",
   "metadata": {
    "ExecuteTime": {
     "end_time": "2024-07-20T00:57:44.732509600Z",
     "start_time": "2024-07-20T00:56:59.374105Z"
    },
    "collapsed": false,
    "jupyter": {
     "outputs_hidden": false
    }
   },
   "outputs": [
    {
     "name": "stderr",
     "output_type": "stream",
     "text": [
      "C:\\Python311\\Lib\\site-packages\\sklearn\\base.py:465: UserWarning: X does not have valid feature names, but SGDClassifier was fitted with feature names\n",
      "  warnings.warn(\n"
     ]
    }
   ],
   "source": [
    "sdf_clf = SGDClassifier(random_state=42)\n",
    "sdf_clf_fit = sdf_clf.fit(X_train, y_train_5)\n",
    "\n",
    "y_pred = sdf_clf_fit.predict(some_digits)"
   ]
  },
  {
   "cell_type": "raw",
   "id": "94d6bcde5a82022",
   "metadata": {
    "collapsed": false,
    "jupyter": {
     "outputs_hidden": false
    }
   },
   "source": [
    "\"Accuracy\" is not often the best preferred preformace measure for classifier especially when dealing with skewed dat "
   ]
  },
  {
   "cell_type": "code",
   "execution_count": 10,
   "id": "1f0a265c82cec8b1",
   "metadata": {
    "ExecuteTime": {
     "end_time": "2024-07-20T00:58:20.524581100Z",
     "start_time": "2024-07-20T00:57:27.738816500Z"
    },
    "collapsed": false,
    "jupyter": {
     "outputs_hidden": false
    }
   },
   "outputs": [],
   "source": [
    "cross_score = cross_val_score(sdf_clf, X_train, y_train_5,cv=3, scoring=\"accuracy\") # K-folds cross validation means spliting the training set into k-folds(in this case, 5), then making prediction and evaluating them on each fold using model a model trained on the remaining folds. It reture the evaluation score"
   ]
  },
  {
   "cell_type": "code",
   "execution_count": 51,
   "id": "937d4d8aee6f2fd8",
   "metadata": {
    "ExecuteTime": {
     "end_time": "2024-07-20T02:13:36.581874900Z",
     "start_time": "2024-07-20T02:12:24.555749200Z"
    },
    "collapsed": false,
    "jupyter": {
     "outputs_hidden": false
    }
   },
   "outputs": [
    {
     "data": {
      "text/plain": [
       "array([ True, False, False, ...,  True, False, False])"
      ]
     },
     "execution_count": 51,
     "metadata": {},
     "output_type": "execute_result"
    }
   ],
   "source": [
    "y_train_pred = cross_val_predict(sdf_clf, X_train,y_train_5, cv=3) # returns the predictions made on each test fold\n",
    "y_train_pred"
   ]
  },
  {
   "cell_type": "code",
   "execution_count": 12,
   "id": "ce7db7bb4e326097",
   "metadata": {
    "ExecuteTime": {
     "end_time": "2024-07-20T00:58:54.546992300Z",
     "start_time": "2024-07-20T00:58:53.777011500Z"
    },
    "collapsed": false,
    "jupyter": {
     "outputs_hidden": false
    }
   },
   "outputs": [
    {
     "data": {
      "text/plain": [
       "array([[53892,   687],\n",
       "       [ 1891,  3530]], dtype=int64)"
      ]
     },
     "execution_count": 12,
     "metadata": {},
     "output_type": "execute_result"
    }
   ],
   "source": [
    "confusion_matrix(y_train_5, y_train_pred)"
   ]
  },
  {
   "cell_type": "markdown",
   "id": "d8b362d3a0e9bb3f",
   "metadata": {
    "collapsed": false,
    "jupyter": {
     "outputs_hidden": false
    }
   },
   "source": [
    "53892 = True Negative(TN)\n",
    "687 = False Positive(FP)\n",
    "1891 = False Negative(FN)\n",
    "3530 = True Positive(TP)\n",
    "For a perfect model our wrongly predicted value(i.e: FP and FN) should be 0. We could also try using the Precision, Recall, and F1_score\n",
    "## Mathematically \n",
    "*Precision* = TP/(TP + FP)\n",
    "*Recall* = TP/(TP + FN)\n",
    "*F1_score* = 2 × (precision × recall)/(precision + recall)\n",
    "\n"
   ]
  },
  {
   "cell_type": "code",
   "execution_count": 13,
   "id": "458435cc4c6beef0",
   "metadata": {
    "ExecuteTime": {
     "end_time": "2024-07-20T00:59:31.864815600Z",
     "start_time": "2024-07-20T00:58:54.101686600Z"
    },
    "collapsed": false,
    "jupyter": {
     "outputs_hidden": false
    }
   },
   "outputs": [],
   "source": [
    "y_scores = cross_val_predict(sdf_clf, X_train, y_train_5, cv=3, method=\"decision_function\")"
   ]
  },
  {
   "cell_type": "code",
   "execution_count": 14,
   "id": "40c39c9c4aba1b35",
   "metadata": {
    "ExecuteTime": {
     "end_time": "2024-07-20T00:59:32.123828900Z",
     "start_time": "2024-07-20T00:59:31.925835700Z"
    },
    "collapsed": false,
    "jupyter": {
     "outputs_hidden": false
    }
   },
   "outputs": [
    {
     "data": {
      "text/plain": [
       "array([  1200.93051237, -26883.79202424, -33072.03475406, ...,\n",
       "        13272.12718981,  -7258.47203373, -16877.50840447])"
      ]
     },
     "execution_count": 14,
     "metadata": {},
     "output_type": "execute_result"
    }
   ],
   "source": [
    "y_scores"
   ]
  },
  {
   "cell_type": "code",
   "execution_count": 15,
   "id": "5e46b93571905ac6",
   "metadata": {
    "ExecuteTime": {
     "end_time": "2024-07-20T00:59:32.335337800Z",
     "start_time": "2024-07-20T00:59:32.023284200Z"
    },
    "collapsed": false,
    "jupyter": {
     "outputs_hidden": false
    }
   },
   "outputs": [],
   "source": [
    "precision, recall, threshold = precision_recall_curve(y_train_5, y_scores)"
   ]
  },
  {
   "cell_type": "code",
   "execution_count": 16,
   "id": "5a8a3c3c7c4d85b1",
   "metadata": {
    "ExecuteTime": {
     "end_time": "2024-07-20T00:59:33.346531Z",
     "start_time": "2024-07-20T00:59:32.344051600Z"
    },
    "collapsed": false,
    "jupyter": {
     "outputs_hidden": false
    }
   },
   "outputs": [
    {
     "data": {
      "image/png": "[encoded data removed]",
      "text/plain": [
       "<Figure size 640x480 with 1 Axes>"
      ]
     },
     "metadata": {},
     "output_type": "display_data"
    }
   ],
   "source": [
    "def plot_precision_recall_vs_threshold(precision, recall, threshold):\n",
    "    plt.plot(threshold, precision[:-1], 'b--', label = \"Precision\")\n",
    "    plt.plot(threshold, recall[:-1], \"-g\", label=\"Recall\")\n",
    "    plt.xlabel(\"Threshold\")\n",
    "    plt.autoscale()\n",
    "    plt.grid(visible=True)\n",
    "    plt.legend()\n",
    "    \n",
    "plot_precision_recall_vs_threshold(precision,recall, threshold)\n",
    "plt.show()"
   ]
  },
  {
   "cell_type": "markdown",
   "id": "9fe065142fd3b31",
   "metadata": {
    "ExecuteTime": {
     "start_time": "2024-07-19T12:18:32.977406500Z"
    },
    "collapsed": false,
    "jupyter": {
     "outputs_hidden": false
    }
   },
   "source": [
    "From the plot: why the precision plot is bumpier is because Precision tends to go down when you increase the threshold. On the other hand, recall can only go down when the threshold is increased, which explains why its curve looks smooth "
   ]
  },
  {
   "cell_type": "code",
   "execution_count": 17,
   "id": "3351de1dd209dd0d",
   "metadata": {
    "ExecuteTime": {
     "end_time": "2024-07-20T00:59:34.197345700Z",
     "start_time": "2024-07-20T00:59:33.345528600Z"
    },
    "collapsed": false,
    "jupyter": {
     "outputs_hidden": false
    }
   },
   "outputs": [
    {
     "data": {
      "image/png": "[encoded data removed]",
      "text/plain": [
       "<Figure size 640x480 with 1 Axes>"
      ]
     },
     "metadata": {},
     "output_type": "display_data"
    }
   ],
   "source": [
    "plt.plot(recall,precision,scalex=True)\n",
    "plt.ylabel('Precision')\n",
    "plt.xlabel('Recall')\n",
    "plt.grid(visible=True)"
   ]
  },
  {
   "cell_type": "markdown",
   "id": "551d21cdfba4ff0b",
   "metadata": {
    "ExecuteTime": {
     "start_time": "2024-07-19T12:18:34.036125200Z"
    },
    "collapsed": false,
    "jupyter": {
     "outputs_hidden": false
    }
   },
   "source": [
    "Supposedly we are looking for 95% precision from our model we will use the following"
   ]
  },
  {
   "cell_type": "code",
   "execution_count": 18,
   "id": "5545e6244bc046a1",
   "metadata": {
    "ExecuteTime": {
     "end_time": "2024-07-20T00:59:34.198345200Z",
     "start_time": "2024-07-20T00:59:33.880150Z"
    },
    "collapsed": false,
    "jupyter": {
     "outputs_hidden": false
    }
   },
   "outputs": [],
   "source": [
    "threshold_95_precision = threshold[np.argmax(precision >= 0.95)]"
   ]
  },
  {
   "cell_type": "code",
   "execution_count": 19,
   "id": "c9e192b70357cb58",
   "metadata": {
    "ExecuteTime": {
     "end_time": "2024-07-20T00:59:34.198345200Z",
     "start_time": "2024-07-20T00:59:33.916181200Z"
    },
    "collapsed": false,
    "jupyter": {
     "outputs_hidden": false
    }
   },
   "outputs": [],
   "source": [
    "y_train_pred_95 = (y_scores >= threshold_95_precision)\n"
   ]
  },
  {
   "cell_type": "code",
   "execution_count": 20,
   "id": "95021fd623c1295e",
   "metadata": {
    "ExecuteTime": {
     "end_time": "2024-07-20T00:59:34.634661200Z",
     "start_time": "2024-07-20T00:59:34.272179300Z"
    },
    "collapsed": false,
    "jupyter": {
     "outputs_hidden": false
    }
   },
   "outputs": [
    {
     "data": {
      "text/plain": [
       "0.9503367003367004"
      ]
     },
     "execution_count": 20,
     "metadata": {},
     "output_type": "execute_result"
    }
   ],
   "source": [
    "precision_score(y_train_5, y_train_pred_95) # Now we've acheived a 95% precision score for our model"
   ]
  },
  {
   "cell_type": "code",
   "execution_count": 21,
   "id": "ef0ae49cf65ede46",
   "metadata": {
    "ExecuteTime": {
     "end_time": "2024-07-20T00:59:34.880074700Z",
     "start_time": "2024-07-20T00:59:34.560125600Z"
    },
    "collapsed": false,
    "jupyter": {
     "outputs_hidden": false
    }
   },
   "outputs": [
    {
     "data": {
      "text/plain": [
       "0.20826415790444566"
      ]
     },
     "execution_count": 21,
     "metadata": {},
     "output_type": "execute_result"
    }
   ],
   "source": [
    "recall_score(y_train_5, y_train_pred_95) # Note that our recall score is very poor with 20.8% score. Which quantify this 'A high-precision classifier is not very useful if its recall is too low'"
   ]
  },
  {
   "cell_type": "markdown",
   "id": "aed2d3738a3ecd01",
   "metadata": {
    "ExecuteTime": {
     "start_time": "2024-07-19T12:18:34.971744700Z"
    },
    "collapsed": false,
    "jupyter": {
     "outputs_hidden": false
    }
   },
   "source": [
    "# ROC Curve And ROC AUC "
   ]
  },
  {
   "cell_type": "code",
   "execution_count": 22,
   "id": "773c578fdf3743f9",
   "metadata": {
    "ExecuteTime": {
     "end_time": "2024-07-20T00:59:35.060283500Z",
     "start_time": "2024-07-20T00:59:34.704698Z"
    },
    "collapsed": false,
    "jupyter": {
     "outputs_hidden": false
    }
   },
   "outputs": [],
   "source": [
    "fpr, tpr, thresholds = roc_curve(y_train_5, y_scores)"
   ]
  },
  {
   "cell_type": "code",
   "execution_count": 23,
   "id": "ae435d6fb1c4e935",
   "metadata": {
    "ExecuteTime": {
     "end_time": "2024-07-20T00:59:35.498130800Z",
     "start_time": "2024-07-20T00:59:35.032401800Z"
    },
    "collapsed": false,
    "jupyter": {
     "outputs_hidden": false
    }
   },
   "outputs": [],
   "source": [
    "def plot_roc_curve(fpr, tpr, label=None):\n",
    "    plt.plot(fpr,tpr, label=label)\n",
    "    plt.plot([0,1], [0,1], 'b--')\n",
    "    plt.legend()\n",
    "    plt.xlabel(\"False Positive Rate\")\n",
    "    plt.ylabel(\"True Positive Rate(Recall)\")"
   ]
  },
  {
   "cell_type": "code",
   "execution_count": 24,
   "id": "793f8814caadb677",
   "metadata": {
    "ExecuteTime": {
     "end_time": "2024-07-20T00:59:35.897469600Z",
     "start_time": "2024-07-20T00:59:35.186501200Z"
    },
    "collapsed": false,
    "jupyter": {
     "outputs_hidden": false
    }
   },
   "outputs": [
    {
     "name": "stderr",
     "output_type": "stream",
     "text": [
      "No artists with labels found to put in legend.  Note that artists whose label start with an underscore are ignored when legend() is called with no argument.\n"
     ]
    },
    {
     "data": {
      "image/png": "[encoded data removed]",
      "text/plain": [
       "<Figure size 640x480 with 1 Axes>"
      ]
     },
     "metadata": {},
     "output_type": "display_data"
    }
   ],
   "source": [
    "plot_roc_curve(fpr,tpr)"
   ]
  },
  {
   "cell_type": "code",
   "execution_count": 25,
   "id": "1f3bec65571f51b1",
   "metadata": {
    "ExecuteTime": {
     "end_time": "2024-07-20T00:59:36.084852100Z",
     "start_time": "2024-07-20T00:59:35.900474300Z"
    },
    "collapsed": false,
    "jupyter": {
     "outputs_hidden": false
    }
   },
   "outputs": [
    {
     "data": {
      "text/plain": [
       "0.9604938554008616"
      ]
     },
     "execution_count": 25,
     "metadata": {},
     "output_type": "execute_result"
    }
   ],
   "source": [
    "roc_auc_score(y_train_5,y_scores)"
   ]
  },
  {
   "cell_type": "markdown",
   "id": "8829dcb727492cc7",
   "metadata": {
    "ExecuteTime": {
     "start_time": "2024-07-19T12:18:35.721808600Z"
    },
    "collapsed": false,
    "jupyter": {
     "outputs_hidden": false
    }
   },
   "source": [
    "When do will Decide when to use precision/recall curve or AUC Curve is whenever the positive class is rare or when you care more about the false positives than the false negatives, and the ROC curve otherwise"
   ]
  },
  {
   "cell_type": "markdown",
   "id": "41cba2cbe6c25326",
   "metadata": {
    "ExecuteTime": {
     "start_time": "2024-07-19T12:18:36.219833300Z"
    },
    "collapsed": false,
    "jupyter": {
     "outputs_hidden": false
    }
   },
   "source": [
    "*Let's try and train a new model and compare both the ruc cuve with the old model*"
   ]
  },
  {
   "cell_type": "code",
   "execution_count": 26,
   "id": "edc319242edbe4fe",
   "metadata": {
    "ExecuteTime": {
     "end_time": "2024-07-20T01:05:06.159623100Z",
     "start_time": "2024-07-20T00:59:36.079854100Z"
    },
    "collapsed": false,
    "jupyter": {
     "outputs_hidden": false
    }
   },
   "outputs": [],
   "source": [
    "forest_clf = RandomForestClassifier(random_state=42)\n",
    "\n",
    "y_probas_forest = cross_val_predict(forest_clf, X_train, y_train_5, method='predict_proba')"
   ]
  },
  {
   "cell_type": "code",
   "execution_count": 27,
   "id": "c5690bd366cc2e3",
   "metadata": {
    "ExecuteTime": {
     "end_time": "2024-07-20T01:05:06.187023100Z",
     "start_time": "2024-07-20T01:05:06.160623100Z"
    },
    "collapsed": false,
    "jupyter": {
     "outputs_hidden": false
    }
   },
   "outputs": [
    {
     "data": {
      "text/plain": [
       "array([[0.14, 0.86],\n",
       "       [0.99, 0.01],\n",
       "       [0.98, 0.02],\n",
       "       ...,\n",
       "       [0.01, 0.99],\n",
       "       [0.96, 0.04],\n",
       "       [0.96, 0.04]])"
      ]
     },
     "execution_count": 27,
     "metadata": {},
     "output_type": "execute_result"
    }
   ],
   "source": [
    "y_probas_forest"
   ]
  },
  {
   "cell_type": "code",
   "execution_count": 28,
   "id": "a47e05eead515748",
   "metadata": {
    "ExecuteTime": {
     "end_time": "2024-07-20T01:05:07.062168500Z",
     "start_time": "2024-07-20T01:05:06.180026300Z"
    },
    "collapsed": false,
    "jupyter": {
     "outputs_hidden": false
    }
   },
   "outputs": [
    {
     "data": {
      "text/plain": [
       "<matplotlib.legend.Legend at 0x1be3bda6e50>"
      ]
     },
     "execution_count": 28,
     "metadata": {},
     "output_type": "execute_result"
    },
    {
     "data": {
      "image/png": "[encoded data removed]",
      "text/plain": [
       "<Figure size 640x480 with 1 Axes>"
      ]
     },
     "metadata": {},
     "output_type": "display_data"
    }
   ],
   "source": [
    "y_scores_forest = y_probas_forest[:,1]\n",
    "fpr_forest, tpr_forest, thresholds_forest = roc_curve(y_train_5,y_scores_forest)\n",
    "\n",
    "plt.plot(fpr_forest, tpr_forest, 'b:', label='RandomForest')\n",
    "plot_roc_curve(fpr, tpr, label='SDG')\n",
    "plt.legend()"
   ]
  },
  {
   "cell_type": "code",
   "execution_count": 29,
   "id": "151da35f5b5ff93e",
   "metadata": {
    "ExecuteTime": {
     "end_time": "2024-07-20T01:05:07.063171Z",
     "start_time": "2024-07-20T01:05:07.007477900Z"
    },
    "collapsed": false,
    "jupyter": {
     "outputs_hidden": false
    }
   },
   "outputs": [
    {
     "data": {
      "text/plain": [
       "0.998402186461512"
      ]
     },
     "execution_count": 29,
     "metadata": {},
     "output_type": "execute_result"
    }
   ],
   "source": [
    "roc_auc_score(y_train_5, y_scores_forest)"
   ]
  },
  {
   "cell_type": "code",
   "execution_count": 30,
   "id": "6e9783e209c9713d",
   "metadata": {
    "ExecuteTime": {
     "end_time": "2024-07-20T01:05:07.587322900Z",
     "start_time": "2024-07-20T01:05:07.045541200Z"
    },
    "collapsed": false,
    "jupyter": {
     "outputs_hidden": false
    }
   },
   "outputs": [
    {
     "data": {
      "text/plain": [
       "0.8791735842095554"
      ]
     },
     "execution_count": 30,
     "metadata": {},
     "output_type": "execute_result"
    }
   ],
   "source": [
    "y_pred_forest = y_scores_forest >= 0.5\n",
    "\n",
    "precision_score(y_train_5, y_pred_forest) # 99% precision score \n",
    "recall_score(y_train_5, y_pred_forest) # 87.9% recall score"
   ]
  },
  {
   "cell_type": "code",
   "execution_count": 31,
   "id": "db17ac093d8d02e3",
   "metadata": {
    "ExecuteTime": {
     "end_time": "2024-07-20T01:05:07.751589900Z",
     "start_time": "2024-07-20T01:05:07.395776900Z"
    },
    "collapsed": false,
    "jupyter": {
     "outputs_hidden": false
    }
   },
   "outputs": [
    {
     "data": {
      "text/plain": [
       "array([[54533,    46],\n",
       "       [  655,  4766]], dtype=int64)"
      ]
     },
     "execution_count": 31,
     "metadata": {},
     "output_type": "execute_result"
    }
   ],
   "source": [
    "confusion_matrix(y_train_5, y_pred_forest)"
   ]
  },
  {
   "cell_type": "markdown",
   "id": "b6186dc6e9002b1b",
   "metadata": {
    "collapsed": false,
    "jupyter": {
     "outputs_hidden": false
    }
   },
   "source": [
    "# Multiclass Model"
   ]
  },
  {
   "cell_type": "markdown",
   "id": "605285f5a15b2184",
   "metadata": {
    "collapsed": false,
    "jupyter": {
     "outputs_hidden": false
    }
   },
   "source": [
    "## Multiclass Classifier is also known as Multinomial Classifier\n",
    "\n",
    "Some algorithms (such as Random Forest classifiers or naive Bayes classifiers) are capable of handling multiple classes directly. Others (such as Support Vector Machine(SVM) classifiers or Linear classifiers) are strictly binary classifiers. But if we want to use Binary Classifier we can achieve that by training the model on each instance(0-9).Then, when you want to classify an image, you get the decision score from each classifier for that image, and you select the class whose classifier outputs the highest score. This is called the one-versus-all (OvA) strategy (also called one-versus-the-rest)\n"
   ]
  },
  {
   "cell_type": "code",
   "execution_count": 32,
   "id": "2cff1cb9ced342c2",
   "metadata": {
    "ExecuteTime": {
     "end_time": "2024-07-20T01:08:39.445132500Z",
     "start_time": "2024-07-20T01:05:07.655765300Z"
    },
    "collapsed": false,
    "jupyter": {
     "outputs_hidden": false
    }
   },
   "outputs": [
    {
     "data": {
      "text/html": [
       "<style>#sk-container-id-1 {color: black;}#sk-container-id-1 pre{padding: 0;}#sk-container-id-1 div.sk-toggleable {background-color: white;}#sk-container-id-1 label.sk-toggleable__label {cursor: pointer;display: block;width: 100%;margin-bottom: 0;padding: 0.3em;box-sizing: border-box;text-align: center;}#sk-container-id-1 label.sk-toggleable__label-arrow:before {content: \"▸\";float: left;margin-right: 0.25em;color: #696969;}#sk-container-id-1 label.sk-toggleable__label-arrow:hover:before {color: black;}#sk-container-id-1 div.sk-estimator:hover label.sk-toggleable__label-arrow:before {color: black;}#sk-container-id-1 div.sk-toggleable__content {max-height: 0;max-width: 0;overflow: hidden;text-align: left;background-color: #f0f8ff;}#sk-container-id-1 div.sk-toggleable__content pre {margin: 0.2em;color: black;border-radius: 0.25em;background-color: #f0f8ff;}#sk-container-id-1 input.sk-toggleable__control:checked~div.sk-toggleable__content {max-height: 200px;max-width: 100%;overflow: auto;}#sk-container-id-1 input.sk-toggleable__control:checked~label.sk-toggleable__label-arrow:before {content: \"▾\";}#sk-container-id-1 div.sk-estimator input.sk-toggleable__control:checked~label.sk-toggleable__label {background-color: #d4ebff;}#sk-container-id-1 div.sk-label input.sk-toggleable__control:checked~label.sk-toggleable__label {background-color: #d4ebff;}#sk-container-id-1 input.sk-hidden--visually {border: 0;clip: rect(1px 1px 1px 1px);clip: rect(1px, 1px, 1px, 1px);height: 1px;margin: -1px;overflow: hidden;padding: 0;position: absolute;width: 1px;}#sk-container-id-1 div.sk-estimator {font-family: monospace;background-color: #f0f8ff;border: 1px dotted black;border-radius: 0.25em;box-sizing: border-box;margin-bottom: 0.5em;}#sk-container-id-1 div.sk-estimator:hover {background-color: #d4ebff;}#sk-container-id-1 div.sk-parallel-item::after {content: \"\";width: 100%;border-bottom: 1px solid gray;flex-grow: 1;}#sk-container-id-1 div.sk-label:hover label.sk-toggleable__label {background-color: #d4ebff;}#sk-container-id-1 div.sk-serial::before {content: \"\";position: absolute;border-left: 1px solid gray;box-sizing: border-box;top: 0;bottom: 0;left: 50%;z-index: 0;}#sk-container-id-1 div.sk-serial {display: flex;flex-direction: column;align-items: center;background-color: white;padding-right: 0.2em;padding-left: 0.2em;position: relative;}#sk-container-id-1 div.sk-item {position: relative;z-index: 1;}#sk-container-id-1 div.sk-parallel {display: flex;align-items: stretch;justify-content: center;background-color: white;position: relative;}#sk-container-id-1 div.sk-item::before, #sk-container-id-1 div.sk-parallel-item::before {content: \"\";position: absolute;border-left: 1px solid gray;box-sizing: border-box;top: 0;bottom: 0;left: 50%;z-index: -1;}#sk-container-id-1 div.sk-parallel-item {display: flex;flex-direction: column;z-index: 1;position: relative;background-color: white;}#sk-container-id-1 div.sk-parallel-item:first-child::after {align-self: flex-end;width: 50%;}#sk-container-id-1 div.sk-parallel-item:last-child::after {align-self: flex-start;width: 50%;}#sk-container-id-1 div.sk-parallel-item:only-child::after {width: 0;}#sk-container-id-1 div.sk-dashed-wrapped {border: 1px dashed gray;margin: 0 0.4em 0.5em 0.4em;box-sizing: border-box;padding-bottom: 0.4em;background-color: white;}#sk-container-id-1 div.sk-label label {font-family: monospace;font-weight: bold;display: inline-block;line-height: 1.2em;}#sk-container-id-1 div.sk-label-container {text-align: center;}#sk-container-id-1 div.sk-container {/* jupyter's `normalize.less` sets `[hidden] { display: none; }` but bootstrap.min.css set `[hidden] { display: none !important; }` so we also need the `!important` here to be able to override the default hidden behavior on the sphinx rendered scikit-learn.org. See: https://github.com/scikit-learn/scikit-learn/issues/21755 */display: inline-block !important;position: relative;}#sk-container-id-1 div.sk-text-repr-fallback {display: none;}</style><div id=\"sk-container-id-1\" class=\"sk-top-container\"><div class=\"sk-text-repr-fallback\"><pre>SGDClassifier(random_state=42)</pre><b>In a Jupyter environment, please rerun this cell to show the HTML representation or trust the notebook. <br />On GitHub, the HTML representation is unable to render, please try loading this page with nbviewer.org.</b></div><div class=\"sk-container\" hidden><div class=\"sk-item\"><div class=\"sk-estimator sk-toggleable\"><input class=\"sk-toggleable__control sk-hidden--visually\" id=\"sk-estimator-id-1\" type=\"checkbox\" checked><label for=\"sk-estimator-id-1\" class=\"sk-toggleable__label sk-toggleable__label-arrow\">SGDClassifier</label><div class=\"sk-toggleable__content\"><pre>SGDClassifier(random_state=42)</pre></div></div></div></div></div>"
      ],
      "text/plain": [
       "SGDClassifier(random_state=42)"
      ]
     },
     "execution_count": 32,
     "metadata": {},
     "output_type": "execute_result"
    }
   ],
   "source": [
    "sdf_clf.fit(X_train,y_train)"
   ]
  },
  {
   "cell_type": "code",
   "execution_count": 33,
   "id": "fc2b581bdc3073b6",
   "metadata": {
    "ExecuteTime": {
     "end_time": "2024-07-20T01:08:39.687289100Z",
     "start_time": "2024-07-20T01:08:39.442061100Z"
    },
    "collapsed": false,
    "jupyter": {
     "outputs_hidden": false
    }
   },
   "outputs": [
    {
     "name": "stderr",
     "output_type": "stream",
     "text": [
      "C:\\Python311\\Lib\\site-packages\\sklearn\\base.py:465: UserWarning: X does not have valid feature names, but SGDClassifier was fitted with feature names\n",
      "  warnings.warn(\n"
     ]
    },
    {
     "data": {
      "text/plain": [
       "array([3], dtype=uint8)"
      ]
     },
     "execution_count": 33,
     "metadata": {},
     "output_type": "execute_result"
    }
   ],
   "source": [
    "sdf_clf.predict(some_digits)"
   ]
  },
  {
   "cell_type": "code",
   "execution_count": 34,
   "id": "f247fff69b16f5c6",
   "metadata": {
    "ExecuteTime": {
     "end_time": "2024-07-20T01:08:40.032022200Z",
     "start_time": "2024-07-20T01:08:39.648103500Z"
    },
    "collapsed": false,
    "jupyter": {
     "outputs_hidden": false
    }
   },
   "outputs": [
    {
     "name": "stderr",
     "output_type": "stream",
     "text": [
      "C:\\Python311\\Lib\\site-packages\\sklearn\\base.py:465: UserWarning: X does not have valid feature names, but SGDClassifier was fitted with feature names\n",
      "  warnings.warn(\n"
     ]
    },
    {
     "data": {
      "text/plain": [
       "array([[-31893.03095419, -34419.69069632,  -9530.63950739,\n",
       "          1823.73154031, -22320.14822878,  -1385.80478895,\n",
       "        -26188.91070951, -16147.51323997,  -4604.35491274,\n",
       "        -12050.767298  ]])"
      ]
     },
     "execution_count": 34,
     "metadata": {},
     "output_type": "execute_result"
    }
   ],
   "source": [
    "some_digits_score = sdf_clf.decision_function(some_digits)\n",
    "\n",
    "some_digits_score"
   ]
  },
  {
   "cell_type": "code",
   "execution_count": 35,
   "id": "61db06f93489e537",
   "metadata": {
    "ExecuteTime": {
     "end_time": "2024-07-20T01:08:40.773806900Z",
     "start_time": "2024-07-20T01:08:40.010505Z"
    },
    "collapsed": false,
    "jupyter": {
     "outputs_hidden": false
    }
   },
   "outputs": [
    {
     "data": {
      "text/plain": [
       "3"
      ]
     },
     "execution_count": 35,
     "metadata": {},
     "output_type": "execute_result"
    }
   ],
   "source": [
    "np.argmax(some_digits_score)"
   ]
  },
  {
   "cell_type": "code",
   "execution_count": 36,
   "id": "41debbad1ad485ec",
   "metadata": {
    "ExecuteTime": {
     "end_time": "2024-07-20T01:08:41.181505900Z",
     "start_time": "2024-07-20T01:08:40.719389300Z"
    },
    "collapsed": false,
    "jupyter": {
     "outputs_hidden": false
    }
   },
   "outputs": [
    {
     "name": "stdout",
     "output_type": "stream",
     "text": [
      "[0 1 2 3 4 5 6 7 8 9]\n",
      "3\n"
     ]
    }
   ],
   "source": [
    "print(sdf_clf.classes_)\n",
    "print(sdf_clf.classes_[3])"
   ]
  },
  {
   "cell_type": "markdown",
   "id": "b08411354e97a783",
   "metadata": {
    "collapsed": false,
    "jupyter": {
     "outputs_hidden": false
    }
   },
   "source": [
    "If you want to force Scikit learn to use  one-versus-one(OvO) or one-versus-all(OvA) you can explicitly call them.\n",
    "* One-versus-One: This is compared agaist every class. This results in a binary classifier for each pair of classses. Example:\n",
    "Classifier 1: Class A vs Class B\n",
    "Classifier 1: Class A vs Class C\n",
    "Classifier 1: Class B vs Class C\n",
    "\n",
    "\n",
    "\n",
    "* One-versus-All: Each classes is compared against all other classes. Example\n",
    "Classifier 1: Class A vs (Class B + Class C)\n",
    "Classifier 2: Class B vs (Class A + Class C)\n",
    "Classifier 1: Class C vs (Class A + Class B)\n",
    "\n",
    "*OvO may perform better but may require computational complexity*"
   ]
  },
  {
   "cell_type": "code",
   "execution_count": 37,
   "id": "19c22b7f1a286fa8",
   "metadata": {
    "ExecuteTime": {
     "end_time": "2024-07-20T01:10:08.674193700Z",
     "start_time": "2024-07-20T01:08:41.175106Z"
    },
    "collapsed": false,
    "jupyter": {
     "outputs_hidden": false
    }
   },
   "outputs": [
    {
     "name": "stderr",
     "output_type": "stream",
     "text": [
      "C:\\Python311\\Lib\\site-packages\\sklearn\\base.py:465: UserWarning: X does not have valid feature names, but OneVsOneClassifier was fitted with feature names\n",
      "  warnings.warn(\n"
     ]
    },
    {
     "data": {
      "text/plain": [
       "array([5], dtype=uint8)"
      ]
     },
     "execution_count": 37,
     "metadata": {},
     "output_type": "execute_result"
    }
   ],
   "source": [
    "ovo_clf = OneVsOneClassifier(SGDClassifier(random_state=42))\n",
    "ovo_clf.fit(X_train,y_train)\n",
    "ovo_clf.predict(some_digits)"
   ]
  },
  {
   "cell_type": "code",
   "execution_count": 38,
   "id": "737f7efa51b8918c",
   "metadata": {
    "ExecuteTime": {
     "end_time": "2024-07-20T01:10:08.709544600Z",
     "start_time": "2024-07-20T01:10:08.672214500Z"
    },
    "collapsed": false,
    "jupyter": {
     "outputs_hidden": false
    }
   },
   "outputs": [
    {
     "data": {
      "text/plain": [
       "45"
      ]
     },
     "execution_count": 38,
     "metadata": {},
     "output_type": "execute_result"
    }
   ],
   "source": [
    "len(ovo_clf.estimators_)"
   ]
  },
  {
   "cell_type": "code",
   "execution_count": 39,
   "id": "b0bdd591ab8f30e3",
   "metadata": {
    "ExecuteTime": {
     "end_time": "2024-07-20T01:10:16.110407800Z",
     "start_time": "2024-07-20T01:10:08.688937500Z"
    },
    "collapsed": false,
    "jupyter": {
     "outputs_hidden": false
    }
   },
   "outputs": [
    {
     "name": "stderr",
     "output_type": "stream",
     "text": [
      "C:\\Python311\\Lib\\site-packages\\sklearn\\base.py:465: UserWarning: X does not have valid feature names, but OneVsOneClassifier was fitted with feature names\n",
      "  warnings.warn(\n"
     ]
    },
    {
     "data": {
      "text/plain": [
       "5"
      ]
     },
     "execution_count": 39,
     "metadata": {},
     "output_type": "execute_result"
    }
   ],
   "source": [
    "ovo_score = ovo_clf.decision_function(some_digits)\n",
    "np.argmax(ovo_score)"
   ]
  },
  {
   "cell_type": "code",
   "execution_count": 40,
   "id": "b63716e2687ff522",
   "metadata": {
    "ExecuteTime": {
     "end_time": "2024-07-20T01:12:37.001359300Z",
     "start_time": "2024-07-20T01:10:16.100043700Z"
    },
    "collapsed": false,
    "jupyter": {
     "outputs_hidden": false
    }
   },
   "outputs": [
    {
     "name": "stderr",
     "output_type": "stream",
     "text": [
      "C:\\Python311\\Lib\\site-packages\\sklearn\\base.py:465: UserWarning: X does not have valid feature names, but RandomForestClassifier was fitted with feature names\n",
      "  warnings.warn(\n"
     ]
    },
    {
     "data": {
      "text/plain": [
       "array([[0.  , 0.  , 0.01, 0.08, 0.  , 0.9 , 0.  , 0.  , 0.  , 0.01]])"
      ]
     },
     "execution_count": 40,
     "metadata": {},
     "output_type": "execute_result"
    }
   ],
   "source": [
    "forest_clf.fit(X_train, y_train)\n",
    "forest_clf.predict_proba(some_digits) # RandomForest can easily classify instances on multiple classes"
   ]
  },
  {
   "cell_type": "markdown",
   "id": "1afbefae7c1b2ee6",
   "metadata": {
    "collapsed": false,
    "jupyter": {
     "outputs_hidden": false
    }
   },
   "source": [
    "Now let's evaluate our Multiclass model using accuracy"
   ]
  },
  {
   "cell_type": "code",
   "execution_count": 41,
   "id": "3758706f92b4b341",
   "metadata": {
    "ExecuteTime": {
     "end_time": "2024-07-20T01:18:14.867324100Z",
     "start_time": "2024-07-20T01:12:37.009365200Z"
    },
    "collapsed": false,
    "jupyter": {
     "outputs_hidden": false
    }
   },
   "outputs": [
    {
     "data": {
      "text/plain": [
       "array([0.87365, 0.85835, 0.8689 ])"
      ]
     },
     "execution_count": 41,
     "metadata": {},
     "output_type": "execute_result"
    }
   ],
   "source": [
    "cross_val_score(sdf_clf, X_train, y_train, cv=3, scoring='accuracy')"
   ]
  },
  {
   "cell_type": "markdown",
   "id": "dac931b4da97c017",
   "metadata": {
    "collapsed": false,
    "jupyter": {
     "outputs_hidden": false
    }
   },
   "source": [
    "Let's Scale our training set and measure it accuracy"
   ]
  },
  {
   "cell_type": "code",
   "execution_count": 14,
   "id": "c0a1d55efdb7b879",
   "metadata": {
    "ExecuteTime": {
     "end_time": "2024-07-20T01:18:17.341881Z",
     "start_time": "2024-07-20T01:18:14.946112700Z"
    },
    "collapsed": false,
    "jupyter": {
     "outputs_hidden": false
    }
   },
   "outputs": [],
   "source": [
    "scaler = StandardScaler()\n",
    "\n",
    "X_train_scaled = scaler.fit_transform(X_train)"
   ]
  },
  {
   "cell_type": "code",
   "execution_count": 21,
   "id": "24e4d71ed8970caf",
   "metadata": {
    "ExecuteTime": {
     "end_time": "2024-07-20T01:25:08.665322900Z",
     "start_time": "2024-07-20T01:18:17.342883700Z"
    },
    "collapsed": false,
    "jupyter": {
     "outputs_hidden": false
    }
   },
   "outputs": [
    {
     "ename": "NameError",
     "evalue": "name 'sdf_clf' is not defined",
     "output_type": "error",
     "traceback": [
      "\u001b[1;31m---------------------------------------------------------------------------\u001b[0m",
      "\u001b[1;31mNameError\u001b[0m                                 Traceback (most recent call last)",
      "Cell \u001b[1;32mIn[21], line 1\u001b[0m\n\u001b[1;32m----> 1\u001b[0m cross_val_score(\u001b[43msdf_clf\u001b[49m, X_train_scaled, y_train, cv\u001b[38;5;241m=\u001b[39m\u001b[38;5;241m2\u001b[39m, scoring\u001b[38;5;241m=\u001b[39m\u001b[38;5;124m'\u001b[39m\u001b[38;5;124maccuracy\u001b[39m\u001b[38;5;124m'\u001b[39m)\n",
      "\u001b[1;31mNameError\u001b[0m: name 'sdf_clf' is not defined"
     ]
    }
   ],
   "source": [
    "cross_val_score(sdf_clf, X_train_scaled, y_train, cv=2, scoring='accuracy')"
   ]
  },
  {
   "cell_type": "markdown",
   "id": "67e9f065c89882df",
   "metadata": {
    "collapsed": false,
    "jupyter": {
     "outputs_hidden": false
    }
   },
   "source": [
    "## Error Analysis"
   ]
  },
  {
   "cell_type": "code",
   "execution_count": 44,
   "id": "e49ee94aed089ba7",
   "metadata": {
    "ExecuteTime": {
     "end_time": "2024-07-20T01:32:07.179742300Z",
     "start_time": "2024-07-20T01:25:08.641543900Z"
    },
    "collapsed": false,
    "jupyter": {
     "outputs_hidden": false
    }
   },
   "outputs": [
    {
     "name": "stderr",
     "output_type": "stream",
     "text": [
      "C:\\Python311\\Lib\\site-packages\\sklearn\\linear_model\\_stochastic_gradient.py:713: ConvergenceWarning: Maximum number of iteration reached before convergence. Consider increasing max_iter to improve the fit.\n",
      "  warnings.warn(\n"
     ]
    },
    {
     "data": {
      "text/plain": [
       "array([[5601,    0,   26,    7,   11,   53,   39,    6,  179,    1],\n",
       "       [   0, 6427,   45,   21,    4,   48,    4,   11,  171,   11],\n",
       "       [  31,   32, 5279,   90,   65,   25,   74,   46,  303,   13],\n",
       "       [  29,   24,  125, 5238,    2,  224,   26,   45,  337,   81],\n",
       "       [  15,   14,   52,   12, 5246,   10,   39,   24,  262,  168],\n",
       "       [  33,   17,   32,  173,   50, 4486,   79,   23,  452,   76],\n",
       "       [  29,   19,   46,    2,   48,   95, 5560,    5,  113,    1],\n",
       "       [  18,   12,   58,   27,   53,    9,    4, 5731,  130,  223],\n",
       "       [  19,   67,   57,   82,    4,  122,   31,   10, 5395,   64],\n",
       "       [  22,   17,   36,   62,  133,   28,    1,  182,  287, 5181]],\n",
       "      dtype=int64)"
      ]
     },
     "execution_count": 44,
     "metadata": {},
     "output_type": "execute_result"
    }
   ],
   "source": [
    "y_train_pred_scaled = cross_val_predict(sdf_clf, X_train_scaled, y_train, cv = 2)\n",
    "\n",
    "conf_mx = confusion_matrix(y_train, y_train_pred_scaled)\n",
    "conf_mx"
   ]
  },
  {
   "cell_type": "markdown",
   "id": "79a9bbc818f90690",
   "metadata": {
    "collapsed": false,
    "jupyter": {
     "outputs_hidden": false
    }
   },
   "source": [
    "It’s often more convenient to look at an image representation of the confusion matrix, using Matplotlib’s 'matshow()' function"
   ]
  },
  {
   "cell_type": "code",
   "execution_count": 45,
   "id": "8772d15ed4046ddf",
   "metadata": {
    "ExecuteTime": {
     "end_time": "2024-07-20T01:32:09.725831700Z",
     "start_time": "2024-07-20T01:32:07.136083Z"
    },
    "collapsed": false,
    "jupyter": {
     "outputs_hidden": false
    }
   },
   "outputs": [
    {
     "data": {
      "image/png": "[encoded data removed]",
      "text/plain": [
       "<Figure size 480x480 with 1 Axes>"
      ]
     },
     "metadata": {},
     "output_type": "display_data"
    }
   ],
   "source": [
    "plt.matshow(conf_mx)\n",
    "plt.show()"
   ]
  },
  {
   "cell_type": "code",
   "execution_count": 46,
   "id": "2d424d77373d59eb",
   "metadata": {
    "ExecuteTime": {
     "end_time": "2024-07-20T01:32:09.976323600Z",
     "start_time": "2024-07-20T01:32:09.729567800Z"
    },
    "collapsed": false,
    "jupyter": {
     "outputs_hidden": false
    }
   },
   "outputs": [],
   "source": [
    "row_sum = conf_mx.sum(axis=1, keepdims=True)\n",
    "norm_conf_mx = conf_mx / row_sum"
   ]
  },
  {
   "cell_type": "code",
   "execution_count": 50,
   "id": "3d675c107192af89",
   "metadata": {
    "ExecuteTime": {
     "end_time": "2024-07-20T01:46:00.819592200Z",
     "start_time": "2024-07-20T01:45:57.172440900Z"
    },
    "collapsed": false,
    "jupyter": {
     "outputs_hidden": false
    }
   },
   "outputs": [
    {
     "data": {
      "image/png": "[encoded data removed]",
      "text/plain": [
       "<Figure size 480x480 with 1 Axes>"
      ]
     },
     "metadata": {},
     "output_type": "display_data"
    }
   ],
   "source": [
    "np.fill_diagonal(norm_conf_mx, 0)\n",
    "plt.matshow(norm_conf_mx)\n",
    "plt.show()"
   ]
  },
  {
   "cell_type": "code",
   "execution_count": 48,
   "id": "b92fadc164f6c88c",
   "metadata": {
    "ExecuteTime": {
     "end_time": "2024-07-20T01:32:13.111110200Z",
     "start_time": "2024-07-20T01:32:11.244029400Z"
    },
    "collapsed": false,
    "jupyter": {
     "outputs_hidden": false
    }
   },
   "outputs": [],
   "source": [
    "cl_a, cl_b = 3, 5\n",
    "X_aa = X_train[(y_train == cl_a) & (y_train_pred == cl_a)]\n",
    "X_ab = X_train[(y_train == cl_a) & (y_train_pred == cl_b)]\n",
    "X_ba = X_train[(y_train == cl_b) & (y_train_pred == cl_a)]\n",
    "X_bb = X_train[(y_train == cl_b) & (y_train_pred == cl_b)]"
   ]
  },
  {
   "cell_type": "code",
   "execution_count": 49,
   "id": "306f8862fb6e8443",
   "metadata": {
    "ExecuteTime": {
     "end_time": "2024-07-20T01:34:47.561387Z",
     "start_time": "2024-07-20T01:32:13.185421100Z"
    },
    "collapsed": false,
    "jupyter": {
     "outputs_hidden": false
    }
   },
   "outputs": [
    {
     "ename": "NameError",
     "evalue": "name 'plot_digits' is not defined",
     "output_type": "error",
     "traceback": [
      "\u001b[1;31m---------------------------------------------------------------------------\u001b[0m",
      "\u001b[1;31mNameError\u001b[0m                                 Traceback (most recent call last)",
      "Cell \u001b[1;32mIn[49], line 2\u001b[0m\n\u001b[0;32m      1\u001b[0m plt\u001b[38;5;241m.\u001b[39mfigure(figsize\u001b[38;5;241m=\u001b[39m(\u001b[38;5;241m8\u001b[39m,\u001b[38;5;241m8\u001b[39m))\n\u001b[1;32m----> 2\u001b[0m plt\u001b[38;5;241m.\u001b[39msubplot(\u001b[38;5;241m221\u001b[39m); plot_digits(X_aa[:\u001b[38;5;241m25\u001b[39m], images_per_row\u001b[38;5;241m=\u001b[39m\u001b[38;5;241m5\u001b[39m)\n\u001b[0;32m      3\u001b[0m plt\u001b[38;5;241m.\u001b[39msubplot(\u001b[38;5;241m222\u001b[39m); plot_digits(X_ab[:\u001b[38;5;241m25\u001b[39m], images_per_row\u001b[38;5;241m=\u001b[39m\u001b[38;5;241m5\u001b[39m)\n\u001b[0;32m      4\u001b[0m plt\u001b[38;5;241m.\u001b[39msubplot(\u001b[38;5;241m223\u001b[39m); plot_digits(X_ba[:\u001b[38;5;241m25\u001b[39m], images_per_row\u001b[38;5;241m=\u001b[39m\u001b[38;5;241m5\u001b[39m)\n",
      "\u001b[1;31mNameError\u001b[0m: name 'plot_digits' is not defined"
     ]
    },
    {
     "data": {
      "image/png": "[encoded data removed]",
      "text/plain": [
       "<Figure size 800x800 with 1 Axes>"
      ]
     },
     "metadata": {},
     "output_type": "display_data"
    }
   ],
   "source": [
    "plt.figure(figsize=(8,8))\n",
    "plt.subplot(221); plot_digits(X_aa[:25], images_per_row=5)\n",
    "plt.subplot(222); plot_digits(X_ab[:25], images_per_row=5)\n",
    "plt.subplot(223); plot_digits(X_ba[:25], images_per_row=5)\n",
    "plt.subplot(224); plot_digits(X_bb[:25], images_per_row=5)\n",
    "plt.show()\n"
   ]
  },
  {
   "cell_type": "markdown",
   "id": "c85761ff9fbba67c",
   "metadata": {
    "collapsed": false,
    "jupyter": {
     "outputs_hidden": false
    }
   },
   "source": [
    "## Multilabel Classification"
   ]
  },
  {
   "cell_type": "markdown",
   "id": "16c4f5c86dd26558",
   "metadata": {
    "collapsed": false,
    "jupyter": {
     "outputs_hidden": false
    }
   },
   "source": [
    "Supposing we what to build a face recognition system, and we have three faces which we will use to train the model classifier. We will want to attach tags to every person it recognizes.Such a classification system that outputs multiple binary tags is called a multilabel classification system.\n"
   ]
  },
  {
   "cell_type": "code",
   "execution_count": null,
   "id": "ac886c9bee3b8516",
   "metadata": {
    "ExecuteTime": {
     "start_time": "2024-07-20T01:34:43.505734200Z"
    },
    "collapsed": false,
    "jupyter": {
     "outputs_hidden": false
    }
   },
   "outputs": [],
   "source": [
    "y_train_large = (y_train >= 7)\n",
    "y_odd = (y_train % 2 == 1)\n",
    "y_multilabel = np.c_[y_train_large, y_odd]"
   ]
  },
  {
   "cell_type": "code",
   "execution_count": null,
   "id": "f186a5191843227c",
   "metadata": {
    "collapsed": false,
    "jupyter": {
     "outputs_hidden": false
    }
   },
   "outputs": [],
   "source": [
    "knn_clf = KNeighborsClassifier()\n",
    "knn_clf.fit(X_train, y_multilabel)\n",
    "knn_clf.predict(some_digit)"
   ]
  },
  {
   "cell_type": "code",
   "execution_count": null,
   "id": "f9d4ba9489d0d892",
   "metadata": {
    "ExecuteTime": {
     "start_time": "2024-07-20T01:34:43.506742800Z"
    },
    "collapsed": false,
    "jupyter": {
     "outputs_hidden": false
    }
   },
   "outputs": [],
   "source": [
    "y_train_knn_pred = cross_val_predict(knn_clf, X_train, y_multilabel, cv=3)\n",
    "f1_score(y_multilabel, y_train_knn_pred, average=\"macro\")\n",
    "\n",
    "# In par‐ticular, if you have many more pictures of Alice than of Bob or Charlie, you may want to give more weight to the classifier’s score on pictures of Alice. One simple option is to give each label a weight equal to its support (i.e., the number of instances with that target label). To do this, simply set average=\"weighted\" in the preceding code.\n",
    "         "
   ]
  }
 ],
 "metadata": {
  "kernelspec": {
   "display_name": "Python 3 (ipykernel)",
   "language": "python",
   "name": "python3"
  },
  "language_info": {
   "codemirror_mode": {
    "name": "ipython",
    "version": 3
   },
   "file_extension": ".py",
   "mimetype": "text/x-python",
   "name": "python",
   "nbconvert_exporter": "python",
   "pygments_lexer": "ipython3",
   "version": "3.11.5"
  }
 },
 "nbformat": 4,
 "nbformat_minor": 5
}
