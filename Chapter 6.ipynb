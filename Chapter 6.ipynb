{
 "cells": [
  {
   "cell_type": "markdown",
   "id": "8a153021-f525-450d-9fc2-227f4b4f09e6",
   "metadata": {},
   "source": [
    "# Decision Tree\n",
    "\n",
    "Like SVMs, Decision Trees are versatile Machine Learning algorithms that can perform both classification and regression tasks, and even multioutput tasks. They are \n",
    "very powerful algorithms, capable of fitting complex datasets They are also the fundamental components of Random Forest. One of the many qualities of Decision Trees is that they require very little data preparation. In particular, they don't require feature scaling or centering at all.\n",
    "\n",
    "Scikit-Learn uses the Classification And Regression Tree (CART) algorithm to train \n",
    "Decision Trees (also called “growing” trees. The idea is to first split the training set into 2 subsets using a single feature $k$ and a threshold $t_k$. How does it choose $k$ and $t_k$? It searches for the pair ($k$, $t_k$) that produces the purest subsets(weighted by their size). Once it has successfully split the training set in two, it splits the subsets using the \n",
    "same logic, then the sub-subsets and so on, recursively. It stops recursing once it re\r\n",
    "ches the maximum depth (defined by the max_depth hyperparameter), or if it cann t\r\n",
    "find a split that will reduce impurity. A few other hyperparameters (described i  a\r\n",
    "moment) control additional stopping conditions (min_samples_split, minsam\r\n",
    "ples_leaf, min_weight_fraction_leaf, and max_leaf_nodes).)."
   ]
  },
  {
   "cell_type": "code",
   "execution_count": 13,
   "id": "1b99e76f-56de-46e1-bfc9-c6179047c8f3",
   "metadata": {},
   "outputs": [],
   "source": [
    "from sklearn.datasets import load_iris\n",
    "from sklearn.tree import DecisionTreeClassifier\n",
    "import numpy as np"
   ]
  },
  {
   "cell_type": "code",
   "execution_count": 176,
   "id": "0b0c92a3-4a70-4f43-ad3e-dc50868750f2",
   "metadata": {},
   "outputs": [
    {
     "name": "stdout",
     "output_type": "stream",
     "text": [
      "Probability score: [[0.         0.97916667 0.02083333]]\n",
      "Predicted: ['versicolor']\n"
     ]
    }
   ],
   "source": [
    "X,y = load_iris(as_frame=False,return_X_y=True)\n",
    "\n",
    "# Train my Decision Tree\n",
    "tree_clf = DecisionTreeClassifier(max_depth=3, random_state=42)\n",
    "tree_clf.fit(X,y)\n",
    "pred = tree_clf.predict([[7. , 3.2, 4.7, 1.4]])\n",
    "prob = tree_clf.predict_proba([[7. , 3.2, 4.7, 1.4]])\n",
    "print(f'Probability score: {prob}')\n",
    "print(\"Predicted: {}\".format(iris['target_names'][pred]))"
   ]
  },
  {
   "cell_type": "raw",
   "id": "a803ffe0-df52-4045-a2f1-dd7f32d78efd",
   "metadata": {},
   "source": [
    "Visualize the trained Decision Tree"
   ]
  },
  {
   "cell_type": "code",
   "execution_count": 54,
   "id": "9d35282b-2730-4b6a-8b99-f5a64daac5ef",
   "metadata": {},
   "outputs": [],
   "source": [
    "from sklearn.tree import export_graphviz\n",
    "# image_path = \"C:/Users/HP/Desktop/ML with scikit-learn, keras and tensorflow/\"\n",
    "export_graphviz(\n",
    "    tree_clf,\n",
    "    # out_file=image_path,\n",
    "    feature_names=X.columns,\n",
    "    class_names=iris.target_names,\n",
    "    rounded=True,\n",
    "    filled=True,\n",
    "    out_file=image_path + \"iris_tree.pdf\"\n",
    "\n",
    ")"
   ]
  },
  {
   "cell_type": "code",
   "execution_count": 61,
   "id": "3c614dac-b2d9-472e-873e-fcd135376e59",
   "metadata": {},
   "outputs": [],
   "source": [
    "export_graphviz(tree_clf,\n",
    "                out_file=\"iris_tree.dot\",\n",
    "                feature_names=iris.feature_names,\n",
    "                class_names=iris.target_names,\n",
    "                rounded=True,\n",
    "                filled=True\n",
    "               )\n",
    "export_graphviz"
   ]
  },
  {
   "cell_type": "code",
   "execution_count": 66,
   "id": "438bd301-9b90-4f9f-8300-597be26b2024",
   "metadata": {},
   "outputs": [
    {
     "ename": "ModuleNotFoundError",
     "evalue": "No module named 'graphviz'",
     "output_type": "error",
     "traceback": [
      "\u001b[1;31m---------------------------------------------------------------------------\u001b[0m",
      "\u001b[1;31mModuleNotFoundError\u001b[0m                       Traceback (most recent call last)",
      "Cell \u001b[1;32mIn[66], line 1\u001b[0m\n\u001b[1;32m----> 1\u001b[0m \u001b[38;5;28;01mimport\u001b[39;00m \u001b[38;5;21;01mgraphviz\u001b[39;00m\n\u001b[0;32m      3\u001b[0m \u001b[38;5;28;01mimport\u001b[39;00m \u001b[38;5;21;01mgraphviz\u001b[39;00m\n\u001b[0;32m      4\u001b[0m \u001b[38;5;28;01mwith\u001b[39;00m \u001b[38;5;28mopen\u001b[39m(\u001b[38;5;124m\"\u001b[39m\u001b[38;5;124mtree.dot\u001b[39m\u001b[38;5;124m\"\u001b[39m) \u001b[38;5;28;01mas\u001b[39;00m f:\n",
      "\u001b[1;31mModuleNotFoundError\u001b[0m: No module named 'graphviz'"
     ]
    }
   ],
   "source": [
    "import graphviz\n",
    "\n",
    "import graphviz\n",
    "with open(\"iris_tree.dot\") as f:\n",
    "    dot_graph = f.read()\n",
    "graphviz.Source(dot_graph)"
   ]
  },
  {
   "cell_type": "code",
   "execution_count": null,
   "id": "0c1f1cdb-e8c5-447c-83f5-d13f40ea8a8e",
   "metadata": {},
   "outputs": [],
   "source": []
  }
 ],
 "metadata": {
  "kernelspec": {
   "display_name": "Python 3 (ipykernel)",
   "language": "python",
   "name": "python3"
  },
  "language_info": {
   "codemirror_mode": {
    "name": "ipython",
    "version": 3
   },
   "file_extension": ".py",
   "mimetype": "text/x-python",
   "name": "python",
   "nbconvert_exporter": "python",
   "pygments_lexer": "ipython3",
   "version": "3.11.5"
  }
 },
 "nbformat": 4,
 "nbformat_minor": 5
}
