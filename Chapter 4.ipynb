{
 "cells": [
  {
   "cell_type": "code",
   "execution_count": null,
   "id": "1bd2d7f8-6b9a-495a-b16d-abb959f56121",
   "metadata": {},
   "outputs": [],
   "source": []
  },
  {
   "cell_type": "markdown",
   "id": "75d81f53-f862-4a45-afa5-895ebfa532e3",
   "metadata": {},
   "source": [
    "There are 3 different ways we can train a model:\n",
    "* Using a direct “closed-form” equation that directly computes the model parameters that best fit the model to the training set (i.e., the model parameters that minimize the cost function over the training set).\n",
    "* Using an iterative optimization approach, called Gradient Descent (GD), that gradually tweaks the model parameters to minimize the cost function over the training set, eventually converging to the same set of parameters as the first method.\n",
    "\n",
    "  NB: A model that has more parameters is likey to overfit to our trianing dataset, but i will show you to dectect wheter or not if it the case using learning curves. and also several reguralization techniques that can reduce the risk of overfitting on the training datasets\n",
    "  "
   ]
  },
  {
   "cell_type": "markdown",
   "id": "e26786fa-9422-471c-9069-8766a7dc0b02",
   "metadata": {},
   "source": [
    "# Linear Regression\n",
    "Mathematically\n",
    "## Linear Regression model prediction\n",
    "y = $θ_{0}$+ $θ_{1}X_{1}$ + $θ_{2}X_{2}$ + ⋯ + $θ_{n}X_{n}$\n",
    "\n",
    "where:\n",
    "* ŷ is the predicted value\n",
    "* $n$ is the number of features\n",
    "* $X_{i}$ is the ith feature value\n",
    "* $θ_{j}$ is the jth model parameter (including the bias term $θ_{0}$ and the feature weights $θ_{1}$, $θ_{2}$, ⋯, $θ_{n}$)\n",
    "\n",
    "## Linear Regression model prediction (vectorized form)\n",
    "y = $h_{\\theta}$(X) = $\\theta$ * X \n",
    "\n",
    "where:\n",
    "* $h_{\\theta}$ is the hypothesis fuction using the model parameter $\\theta$\n",
    "\n",
    "The MSE of a Linear Regression hypothesis hθ on a training set X is calculated using\n",
    "\n",
    "$MSE(X,$h_\\theta$)$ = $(1/m)\\Sigma^m_{i=1}$($\\theta^T*X^i - y^i$)\n",
    "\n",
    "where:\n",
    " $\\theta^T*X^i$ is the prediction, except it is now represented as a single cell matrix rather than a scalar value.($\\theta$  θT\n",
    " is thetranspose of θ )"
   ]
  },
  {
   "cell_type": "code",
   "execution_count": null,
   "id": "dc42a168-0799-4ff8-9cd0-a8a95cb42768",
   "metadata": {},
   "outputs": [],
   "source": []
  }
 ],
 "metadata": {
  "kernelspec": {
   "display_name": "Python 3 (ipykernel)",
   "language": "python",
   "name": "python3"
  },
  "language_info": {
   "codemirror_mode": {
    "name": "ipython",
    "version": 3
   },
   "file_extension": ".py",
   "mimetype": "text/x-python",
   "name": "python",
   "nbconvert_exporter": "python",
   "pygments_lexer": "ipython3",
   "version": "3.11.5"
  }
 },
 "nbformat": 4,
 "nbformat_minor": 5
}
