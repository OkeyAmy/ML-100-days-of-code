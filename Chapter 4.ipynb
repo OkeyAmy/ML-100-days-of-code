{
 "cells": [
  {
   "cell_type": "markdown",
   "id": "75d81f53-f862-4a45-afa5-895ebfa532e3",
   "metadata": {},
   "source": [
    "There are 3 different ways we can train a model:\n",
    "* Using a direct “closed-form” equation that directly computes the model parameters that best fit the model to the training set (i.e., the model parameters that minimize the cost function over the training set).\n",
    "* Using an iterative optimization approach, called Gradient Descent (GD), that gradually tweaks the model parameters to minimize the cost function over the training set, eventually converging to the same set of parameters as the first method.\n",
    "\n",
    "  NB: A model that has more parameters is likey to overfit to our trianing dataset, but i will show you to dectect wheter or not if it the case using learning curves. and also several reguralization techniques that can reduce the risk of overfitting on the training datasets\n",
    "  "
   ]
  },
  {
   "cell_type": "markdown",
   "id": "e26786fa-9422-471c-9069-8766a7dc0b02",
   "metadata": {},
   "source": [
    "# Linear Regression\n",
    "Mathematically\n",
    "## Linear Regression model prediction\n",
    "y = $θ_{0}$+ $θ_{1}X_{1}$ + $θ_{2}X_{2}$ + ⋯ + $θ_{n}X_{n}$\n",
    "\n",
    "where:\n",
    "* ŷ is the predicted value\n",
    "* $n$ is the number of features\n",
    "* $X_{i}$ is the ith feature value\n",
    "* $θ_{j}$ is the jth model parameter (including the bias term $θ_{0}$ and the feature weights $θ_{1}$, $θ_{2}$, ⋯, $θ_{n}$)\n",
    "\n",
    "## Linear Regression model prediction (vectorized form)\n",
    "y = $h_{\\theta}$(X) = $\\theta$ * X \n",
    "\n",
    "where:\n",
    "* $h_{\\theta}$ is the hypothesis fuction using the model parameter $\\theta$\n",
    "\n",
    "The Mean Square Error(MSE) of a Linear Regression hypothesis hθ on a training set X is calculated using\n",
    "\n",
    "$MSE(X,$h_\\theta$)$ = $(1/m)\\Sigma^m_{i=1}$($\\theta^T*X^i - y^i$)\n",
    "\n",
    "where:\n",
    " $\\theta^T*X^i$ is the prediction, except it is now represented as a single cell matrix rather than a scalar value.($\\theta^T$ is the transpose of $\\theta\n",
    "\n",
    " "
   ]
  },
  {
   "cell_type": "code",
   "execution_count": 1,
   "id": "dc42a168-0799-4ff8-9cd0-a8a95cb42768",
   "metadata": {},
   "outputs": [],
   "source": [
    "import numpy as np\n",
    "import matplotlib.pyplot as plt\n",
    "from sklearn.linear_model import LinearRegression\n",
    "%matplotlib inline"
   ]
  },
  {
   "cell_type": "code",
   "execution_count": 318,
   "id": "6cb15a6a-e264-432b-9a5f-bfba23e712ba",
   "metadata": {},
   "outputs": [],
   "source": [
    "X = 2 * np.random.rand(100, 1)\n",
    "y = 4 + 3 * X + np.random.randn(100, 1)\n",
    "X_new = np.array([[0], [2]])"
   ]
  },
  {
   "cell_type": "code",
   "execution_count": 319,
   "id": "1bd2d7f8-6b9a-495a-b16d-abb959f56121",
   "metadata": {},
   "outputs": [],
   "source": [
    "X_b = np.c_[np.ones((100, 1)), X] "
   ]
  },
  {
   "cell_type": "code",
   "execution_count": 320,
   "id": "03900498-c089-462c-bb17-d261c415c4a7",
   "metadata": {
    "scrolled": true
   },
   "outputs": [
    {
     "data": {
      "text/plain": [
       "<function matplotlib.pyplot.show(close=None, block=None)>"
      ]
     },
     "execution_count": 320,
     "metadata": {},
     "output_type": "execute_result"
    },
    {
     "data": {
      "image/png": "[encoded data removed]",
      "text/plain": [
       "<Figure size 640x480 with 1 Axes>"
      ]
     },
     "metadata": {},
     "output_type": "display_data"
    }
   ],
   "source": [
    "plt.scatter(X,y, color='blue')\n",
    "plt.plot([0,2], [0,12])\n",
    "plt.show"
   ]
  },
  {
   "cell_type": "markdown",
   "id": "8bd7bafd-7dd9-4929-a60c-7c14b13ec867",
   "metadata": {},
   "source": [
    "bias term =(intercept_) \n",
    "\n",
    "feature weights = (coef_)."
   ]
  },
  {
   "cell_type": "code",
   "execution_count": 5,
   "id": "b5b4f838-6e86-4a50-8eff-15150e436078",
   "metadata": {},
   "outputs": [
    {
     "name": "stdout",
     "output_type": "stream",
     "text": [
      "Intercept: [3.75268023]\n",
      "Coeffiecient [[3.1949772]]\n"
     ]
    },
    {
     "data": {
      "text/plain": [
       "array([[ 3.75268023],\n",
       "       [10.14263463]])"
      ]
     },
     "execution_count": 5,
     "metadata": {},
     "output_type": "execute_result"
    }
   ],
   "source": [
    "lin_reg = LinearRegression()\n",
    "lin_reg.fit(X,y)\n",
    "print(\"Intercept: {}\\nCoeffiecient {}\".format(lin_reg.intercept_, lin_reg.coef_))\n",
    "lin_reg.predict(X_new)"
   ]
  },
  {
   "cell_type": "code",
   "execution_count": 326,
   "id": "c43b46e8-512a-42a8-8829-472b2f53d4d1",
   "metadata": {},
   "outputs": [
    {
     "data": {
      "text/plain": [
       "array([[4.01391024],\n",
       "       [2.97633167]])"
      ]
     },
     "execution_count": 326,
     "metadata": {},
     "output_type": "execute_result"
    }
   ],
   "source": [
    "theta_best_svd, residuals, rank, s = np.linalg.lstsq(X_b, y, rcond=1e-6)\n",
    "theta_best_svd"
   ]
  },
  {
   "cell_type": "code",
   "execution_count": 7,
   "id": "a6fc8a20-fc5c-4328-aec8-a95cdbdcf4cc",
   "metadata": {},
   "outputs": [
    {
     "data": {
      "text/plain": [
       "array([[3.75268023],\n",
       "       [3.1949772 ]])"
      ]
     },
     "execution_count": 7,
     "metadata": {},
     "output_type": "execute_result"
    }
   ],
   "source": [
    "np.linalg.pinv(X_b).dot(y)"
   ]
  },
  {
   "cell_type": "markdown",
   "id": "89e57ea1-f713-43d8-8dd8-826bab35ca02",
   "metadata": {},
   "source": [
    "## Computational Complexity\n",
    "\n",
    "The computational complexity of inverting such a matrix is typically about O($n^2.4$) to O($n^3$) (depending on the implementation). In other words, if you double the number of features, you multiply the computationtime by roughly 22.4 = 5.3 to 23 = 8\n",
    "\n",
    "Now we will look at very different ways to train a Linear Regression model, better suited for cases where there are a large number of features, or too many training instances to fit in memory."
   ]
  },
  {
   "cell_type": "markdown",
   "id": "5c2f82d8-2190-4783-9ed0-d3e62fd0c39c",
   "metadata": {},
   "source": [
    "# Gradient Descent\n",
    "\n",
    "Gradient Descent is a very generic optimization algorithm capable of finding optimal solutions to a wide range of problems. The general idea of Gradient Descent is to tweak parameters iteratively in order to minimize a cost function. Gradient Descent is guranteed to approach arbitartary close to the global mininum(if you will will wait long long enough and if the learning rate is not too high). When using Gradient scale we should ensure that that all features has same similar scale(e.g using StandardScaler in scikit-learn), or else it will take longer time to converge.\n",
    "\n",
    "#### NB: Traing a model means searching for a combnation of model parameters that minimizes the cost function (over the training set). The more parameters a model has. The more dimensions a model parameter space has, and the harder the search is.\n",
    "\n"
   ]
  },
  {
   "cell_type": "markdown",
   "id": "d925def7-4251-49c9-97ae-0a8376922cf9",
   "metadata": {},
   "source": [
    "# Batch Gradient Descent\n",
    "\n",
    "To implement Gradiet function, you need to calculate how much the cost function will change if you change $\\theta_j$ just a bit; this is called partial derivative. \n",
    "\n",
    "$(\\delta / \\delta\\theta_j)$ $MSE(\\theta)$ = ${(2/m)}\\Sigma^m_{i=1}(\\theta^TX^i-y^i)X^i_j$\n",
    "\n",
    "Batch Gradient Descent uses the whole batch of training data at every step to train the model paremeter. Gradient Descent scales well with the number of features; training a Linear Regression model when there are hundreds of thousands of features is much faster using Gradient Descent than using the Normal Equation or SVD decomposition.\n",
    "\n",
    "Once you have the gradient vector, which points uphill, just go in the opposite direction to go downhill. This means subtracting $∇θMSE(θ)$ from $θ$. This is where the learning rate $η$ comes into play.multiply the gradient vector by $η$ to determine the size of the downhill step.\n",
    "\n",
    "* Mathematicaly: Gradient Descent step\n",
    "\n",
    "    $θ^{(next step)} = θ_i − η∇θMSE(θ)$\n",
    "\n",
    "  Where:\n",
    "* $(\\theta_i )$ represents the weights to be updated.$\n",
    "\n",
    "* $(η)$ is the learning rate\n",
    "\n",
    "* $θMSE(θ)$ is the cost function.\n",
    "\n",
    "* $(i)$ denotes the iteration index.\n",
    "\n",
    "To find a good learning rate, you can use grid search (see Chapter 2). However, you may want to limit the number of iterations so that grid search can eliminate models that take too long to converge."
   ]
  },
  {
   "cell_type": "code",
   "execution_count": 327,
   "id": "908e6028-47af-488e-a498-5a37b4665d3f",
   "metadata": {},
   "outputs": [
    {
     "name": "stdout",
     "output_type": "stream",
     "text": [
      "Theta using Batch Gradient Descent: [[4.22215108]\n",
      " [2.96846751]]\n"
     ]
    }
   ],
   "source": [
    "import numpy as np\n",
    "\n",
    "# Generate synthetic data\n",
    "np.random.seed(0)\n",
    "X = 2 * np.random.rand(100, 1)\n",
    "y = 4 + 3 * X + np.random.randn(100, 1)\n",
    "\n",
    "# Add bias term\n",
    "X_b = np.c_[np.ones((100, 1)), X]\n",
    "\n",
    "# Parameters\n",
    "learning_rate = 0.1\n",
    "n_iterations = 1000\n",
    "m = len(X_b)\n",
    "theta = np.random.randn(2, 1)\n",
    "\n",
    "# Batch Gradient Descent\n",
    "for iteration in range(n_iterations):\n",
    "    gradients = 2/m * X_b.T.dot(X_b.dot(theta) - y)\n",
    "    theta -= learning_rate * gradients\n",
    "\n",
    "print(\"Theta using Batch Gradient Descent:\", theta)\n"
   ]
  },
  {
   "cell_type": "markdown",
   "id": "938c5b4d-e7be-40b3-9adc-8c55f08dde23",
   "metadata": {},
   "source": [
    "# Stochastic Gradient Descent\n",
    "\n",
    "The main problem with Batch Gradient Descent is the fact that it uses the whole training set to compute the gradients at every step, which makes it very slow when the training set is large. The Stochastic Gradient Descent just picks a random instance in the training set at every step and computes the gradients based only on that single instance. This makes the algorithm much faster since it has very little data to manipulate at every iteration, which also makes it more it possibel to train on large training sets, since only one instance needs to be in memory at each iteration (SGD can be implemented as an out-of-core algorithm)\n",
    "\n",
    "* Extra point: Out-of-core learning is a set of algorithms designed to handle data that exceeds the capacity of a machine's primary memory (RAM)\n",
    "\n",
    "One thing about SDG is that it cost function will continue to bounce up and down, decreasing only on average. One solution to this is to reduce the learning rate. If the learning rate is reduced too quickly, you may get stuck in a local minimum, or even end up frozen halfway to the minimum. If the learning rate is reduced too slowly, you may jump around the minimum for a long time and end up with a suboptimal solution if you halt training too early."
   ]
  },
  {
   "cell_type": "code",
   "execution_count": 328,
   "id": "d34b2ec4-efb8-4c42-b678-f5330f3d5f13",
   "metadata": {},
   "outputs": [
    {
     "name": "stdout",
     "output_type": "stream",
     "text": [
      "Theta using Stochastic Gradient Descent: [[4.24730911]\n",
      " [3.29235337]]\n"
     ]
    }
   ],
   "source": [
    "import numpy as np\n",
    "\n",
    "# Generate synthetic data\n",
    "np.random.seed(0)\n",
    "X = 2 * np.random.rand(100, 1)\n",
    "y = 4 + 3 * X + np.random.randn(100, 1)\n",
    "\n",
    "# Add bias term\n",
    "X_b = np.c_[np.ones((100, 1)), X]\n",
    "\n",
    "# Parameters\n",
    "learning_rate = 0.1\n",
    "n_iterations = 1000\n",
    "m = len(X_b)\n",
    "theta = np.random.randn(2, 1)\n",
    "\n",
    "# Stochastic Gradient Descent\n",
    "for iteration in range(n_iterations):\n",
    "    for i in range(m):\n",
    "        random_index = np.random.randint(m)\n",
    "        xi = X_b[random_index:random_index+1]\n",
    "        yi = y[random_index:random_index+1]\n",
    "        gradients = 2 * xi.T.dot(xi.dot(theta) - yi)\n",
    "        theta -= learning_rate * gradients\n",
    "\n",
    "print(\"Theta using Stochastic Gradient Descent:\", theta)"
   ]
  },
  {
   "cell_type": "code",
   "execution_count": 8,
   "id": "1994bcb1-c566-47f0-8b42-10e8ef801619",
   "metadata": {},
   "outputs": [
    {
     "name": "stdout",
     "output_type": "stream",
     "text": [
      "-- Epoch 1\n",
      "Norm: 3.35, NNZs: 1, Bias: 3.671451, T: 100, Avg. loss: 1.463366\n",
      "Total training time: 0.00 seconds.\n",
      "-- Epoch 2\n",
      "Norm: 3.31, NNZs: 1, Bias: 3.716990, T: 200, Avg. loss: 0.624726\n",
      "Total training time: 0.07 seconds.\n",
      "-- Epoch 3\n",
      "Norm: 3.08, NNZs: 1, Bias: 3.555108, T: 300, Avg. loss: 0.599588\n",
      "Total training time: 0.07 seconds.\n",
      "-- Epoch 4\n",
      "Norm: 3.18, NNZs: 1, Bias: 3.668938, T: 400, Avg. loss: 0.615418\n",
      "Total training time: 0.07 seconds.\n",
      "-- Epoch 5\n",
      "Norm: 3.27, NNZs: 1, Bias: 3.758521, T: 500, Avg. loss: 0.615280\n",
      "Total training time: 0.07 seconds.\n",
      "-- Epoch 6\n",
      "Norm: 3.20, NNZs: 1, Bias: 3.716600, T: 600, Avg. loss: 0.598134\n",
      "Total training time: 0.07 seconds.\n",
      "-- Epoch 7\n",
      "Norm: 3.13, NNZs: 1, Bias: 3.634836, T: 700, Avg. loss: 0.601767\n",
      "Total training time: 0.07 seconds.\n",
      "-- Epoch 8\n",
      "Norm: 3.33, NNZs: 1, Bias: 3.812938, T: 800, Avg. loss: 0.595392\n",
      "Total training time: 0.07 seconds.\n",
      "-- Epoch 9\n",
      "Norm: 3.29, NNZs: 1, Bias: 3.765142, T: 900, Avg. loss: 0.612094\n",
      "Total training time: 0.07 seconds.\n",
      "-- Epoch 10\n",
      "Norm: 3.19, NNZs: 1, Bias: 3.707122, T: 1000, Avg. loss: 0.608043\n",
      "Total training time: 0.07 seconds.\n",
      "-- Epoch 11\n",
      "Norm: 3.17, NNZs: 1, Bias: 3.716338, T: 1100, Avg. loss: 0.598716\n",
      "Total training time: 0.07 seconds.\n",
      "-- Epoch 12\n",
      "Norm: 3.21, NNZs: 1, Bias: 3.759870, T: 1200, Avg. loss: 0.609717\n",
      "Total training time: 0.07 seconds.\n",
      "-- Epoch 13\n",
      "Norm: 3.19, NNZs: 1, Bias: 3.748199, T: 1300, Avg. loss: 0.605017\n",
      "Total training time: 0.07 seconds.\n",
      "Convergence after 13 epochs took 0.07 seconds\n"
     ]
    },
    {
     "data": {
      "text/plain": [
       "(array([3.74819884]), array([3.18939993]))"
      ]
     },
     "execution_count": 8,
     "metadata": {},
     "output_type": "execute_result"
    }
   ],
   "source": [
    "from sklearn.linear_model import SGDRegressor\n",
    "\n",
    "sgd_lin = SGDRegressor(max_iter=1000, tol=1e-3, penalty=None, eta0=0.1, verbose=1, shuffle=True)\n",
    "sgd_lin.fit(X,y.ravel())\n",
    "sgd_lin.intercept_, sgd_lin.coef_"
   ]
  },
  {
   "cell_type": "markdown",
   "id": "4af383c6-f246-4244-b298-cd782db7219d",
   "metadata": {},
   "source": [
    "# Mini-batch Gradient Descent\n",
    "Mini\u0002batch GD computes the gradients on small random sets of instances called mini\u0002batches. The main advantage of Mini-batch GD over Stochastic GD is that you can get a performance boost from hardware optimization of matrix operations, especially when using GPUs."
   ]
  },
  {
   "cell_type": "code",
   "execution_count": 329,
   "id": "554cf20f-11bd-45ff-a053-43fcb3104ffc",
   "metadata": {},
   "outputs": [
    {
     "name": "stdout",
     "output_type": "stream",
     "text": [
      "Theta using Mini-batch Gradient Descent: [[4.21021974]\n",
      " [2.95306829]]\n"
     ]
    }
   ],
   "source": [
    "import numpy as np\n",
    "\n",
    "# Generate synthetic data\n",
    "np.random.seed(0)\n",
    "X = 2 * np.random.rand(100, 1)\n",
    "y = 4 + 3 * X + np.random.randn(100, 1)\n",
    "\n",
    "# Add bias term\n",
    "X_b = np.c_[np.ones((100, 1)), X]\n",
    "\n",
    "# Parameters\n",
    "learning_rate = 0.1\n",
    "n_iterations = 1000\n",
    "batch_size = 20\n",
    "m = len(X_b)\n",
    "theta = np.random.randn(2, 1)\n",
    "\n",
    "# Mini-batch Gradient Descent\n",
    "for iteration in range(n_iterations):\n",
    "    shuffled_indices = np.random.permutation(m)\n",
    "    X_b_shuffled = X_b[shuffled_indices]\n",
    "    y_shuffled = y[shuffled_indices]\n",
    "    for i in range(0, m, batch_size):\n",
    "        xi = X_b_shuffled[i:i+batch_size]\n",
    "        yi = y_shuffled[i:i+batch_size]\n",
    "        gradients = 2/batch_size * xi.T.dot(xi.dot(theta) - yi)\n",
    "        theta -= learning_rate * gradients\n",
    "\n",
    "print(\"Theta using Mini-batch Gradient Descent:\", theta)"
   ]
  },
  {
   "cell_type": "markdown",
   "id": "e8215a18-6677-4d20-9be1-2a83224adb8e",
   "metadata": {},
   "source": [
    "| Algorithms | Large m | Out-of-core support | Large n | Hyperparams | Scaling required | Scikit-learn |\n",
    "|:---------|:--------:|---------:|---------:| ---------:| ---------:| ---------:|\n",
    "|  Normal Equation   |  Fast  |  No   |  Slow   |  0   |  No   |  n/a   |\n",
    "|  SVD   |  Fast   |  No   |  Slow   |  0   |  No   |  LinearRegression   |\n",
    "|  Batch GD  |  Slow   |  No   |  Fast   |  2   |  Yes   |  SGSRegressor   |\n",
    "|  Stochatic GD  |  Fast   |  Yes   |  Fast   |  $≥$2   |  Yes   |  SGSRegressor   |\n",
    "|  Batch GD  |  Fast   |  Yes   |  Fast   |  $≥$2   |  Yes   |  SGSRegressor   |\n",
    "\n",
    "\n",
    "### m is the number of training instances and n is the number of features. There is almost no difference after training: all these algorithms end up with very similar models and make predictions in exactly the same way. (SVD is Singular Value Decomposition)"
   ]
  },
  {
   "cell_type": "markdown",
   "id": "9e77ddb5-3931-4531-b13e-6a07bbc8c20a",
   "metadata": {},
   "source": [
    "# Polynomial Regression\n",
    "\n",
    "This is when you data is more complex than a straight line"
   ]
  },
  {
   "cell_type": "code",
   "execution_count": 9,
   "id": "414d390f-6880-4512-b971-24c372513374",
   "metadata": {},
   "outputs": [
    {
     "data": {
      "image/png": "[encoded data removed]",
      "text/plain": [
       "<Figure size 640x480 with 1 Axes>"
      ]
     },
     "metadata": {},
     "output_type": "display_data"
    }
   ],
   "source": [
    "m = 100\n",
    "X = 6 * np.random.rand(m, 1) - 3\n",
    "y = 0.5 * X**2 + X + 2 + np.random.randn(m, 1)\n",
    "\n",
    "plt.scatter(X,y)\n",
    "plt.show()"
   ]
  },
  {
   "cell_type": "markdown",
   "id": "8975b45b-fb45-4ff2-84fd-ac43aae354c5",
   "metadata": {},
   "source": [
    "If there were two features a and b, PolynomialFeatures with degree=3 would not only add the features $a^2$, $a^3$, $b^2$, and $b^3$, but also the combinations $ab$, $a^2b$, and $ab^2$."
   ]
  },
  {
   "cell_type": "code",
   "execution_count": 10,
   "id": "aa89a4b7-e369-4809-bbe6-4ec38c080035",
   "metadata": {},
   "outputs": [
    {
     "data": {
      "text/plain": [
       "(array([-1.14349159]), array([-1.14349159,  1.30757301]))"
      ]
     },
     "execution_count": 10,
     "metadata": {},
     "output_type": "execute_result"
    }
   ],
   "source": [
    "from sklearn.preprocessing import PolynomialFeatures\n",
    "poly_features = PolynomialFeatures(degree=2, include_bias=False)\n",
    "X_poly = poly_features.fit_transform(X)\n",
    "X[0], X_poly[0]"
   ]
  },
  {
   "cell_type": "code",
   "execution_count": 11,
   "id": "68c99f45-3cda-4f57-a873-373c73f00832",
   "metadata": {},
   "outputs": [
    {
     "data": {
      "text/plain": [
       "(array([[0.87767527, 0.4942192 ]]), array([1.98528266]))"
      ]
     },
     "execution_count": 11,
     "metadata": {},
     "output_type": "execute_result"
    }
   ],
   "source": [
    "lin_reg = LinearRegression()\n",
    "lin_reg.fit(X_poly, y)\n",
    "lin_reg.coef_, lin_reg.intercept_"
   ]
  },
  {
   "cell_type": "code",
   "execution_count": 12,
   "id": "1332932c-32d6-4fb4-a092-778351ee1659",
   "metadata": {},
   "outputs": [],
   "source": [
    "from sklearn.metrics import mean_squared_error\n",
    "from sklearn.model_selection import train_test_split"
   ]
  },
  {
   "cell_type": "code",
   "execution_count": 13,
   "id": "8a43c0b2-48d6-49de-978e-a40e3b7a8945",
   "metadata": {},
   "outputs": [],
   "source": [
    "def plot_learning_curves(model, X, y):\n",
    "    X_train, X_val, y_train, y_val = train_test_split(X, y, test_size=0.1,random_state=42, shuffle=True)\n",
    "    train_errors, val_errors = [], []\n",
    "    for m in range(1, len(X_train)):\n",
    "        model.fit(X_train[:m], y_train[:m])\n",
    "        y_train_predict = model.predict(X_train[:m])\n",
    "        y_val_predict = model.predict(X_val)\n",
    "        train_errors.append(mean_squared_error(y_train[:m], y_train_predict))\n",
    "        val_errors.append(mean_squared_error(y_val, y_val_predict))\n",
    "    plt.plot(np.sqrt(train_errors), \"r-+\", linewidth=2, label=\"Train\")\n",
    "    plt.plot(np.sqrt(val_errors), \"b-\", linewidth=3, label=\"Val\")\n",
    "    plt.xlabel(\"Training set size\")\n",
    "    plt.ylabel(\"RMSE\")\n",
    "    plt.legend()"
   ]
  },
  {
   "cell_type": "code",
   "execution_count": 14,
   "id": "8ee93926-107c-46ca-a21e-0e9910784477",
   "metadata": {},
   "outputs": [
    {
     "data": {
      "image/png": "[encoded data removed]",
      "text/plain": [
       "<Figure size 640x480 with 1 Axes>"
      ]
     },
     "metadata": {},
     "output_type": "display_data"
    }
   ],
   "source": [
    "lin_reg = LinearRegression()\n",
    "plot_learning_curves(lin_reg, X, y)"
   ]
  },
  {
   "cell_type": "code",
   "execution_count": 15,
   "id": "f58e74c0-0ceb-4eda-8220-5f824c5e4e6a",
   "metadata": {},
   "outputs": [
    {
     "data": {
      "image/png": "[encoded data removed]",
      "text/plain": [
       "<Figure size 640x480 with 1 Axes>"
      ]
     },
     "metadata": {},
     "output_type": "display_data"
    }
   ],
   "source": [
    "from sklearn.pipeline import Pipeline\n",
    "\n",
    "polynomial_regression = Pipeline([\n",
    "    ('poly_features', PolynomialFeatures(degree=7, include_bias=False)),\n",
    "    (\"lin_reg\", LinearRegression())\n",
    "])\n",
    "plot_learning_curves(polynomial_regression,X,y)"
   ]
  },
  {
   "cell_type": "markdown",
   "id": "23dc4c22-1192-467e-9c67-932bee044d28",
   "metadata": {},
   "source": [
    "## Extra-Points:\n",
    "\n",
    "### _Bias/Variance Tradeoff_\n",
    "_Bias:_ This is a part of generalization error is due to wrong  assumptions, such as assumptions that is linear when it's actualy quadratic. A high bias model is most likely to underfit the training set \n",
    "\n",
    "_Variance_: This is due to model's excessive sensitivity to small variations in the training set. A model with many degress of freedom(such as a high polynomial model)is likely to have a high variance, and overfit the training datasets\n",
    "\n",
    "_Irreducible error:_ This part is due to noisiness of the data itself. The only way to reduce this part of the error is to clean up the data (e.g., fix the data sources, such as brokensensors, or detect and remove outliers)\n",
    "\n",
    "#### Increasing a model’s complexity will typically increase its variance and reduce its bias. Conversely, reducing a model’s complexity increases its bias and reduces its variance. This is why it is called a tradeoff.\n"
   ]
  },
  {
   "cell_type": "markdown",
   "id": "83341b11-c90d-49e2-9c74-52abdb8d43fd",
   "metadata": {},
   "source": [
    "# Regularizing a Linear Model\n",
    "\n",
    "A good way to reduce overfitting to to constrain it(regualarization): the fewer the degrees of freedom it has, the harder it will be to overfit the data, a simple way to regularize  a polynomial model is to reduce the number of polynomial degrees.\n",
    "\n",
    "For a linear model, regularization is typically achieved by  constraining the weights of the model. We will consider Lasso Regression(l1), Ridge Regression(l2), Elastic Regression."
   ]
  },
  {
   "cell_type": "markdown",
   "id": "935a3bb7-6f3a-491b-99d1-efd70278f005",
   "metadata": {},
   "source": [
    "# Ridge Regression"
   ]
  },
  {
   "cell_type": "markdown",
   "id": "f8790490-3934-48a8-a0a0-1a907c98c610",
   "metadata": {},
   "source": [
    "Ridge Regression (also called Tikhonov regularization) is a regularizaed version of Linear regression. This foreces the data to not only fit the data but also keep the model weights small as possible.\n",
    "\n",
    "Note: The regulazation term should only be added to the cost function during training.\n",
    "\n",
    "The hyperparameter $α$ controls how much you want to regularize the model. If $α = 0$ then Ridge Regression is just Linear Regression. If α is very large, then all weights end up very close to zero and the result is a flat line going through the data’s mean.\n",
    "\n",
    "Mathematically:\n",
    "\n",
    "$J\\theta$ = $MSE(\\theta) + \\alpha(1/2)\\Sigma^n_{i=1}\\theta^2_i$\n",
    "\n",
    "It is important to scale the data (e.g., using a StandardScaler) before performing Ridge Regression, as it is sensitive to the scale of the input features. This is true of most regularized models."
   ]
  },
  {
   "cell_type": "code",
   "execution_count": 35,
   "id": "c3a8f5a0-c580-4e5c-b01b-c65e510694ef",
   "metadata": {},
   "outputs": [
    {
     "data": {
      "text/plain": [
       "array([[4.87551586]])"
      ]
     },
     "execution_count": 35,
     "metadata": {},
     "output_type": "execute_result"
    }
   ],
   "source": [
    "from sklearn.linear_model import Ridge\n",
    "\n",
    "ridge_reg = Ridge(alpha=1, solver='cholesky') #Or 'sag' solver\n",
    "ridge_reg.fit(X,y)\n",
    "ridge_reg.predict([[1.5]])"
   ]
  },
  {
   "cell_type": "code",
   "execution_count": 32,
   "id": "084ec4e8-9447-4d9d-91e0-8c57f0abf019",
   "metadata": {},
   "outputs": [
    {
     "data": {
      "text/plain": [
       "array([4.86198163])"
      ]
     },
     "execution_count": 32,
     "metadata": {},
     "output_type": "execute_result"
    }
   ],
   "source": [
    "# Using Stochastic Regressor\n",
    "sdg_reg = SGDRegressor(penalty='l2')\n",
    "sdg_reg.fit(X, y.ravel())\n",
    "sdg_reg.predict([[1.5]])"
   ]
  },
  {
   "cell_type": "markdown",
   "id": "bbd4fe32-dead-4926-a373-e9757e17210d",
   "metadata": {},
   "source": [
    "# Lasso Regression\n",
    "\n",
    "Least Absolute Shrinkage and Selection Operator Regression (simply called Lasso Regression) is another regularized version of Linear Regression.  it adds a regularization term to the cost function, but it uses the $ℓ1$ norm of the weight vector instead of half the square of the $ℓ2$ norm.\n",
    "\n",
    "Mathematically:\n",
    "\n",
    "$J\\theta$ = $MSE(\\theta) + \\alpha\\Sigma^n_{i=1}|\\theta_i|$\n",
    "\n",
    "An important characteristic of Lasso Regression is that it tends to completly eliminate the weights of the least important features(i.e set them to zero), which means that lasso regression automatically performs feature selaection and outputs a sparse model."
   ]
  },
  {
   "cell_type": "code",
   "execution_count": 43,
   "id": "22c390f9-0d11-4c90-afe4-7b61b40f1748",
   "metadata": {},
   "outputs": [
    {
     "data": {
      "text/plain": [
       "array([4.83024187])"
      ]
     },
     "execution_count": 43,
     "metadata": {},
     "output_type": "execute_result"
    }
   ],
   "source": [
    "from sklearn.linear_model import Lasso\n",
    "lasso_reg = Lasso(alpha=0.1)\n",
    "lasso_reg.fit(X, y)\n",
    "lasso_reg.predict([[1.5]])"
   ]
  },
  {
   "cell_type": "markdown",
   "id": "bc5f16ba-a5af-4c9a-a006-28322fe70ead",
   "metadata": {},
   "source": [
    "# Increasing $α$ leads to flatter (i.e., less extreme, more reasonable) predictions; this reduces the model’s variance but increases its bias."
   ]
  },
  {
   "cell_type": "markdown",
   "id": "a9d86e55-cb3c-426e-baf1-14776a86f025",
   "metadata": {},
   "source": [
    "# Elastic Regression\n",
    "\n",
    "Elastic Net is a middle ground between Ridge Regression and Lasso Regression. We can control the mix ratio $r$. When $r = 0$ Elastic regression is equivalent to Ridge regression and when $r = 1$, it is equivalent to Lasso regression.\n",
    "\n",
    "Mathematically:\n",
    "\n",
    "$J\\theta$ = $MSE(\\theta) + r\\alpha\\Sigma^n_{i=1}|\\theta_i| + ((1-r)/2) \\alpha\\Sigma^n_{i=1}\\theta^2_i$"
   ]
  },
  {
   "cell_type": "code",
   "execution_count": 53,
   "id": "cf60551d-7d0b-4d2e-9d73-1b0004c19fb4",
   "metadata": {},
   "outputs": [
    {
     "data": {
      "text/plain": [
       "array([4.83157583])"
      ]
     },
     "execution_count": 53,
     "metadata": {},
     "output_type": "execute_result"
    }
   ],
   "source": [
    "from sklearn.linear_model import ElasticNet\n",
    "elastic_net = ElasticNet(alpha=0.1, l1_ratio=0.5)\n",
    "elastic_net.fit(X,y)\n",
    "elastic_net.predict([[1.5]])"
   ]
  },
  {
   "cell_type": "markdown",
   "id": "c34c7575-a076-4eab-aab6-5bee60591bac",
   "metadata": {},
   "source": [
    "# Early Stoping\n",
    "A very different way to regularize iterative learning algorithms such as Gradient Descent is to stop training as soon as the validation error reaches a minimum which is known as Early Stoping."
   ]
  },
  {
   "cell_type": "code",
   "execution_count": 61,
   "id": "4a791635-e717-4752-840e-45b48874142f",
   "metadata": {},
   "outputs": [],
   "source": [
    "from sklearn.base import clone,is_outlier_detector\n",
    "from sklearn.preprocessing import StandardScaler"
   ]
  },
  {
   "cell_type": "code",
   "execution_count": 156,
   "id": "03161795-6d9c-42b7-bfb1-cd26683a3d91",
   "metadata": {},
   "outputs": [],
   "source": [
    "X = X = 6 * np.random.rand(1000, 1) - 3\n",
    "y = 0.5 * X**2 + X + 2 + np.random.randn(1000, 1)\n",
    "y = y.ravel()\n",
    "X_train,X_val, y_train,y_val = X[:800], X[800:],y[:800],y[800:]\n",
    "\n",
    "poly_scaler = Pipeline([\n",
    "    ('poly_scaler', PolynomialFeatures(degree=90, include_bias=False)),\n",
    "    ('std_scaler', StandardScaler())\n",
    "])\n",
    "\n",
    "X_train_poly = poly_scaler.fit_transform(X_train)\n",
    "X_val_poly =poly_scaler.fit_transform(X_val)\n",
    "\n",
    "sdg_reg = SGDRegressor(max_iter=100, tol=0.2, warm_start=True,\n",
    "                      penalty=None, learning_rate='constant', eta0=5e-4, verbose=0)\n",
    "\n",
    "minimum_val_error = float('inf')\n",
    "best_epoch = None\n",
    "best_model = None\n",
    "\n",
    "for epoch in range(1000):\n",
    "    sdg_reg.fit(X_train_poly, y_train)\n",
    "    y_val_predict = sdg_reg.predict(X_val_poly)\n",
    "    val_error = mean_squared_error(y_val, y_val_predict)\n",
    "    if val_error < minimum_val_error:\n",
    "        minimum_val_error = val_error\n",
    "        best_epoch =epoch\n",
    "        best_model = clone(sdg_reg)"
   ]
  },
  {
   "cell_type": "markdown",
   "id": "62c35f87-9c92-4a89-865c-f88e19ce78bb",
   "metadata": {},
   "source": [
    "# Logistic Regression\n",
    "\n",
    "Logistic Regression(also known as Logit Regression) is mostly used to estimate the probability that an instance belongs to a particular class "
   ]
  },
  {
   "cell_type": "code",
   "execution_count": 189,
   "id": "a8646a09-5fab-4cce-94be-125a32b2aafd",
   "metadata": {},
   "outputs": [],
   "source": [
    "from sklearn import datasets"
   ]
  },
  {
   "cell_type": "code",
   "execution_count": 190,
   "id": "0ef88293-486b-4e9e-826f-229e161628ad",
   "metadata": {},
   "outputs": [
    {
     "data": {
      "text/plain": [
       "['data',\n",
       " 'target',\n",
       " 'frame',\n",
       " 'target_names',\n",
       " 'DESCR',\n",
       " 'feature_names',\n",
       " 'filename',\n",
       " 'data_module']"
      ]
     },
     "execution_count": 190,
     "metadata": {},
     "output_type": "execute_result"
    }
   ],
   "source": [
    "iris = datasets.load_iris()\n",
    "list(iris.keys())\n"
   ]
  },
  {
   "cell_type": "code",
   "execution_count": 299,
   "id": "9574b2c0-602d-4280-a19a-c6f456845d87",
   "metadata": {},
   "outputs": [],
   "source": [
    "X = iris['data'][:, 3:] # selects only the 'petal width (cm) features\n",
    "y = (iris['target'] == 2).astype(np.int_)  # Selects only the 'virginica' target"
   ]
  },
  {
   "cell_type": "code",
   "execution_count": 300,
   "id": "4d934aa5-a267-4f50-a399-a92b46426457",
   "metadata": {},
   "outputs": [
    {
     "data": {
      "text/html": [
       "<style>#sk-container-id-20 {color: black;}#sk-container-id-20 pre{padding: 0;}#sk-container-id-20 div.sk-toggleable {background-color: white;}#sk-container-id-20 label.sk-toggleable__label {cursor: pointer;display: block;width: 100%;margin-bottom: 0;padding: 0.3em;box-sizing: border-box;text-align: center;}#sk-container-id-20 label.sk-toggleable__label-arrow:before {content: \"▸\";float: left;margin-right: 0.25em;color: #696969;}#sk-container-id-20 label.sk-toggleable__label-arrow:hover:before {color: black;}#sk-container-id-20 div.sk-estimator:hover label.sk-toggleable__label-arrow:before {color: black;}#sk-container-id-20 div.sk-toggleable__content {max-height: 0;max-width: 0;overflow: hidden;text-align: left;background-color: #f0f8ff;}#sk-container-id-20 div.sk-toggleable__content pre {margin: 0.2em;color: black;border-radius: 0.25em;background-color: #f0f8ff;}#sk-container-id-20 input.sk-toggleable__control:checked~div.sk-toggleable__content {max-height: 200px;max-width: 100%;overflow: auto;}#sk-container-id-20 input.sk-toggleable__control:checked~label.sk-toggleable__label-arrow:before {content: \"▾\";}#sk-container-id-20 div.sk-estimator input.sk-toggleable__control:checked~label.sk-toggleable__label {background-color: #d4ebff;}#sk-container-id-20 div.sk-label input.sk-toggleable__control:checked~label.sk-toggleable__label {background-color: #d4ebff;}#sk-container-id-20 input.sk-hidden--visually {border: 0;clip: rect(1px 1px 1px 1px);clip: rect(1px, 1px, 1px, 1px);height: 1px;margin: -1px;overflow: hidden;padding: 0;position: absolute;width: 1px;}#sk-container-id-20 div.sk-estimator {font-family: monospace;background-color: #f0f8ff;border: 1px dotted black;border-radius: 0.25em;box-sizing: border-box;margin-bottom: 0.5em;}#sk-container-id-20 div.sk-estimator:hover {background-color: #d4ebff;}#sk-container-id-20 div.sk-parallel-item::after {content: \"\";width: 100%;border-bottom: 1px solid gray;flex-grow: 1;}#sk-container-id-20 div.sk-label:hover label.sk-toggleable__label {background-color: #d4ebff;}#sk-container-id-20 div.sk-serial::before {content: \"\";position: absolute;border-left: 1px solid gray;box-sizing: border-box;top: 0;bottom: 0;left: 50%;z-index: 0;}#sk-container-id-20 div.sk-serial {display: flex;flex-direction: column;align-items: center;background-color: white;padding-right: 0.2em;padding-left: 0.2em;position: relative;}#sk-container-id-20 div.sk-item {position: relative;z-index: 1;}#sk-container-id-20 div.sk-parallel {display: flex;align-items: stretch;justify-content: center;background-color: white;position: relative;}#sk-container-id-20 div.sk-item::before, #sk-container-id-20 div.sk-parallel-item::before {content: \"\";position: absolute;border-left: 1px solid gray;box-sizing: border-box;top: 0;bottom: 0;left: 50%;z-index: -1;}#sk-container-id-20 div.sk-parallel-item {display: flex;flex-direction: column;z-index: 1;position: relative;background-color: white;}#sk-container-id-20 div.sk-parallel-item:first-child::after {align-self: flex-end;width: 50%;}#sk-container-id-20 div.sk-parallel-item:last-child::after {align-self: flex-start;width: 50%;}#sk-container-id-20 div.sk-parallel-item:only-child::after {width: 0;}#sk-container-id-20 div.sk-dashed-wrapped {border: 1px dashed gray;margin: 0 0.4em 0.5em 0.4em;box-sizing: border-box;padding-bottom: 0.4em;background-color: white;}#sk-container-id-20 div.sk-label label {font-family: monospace;font-weight: bold;display: inline-block;line-height: 1.2em;}#sk-container-id-20 div.sk-label-container {text-align: center;}#sk-container-id-20 div.sk-container {/* jupyter's `normalize.less` sets `[hidden] { display: none; }` but bootstrap.min.css set `[hidden] { display: none !important; }` so we also need the `!important` here to be able to override the default hidden behavior on the sphinx rendered scikit-learn.org. See: https://github.com/scikit-learn/scikit-learn/issues/21755 */display: inline-block !important;position: relative;}#sk-container-id-20 div.sk-text-repr-fallback {display: none;}</style><div id=\"sk-container-id-20\" class=\"sk-top-container\"><div class=\"sk-text-repr-fallback\"><pre>LogisticRegression(max_iter=1000)</pre><b>In a Jupyter environment, please rerun this cell to show the HTML representation or trust the notebook. <br />On GitHub, the HTML representation is unable to render, please try loading this page with nbviewer.org.</b></div><div class=\"sk-container\" hidden><div class=\"sk-item\"><div class=\"sk-estimator sk-toggleable\"><input class=\"sk-toggleable__control sk-hidden--visually\" id=\"sk-estimator-id-20\" type=\"checkbox\" checked><label for=\"sk-estimator-id-20\" class=\"sk-toggleable__label sk-toggleable__label-arrow\">LogisticRegression</label><div class=\"sk-toggleable__content\"><pre>LogisticRegression(max_iter=1000)</pre></div></div></div></div></div>"
      ],
      "text/plain": [
       "LogisticRegression(max_iter=1000)"
      ]
     },
     "execution_count": 300,
     "metadata": {},
     "output_type": "execute_result"
    }
   ],
   "source": [
    "from sklearn.linear_model import LogisticRegression\n",
    "\n",
    "log_reg = LogisticRegression(max_iter=1000)\n",
    "log_reg.fit(X,y)"
   ]
  },
  {
   "cell_type": "code",
   "execution_count": 301,
   "id": "416effad-46aa-4d75-98c9-39b1284123b7",
   "metadata": {},
   "outputs": [
    {
     "data": {
      "text/plain": [
       "Text(0, 0.5, 'Y proba')"
      ]
     },
     "execution_count": 301,
     "metadata": {},
     "output_type": "execute_result"
    },
    {
     "data": {
      "image/png": "[encoded data removed]",
      "text/plain": [
       "<Figure size 640x480 with 1 Axes>"
      ]
     },
     "metadata": {},
     "output_type": "display_data"
    }
   ],
   "source": [
    "X_new = np.linspace(0,3, 1000).reshape(-1,1)\n",
    "y_proba = log_reg.predict_proba(X_new)\n",
    "plt.plot(X_new, y_proba[:, 1], 'g-', label=\"Iris-Virginica\")\n",
    "plt.plot(X_new, y_proba[:, 0], \"b--\", label=\"Not Iris-Virginica\")\n",
    "plt.autoscale()\n",
    "plt.legend()\n",
    "plt.xlabel('Petal Width')\n",
    "plt.ylabel('Y proba')"
   ]
  },
  {
   "cell_type": "markdown",
   "id": "da44e897-c432-469b-8681-31aee869703e",
   "metadata": {},
   "source": [
    "# Softmax Regrssion\n",
    "It supports multiple binary classes without having to combine multiple binary classifier"
   ]
  },
  {
   "cell_type": "code",
   "execution_count": 317,
   "id": "44ced325-ed09-4c5d-8ee7-3ffd94d5d9c6",
   "metadata": {},
   "outputs": [
    {
     "data": {
      "text/plain": [
       "array([[6.38014896e-07, 5.74929995e-02, 9.42506362e-01]])"
      ]
     },
     "execution_count": 317,
     "metadata": {},
     "output_type": "execute_result"
    }
   ],
   "source": [
    "X = iris[\"data\"][:, (2, 3)] # petal length, petal width\n",
    "y = iris['target']\n",
    "\n",
    "softmax_reg = LogisticRegression(multi_class='multinomial', solver='lbfgs', C=10)\n",
    "softmax_reg.fit(X,y)\n",
    "\n",
    "softmax_reg.predict([[5,2]])\n",
    "softmax_reg.predict_proba([[5,2]])"
   ]
  },
  {
   "cell_type": "code",
   "execution_count": null,
   "id": "bc54390e-4659-4461-b55b-2dbd8d112af4",
   "metadata": {},
   "outputs": [],
   "source": []
  }
 ],
 "metadata": {
  "kernelspec": {
   "display_name": "Python 3 (ipykernel)",
   "language": "python",
   "name": "python3"
  },
  "language_info": {
   "codemirror_mode": {
    "name": "ipython",
    "version": 3
   },
   "file_extension": ".py",
   "mimetype": "text/x-python",
   "name": "python",
   "nbconvert_exporter": "python",
   "pygments_lexer": "ipython3",
   "version": "3.11.5"
  }
 },
 "nbformat": 4,
 "nbformat_minor": 5
}
