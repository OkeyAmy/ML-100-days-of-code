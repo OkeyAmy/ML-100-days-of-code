{
 "cells": [
  {
   "cell_type": "markdown",
   "id": "850ab1faa8a3db93",
   "metadata": {
    "collapsed": false,
    "jupyter": {
     "outputs_hidden": false
    }
   },
   "source": [
    "Try to build a classifier for the MNIST dataset that achieves over 97% accuracy\n",
    "on the test set. Hint: the KNeighborsClassifier works quite well for this task;\n",
    "you just need to find good hyperparameter values "
   ]
  },
  {
   "cell_type": "code",
   "execution_count": 1,
   "id": "a105b8ebc0b61280",
   "metadata": {
    "collapsed": false,
    "is_executing": true,
    "jupyter": {
     "outputs_hidden": false
    }
   },
   "outputs": [],
   "source": [
    "import numpy as np\n",
    "from sklearn.datasets import fetch_openml\n",
    "from sklearn.neighbors import KNeighborsClassifier\n",
    "from sklearn.multiclass import OneVsOneClassifier\n",
    "from sklearn.model_selection import cross_val_score, cross_val_predict, train_test_split\n",
    "from sklearn.preprocessing import StandardScaler\n",
    "import numpy as np\n",
    "from sklearn.metrics import accuracy_score, confusion_matrix\n",
    "from sklearn.model_selection import GridSearchCV"
   ]
  },
  {
   "cell_type": "code",
   "execution_count": 2,
   "id": "55d1538ad0ce131e",
   "metadata": {
    "collapsed": false,
    "is_executing": true,
    "jupyter": {
     "outputs_hidden": false
    }
   },
   "outputs": [
    {
     "name": "stderr",
     "output_type": "stream",
     "text": [
      "C:\\Python311\\Lib\\site-packages\\sklearn\\datasets\\_openml.py:1022: FutureWarning: The default value of `parser` will change from `'liac-arff'` to `'auto'` in 1.4. You can set `parser='auto'` to silence this warning. Therefore, an `ImportError` will be raised from 1.4 if the dataset is dense and pandas is not installed. Note that the pandas parser may return different data types. See the Notes Section in fetch_openml's API doc for details.\n",
      "  warn(\n"
     ]
    }
   ],
   "source": [
    "mnist = fetch_openml('mnist_784', version=1)"
   ]
  },
  {
   "cell_type": "code",
   "execution_count": 3,
   "id": "e9ed4d2435ad893d",
   "metadata": {
    "ExecuteTime": {
     "end_time": "2024-07-22T02:43:29.098045700Z",
     "start_time": "2024-07-22T02:43:27.109555200Z"
    },
    "collapsed": false,
    "jupyter": {
     "outputs_hidden": false
    }
   },
   "outputs": [
    {
     "data": {
      "text/plain": [
       "dict_keys(['data', 'target', 'frame', 'categories', 'feature_names', 'target_names', 'DESCR', 'details', 'url'])"
      ]
     },
     "execution_count": 3,
     "metadata": {},
     "output_type": "execute_result"
    }
   ],
   "source": [
    "mnist.keys()"
   ]
  },
  {
   "cell_type": "code",
   "execution_count": 4,
   "id": "9ce4b433-d727-47bd-8247-27aca6618d8a",
   "metadata": {},
   "outputs": [],
   "source": [
    "X = mnist['data']\n",
    "y = mnist['target']"
   ]
  },
  {
   "cell_type": "code",
   "execution_count": 5,
   "id": "61134229-4237-4066-b46f-79d28df88ca0",
   "metadata": {},
   "outputs": [],
   "source": [
    "# X = X.astype(np.uint16)\n",
    "y = y.astype(np.uint16)"
   ]
  },
  {
   "cell_type": "code",
   "execution_count": 6,
   "id": "e8befb3e-28e6-45db-aa02-7cc0826c059f",
   "metadata": {},
   "outputs": [],
   "source": [
    "X_train, X_test, y_train, y_test = train_test_split(X, y, random_state=42, \n",
    "                                                    shuffle=True, stratify=y)"
   ]
  },
  {
   "cell_type": "code",
   "execution_count": 7,
   "id": "5978e745-5654-4a8d-a747-3db6168a9128",
   "metadata": {},
   "outputs": [],
   "source": [
    "y_test = y_test.values"
   ]
  },
  {
   "cell_type": "code",
   "execution_count": 8,
   "id": "1cce5d56-f398-4fd1-86e5-b4b94b8cf613",
   "metadata": {},
   "outputs": [],
   "source": [
    "scaler = StandardScaler()\n",
    "\n",
    "X_train_scaled = scaler.fit_transform(X_train)"
   ]
  },
  {
   "cell_type": "code",
   "execution_count": 9,
   "id": "655cdda7-7f52-4da1-bbea-ca9e7917c61d",
   "metadata": {},
   "outputs": [],
   "source": [
    "param_grid = {\n",
    "    'n_neighbors': [1, 3, 6],\n",
    "    'weights': ['distance', 'uniform']\n",
    "}\n",
    "\n",
    "# Instaitiate the model \n",
    "knn = KNeighborsClassifier()"
   ]
  },
  {
   "cell_type": "code",
   "execution_count": 10,
   "id": "ff84ed4a-b3fe-48ad-937c-f7fb13a87ff8",
   "metadata": {},
   "outputs": [],
   "source": [
    "grid_search = GridSearchCV(knn, param_grid=param_grid, scoring='accuracy')"
   ]
  },
  {
   "cell_type": "code",
   "execution_count": 11,
   "id": "2509ba15-9b79-4520-8d0b-96af0954fd9f",
   "metadata": {},
   "outputs": [
    {
     "data": {
      "text/html": [
       "<style>#sk-container-id-1 {color: black;}#sk-container-id-1 pre{padding: 0;}#sk-container-id-1 div.sk-toggleable {background-color: white;}#sk-container-id-1 label.sk-toggleable__label {cursor: pointer;display: block;width: 100%;margin-bottom: 0;padding: 0.3em;box-sizing: border-box;text-align: center;}#sk-container-id-1 label.sk-toggleable__label-arrow:before {content: \"▸\";float: left;margin-right: 0.25em;color: #696969;}#sk-container-id-1 label.sk-toggleable__label-arrow:hover:before {color: black;}#sk-container-id-1 div.sk-estimator:hover label.sk-toggleable__label-arrow:before {color: black;}#sk-container-id-1 div.sk-toggleable__content {max-height: 0;max-width: 0;overflow: hidden;text-align: left;background-color: #f0f8ff;}#sk-container-id-1 div.sk-toggleable__content pre {margin: 0.2em;color: black;border-radius: 0.25em;background-color: #f0f8ff;}#sk-container-id-1 input.sk-toggleable__control:checked~div.sk-toggleable__content {max-height: 200px;max-width: 100%;overflow: auto;}#sk-container-id-1 input.sk-toggleable__control:checked~label.sk-toggleable__label-arrow:before {content: \"▾\";}#sk-container-id-1 div.sk-estimator input.sk-toggleable__control:checked~label.sk-toggleable__label {background-color: #d4ebff;}#sk-container-id-1 div.sk-label input.sk-toggleable__control:checked~label.sk-toggleable__label {background-color: #d4ebff;}#sk-container-id-1 input.sk-hidden--visually {border: 0;clip: rect(1px 1px 1px 1px);clip: rect(1px, 1px, 1px, 1px);height: 1px;margin: -1px;overflow: hidden;padding: 0;position: absolute;width: 1px;}#sk-container-id-1 div.sk-estimator {font-family: monospace;background-color: #f0f8ff;border: 1px dotted black;border-radius: 0.25em;box-sizing: border-box;margin-bottom: 0.5em;}#sk-container-id-1 div.sk-estimator:hover {background-color: #d4ebff;}#sk-container-id-1 div.sk-parallel-item::after {content: \"\";width: 100%;border-bottom: 1px solid gray;flex-grow: 1;}#sk-container-id-1 div.sk-label:hover label.sk-toggleable__label {background-color: #d4ebff;}#sk-container-id-1 div.sk-serial::before {content: \"\";position: absolute;border-left: 1px solid gray;box-sizing: border-box;top: 0;bottom: 0;left: 50%;z-index: 0;}#sk-container-id-1 div.sk-serial {display: flex;flex-direction: column;align-items: center;background-color: white;padding-right: 0.2em;padding-left: 0.2em;position: relative;}#sk-container-id-1 div.sk-item {position: relative;z-index: 1;}#sk-container-id-1 div.sk-parallel {display: flex;align-items: stretch;justify-content: center;background-color: white;position: relative;}#sk-container-id-1 div.sk-item::before, #sk-container-id-1 div.sk-parallel-item::before {content: \"\";position: absolute;border-left: 1px solid gray;box-sizing: border-box;top: 0;bottom: 0;left: 50%;z-index: -1;}#sk-container-id-1 div.sk-parallel-item {display: flex;flex-direction: column;z-index: 1;position: relative;background-color: white;}#sk-container-id-1 div.sk-parallel-item:first-child::after {align-self: flex-end;width: 50%;}#sk-container-id-1 div.sk-parallel-item:last-child::after {align-self: flex-start;width: 50%;}#sk-container-id-1 div.sk-parallel-item:only-child::after {width: 0;}#sk-container-id-1 div.sk-dashed-wrapped {border: 1px dashed gray;margin: 0 0.4em 0.5em 0.4em;box-sizing: border-box;padding-bottom: 0.4em;background-color: white;}#sk-container-id-1 div.sk-label label {font-family: monospace;font-weight: bold;display: inline-block;line-height: 1.2em;}#sk-container-id-1 div.sk-label-container {text-align: center;}#sk-container-id-1 div.sk-container {/* jupyter's `normalize.less` sets `[hidden] { display: none; }` but bootstrap.min.css set `[hidden] { display: none !important; }` so we also need the `!important` here to be able to override the default hidden behavior on the sphinx rendered scikit-learn.org. See: https://github.com/scikit-learn/scikit-learn/issues/21755 */display: inline-block !important;position: relative;}#sk-container-id-1 div.sk-text-repr-fallback {display: none;}</style><div id=\"sk-container-id-1\" class=\"sk-top-container\"><div class=\"sk-text-repr-fallback\"><pre>GridSearchCV(estimator=KNeighborsClassifier(),\n",
       "             param_grid={&#x27;n_neighbors&#x27;: [1, 3, 6],\n",
       "                         &#x27;weights&#x27;: [&#x27;distance&#x27;, &#x27;uniform&#x27;]},\n",
       "             scoring=&#x27;accuracy&#x27;)</pre><b>In a Jupyter environment, please rerun this cell to show the HTML representation or trust the notebook. <br />On GitHub, the HTML representation is unable to render, please try loading this page with nbviewer.org.</b></div><div class=\"sk-container\" hidden><div class=\"sk-item sk-dashed-wrapped\"><div class=\"sk-label-container\"><div class=\"sk-label sk-toggleable\"><input class=\"sk-toggleable__control sk-hidden--visually\" id=\"sk-estimator-id-1\" type=\"checkbox\" ><label for=\"sk-estimator-id-1\" class=\"sk-toggleable__label sk-toggleable__label-arrow\">GridSearchCV</label><div class=\"sk-toggleable__content\"><pre>GridSearchCV(estimator=KNeighborsClassifier(),\n",
       "             param_grid={&#x27;n_neighbors&#x27;: [1, 3, 6],\n",
       "                         &#x27;weights&#x27;: [&#x27;distance&#x27;, &#x27;uniform&#x27;]},\n",
       "             scoring=&#x27;accuracy&#x27;)</pre></div></div></div><div class=\"sk-parallel\"><div class=\"sk-parallel-item\"><div class=\"sk-item\"><div class=\"sk-label-container\"><div class=\"sk-label sk-toggleable\"><input class=\"sk-toggleable__control sk-hidden--visually\" id=\"sk-estimator-id-2\" type=\"checkbox\" ><label for=\"sk-estimator-id-2\" class=\"sk-toggleable__label sk-toggleable__label-arrow\">estimator: KNeighborsClassifier</label><div class=\"sk-toggleable__content\"><pre>KNeighborsClassifier()</pre></div></div></div><div class=\"sk-serial\"><div class=\"sk-item\"><div class=\"sk-estimator sk-toggleable\"><input class=\"sk-toggleable__control sk-hidden--visually\" id=\"sk-estimator-id-3\" type=\"checkbox\" ><label for=\"sk-estimator-id-3\" class=\"sk-toggleable__label sk-toggleable__label-arrow\">KNeighborsClassifier</label><div class=\"sk-toggleable__content\"><pre>KNeighborsClassifier()</pre></div></div></div></div></div></div></div></div></div></div>"
      ],
      "text/plain": [
       "GridSearchCV(estimator=KNeighborsClassifier(),\n",
       "             param_grid={'n_neighbors': [1, 3, 6],\n",
       "                         'weights': ['distance', 'uniform']},\n",
       "             scoring='accuracy')"
      ]
     },
     "execution_count": 11,
     "metadata": {},
     "output_type": "execute_result"
    }
   ],
   "source": [
    "grid_search.fit(X_train, y_train)"
   ]
  },
  {
   "cell_type": "code",
   "execution_count": 12,
   "id": "283e481d-0278-45be-b389-5b45ca9902f1",
   "metadata": {},
   "outputs": [],
   "source": [
    "y_pred = grid_search.predict(X_test)"
   ]
  },
  {
   "cell_type": "code",
   "execution_count": 13,
   "id": "3a58ace9-0427-40fb-bc83-ef03a5a845dd",
   "metadata": {},
   "outputs": [
    {
     "data": {
      "text/plain": [
       "0.9711428571428572"
      ]
     },
     "execution_count": 13,
     "metadata": {},
     "output_type": "execute_result"
    }
   ],
   "source": [
    "grid_search.best_score_"
   ]
  },
  {
   "cell_type": "markdown",
   "id": "9ff1d876-1131-4e7a-b256-ab065968bf8d",
   "metadata": {},
   "source": [
    "Write a function that can shift an MNIST image in any direction (left, right, up, or down) by 3 pixel. Then, for each image in the training set, create four shifted copies (one per direction) and add them to the training set. Finally, train your best model on this expanded training set and measure its accuracy on the test set. You should observe that your model performs even better now! This technique of\n",
    "artificially growing the training set is called data augmentation or training set expansion."
   ]
  },
  {
   "cell_type": "code",
   "execution_count": 14,
   "id": "2ace0ac5-2ac5-4ef3-b858-4e7ab62e2bee",
   "metadata": {
    "editable": true,
    "slideshow": {
     "slide_type": ""
    },
    "tags": []
   },
   "outputs": [],
   "source": [
    "from scipy.ndimage import shift\n",
    "import matplotlib.pyplot as plt\n",
    "import matplotlib as mpl\n",
    "import pandas as pd"
   ]
  },
  {
   "cell_type": "code",
   "execution_count": 15,
   "id": "ef709270-5f92-459c-a99c-d460ceba3470",
   "metadata": {},
   "outputs": [
    {
     "data": {
      "text/plain": [
       "(1, 784)"
      ]
     },
     "execution_count": 15,
     "metadata": {},
     "output_type": "execute_result"
    }
   ],
   "source": [
    "few_digit = X[12:13]\n",
    "few_digit = np.array(few_digit, dtype=np.uint16)\n",
    "some_digits_image = few_digit.reshape(28,28)\n",
    "few_digit.shape"
   ]
  },
  {
   "cell_type": "code",
   "execution_count": 16,
   "id": "c9c3d94d-9021-41de-857f-f25082a3902b",
   "metadata": {},
   "outputs": [
    {
     "data": {
      "image/png": "[encoded data removed]",
      "text/plain": [
       "<Figure size 640x480 with 1 Axes>"
      ]
     },
     "metadata": {},
     "output_type": "display_data"
    }
   ],
   "source": [
    "#Image shifted down by 3 pixel\n",
    "image_shifted_down = shift(some_digits_image, (3, 0))\n",
    "image_shifted_down_resharped = image_shifted_down.reshape(1, 784)\n",
    "\n",
    "\n",
    "plt.imshow(image_shifted_down, cmap=mpl.cm.binary, interpolation='antialiased') \n",
    "# Other form of interpolation to generate pixel are: 'nearest', 'bicubic', 'bilinear' \n",
    "# Check out the Documentation to understand more \n",
    "plt.axis('on')\n",
    "plt.show()"
   ]
  },
  {
   "cell_type": "code",
   "execution_count": 17,
   "id": "a2c9eed6-49e4-44ad-8d5d-cff523a7c4c0",
   "metadata": {},
   "outputs": [
    {
     "data": {
      "image/png": "[encoded data removed]",
      "text/plain": [
       "<Figure size 640x480 with 1 Axes>"
      ]
     },
     "metadata": {},
     "output_type": "display_data"
    }
   ],
   "source": [
    "# image shifted up by 3 pixel\n",
    "image_shifted_up = shift(some_digits_image, (-3, 0))\n",
    "image_shifted_up_resharped = image_shifted_up.reshape(1, 784)\n",
    "\n",
    "\n",
    "plt.imshow(image_shifted_up, cmap=mpl.cm.binary, interpolation='antialiased') \n",
    "# Other form of interpolation to generate pixel are: 'nearest', 'bicubic', 'bilinear' \n",
    "# Check out the Documentation to understand more \n",
    "plt.axis('on')\n",
    "plt.show()"
   ]
  },
  {
   "cell_type": "code",
   "execution_count": 18,
   "id": "9454f733-2da1-4c8a-ba4a-4ba7ac9c7796",
   "metadata": {},
   "outputs": [
    {
     "data": {
      "text/plain": [
       "<function matplotlib.pyplot.show(close=None, block=None)>"
      ]
     },
     "execution_count": 18,
     "metadata": {},
     "output_type": "execute_result"
    },
    {
     "data": {
      "image/png": "[encoded data removed]",
      "text/plain": [
       "<Figure size 640x480 with 1 Axes>"
      ]
     },
     "metadata": {},
     "output_type": "display_data"
    }
   ],
   "source": [
    "# image shifted to the right by 3 pixel\n",
    "image_shifted_right = shift(some_digits_image, (0, 3))\n",
    "image_shifted_right_resharped = image_shifted_right.reshape(1, 784)\n",
    "\n",
    "plt.imshow(image_shifted_right, cmap=mpl.cm.binary, interpolation=\"antialiased\")\n",
    "plt.axis()\n",
    "plt.show"
   ]
  },
  {
   "cell_type": "code",
   "execution_count": 19,
   "id": "0cb4d877-9083-4f50-8d20-8eb254a388a0",
   "metadata": {},
   "outputs": [
    {
     "data": {
      "text/plain": [
       "<function matplotlib.pyplot.show(close=None, block=None)>"
      ]
     },
     "execution_count": 19,
     "metadata": {},
     "output_type": "execute_result"
    },
    {
     "data": {
      "image/png": "[encoded data removed]",
      "text/plain": [
       "<Figure size 640x480 with 1 Axes>"
      ]
     },
     "metadata": {},
     "output_type": "display_data"
    }
   ],
   "source": [
    "# image shifted to the left by 3 pixel\n",
    "image_shifted_left = shift(some_digits_image, (0, -3))\n",
    "image_shifted_left_resharped = image_shifted_left.reshape(1, 784)\n",
    "\n",
    "plt.imshow(image_shifted_left, cmap=mpl.cm.binary, interpolation=\"antialiased\")\n",
    "plt.axis()\n",
    "plt.show"
   ]
  },
  {
   "cell_type": "code",
   "execution_count": 20,
   "id": "13a3fe58-3e5d-428b-b077-8787b08c50a3",
   "metadata": {},
   "outputs": [
    {
     "data": {
      "text/plain": [
       "(52504, 784)"
      ]
     },
     "execution_count": 20,
     "metadata": {},
     "output_type": "execute_result"
    }
   ],
   "source": [
    "X_new_array = np.concatenate([image_shifted_down_resharped, image_shifted_left_resharped, image_shifted_right_resharped,\n",
    "            image_shifted_up_resharped], axis=0)\n",
    "\n",
    "X_train_new = np.concatenate([X_train, X_new_array], axis=0)\n",
    "X_train_new.shape"
   ]
  },
  {
   "cell_type": "code",
   "execution_count": 21,
   "id": "cd3dc631-e0d2-4ea8-9602-c74659ea9ca0",
   "metadata": {},
   "outputs": [
    {
     "data": {
      "text/plain": [
       "(52504,)"
      ]
     },
     "execution_count": 21,
     "metadata": {},
     "output_type": "execute_result"
    }
   ],
   "source": [
    "y_few_digit = y[12:13]\n",
    "y_new_array = np.concatenate([y_few_digit, y_few_digit, y_few_digit,\n",
    "                             y_few_digit], axis=0)\n",
    "\n",
    "y_train_new = np.concatenate([y_train, y_new_array], axis=0)\n",
    "y_train_new.shape"
   ]
  },
  {
   "cell_type": "code",
   "execution_count": 22,
   "id": "5699a733-c0d3-4eed-9a79-2fea4235d034",
   "metadata": {},
   "outputs": [
    {
     "data": {
      "text/html": [
       "<style>#sk-container-id-2 {color: black;}#sk-container-id-2 pre{padding: 0;}#sk-container-id-2 div.sk-toggleable {background-color: white;}#sk-container-id-2 label.sk-toggleable__label {cursor: pointer;display: block;width: 100%;margin-bottom: 0;padding: 0.3em;box-sizing: border-box;text-align: center;}#sk-container-id-2 label.sk-toggleable__label-arrow:before {content: \"▸\";float: left;margin-right: 0.25em;color: #696969;}#sk-container-id-2 label.sk-toggleable__label-arrow:hover:before {color: black;}#sk-container-id-2 div.sk-estimator:hover label.sk-toggleable__label-arrow:before {color: black;}#sk-container-id-2 div.sk-toggleable__content {max-height: 0;max-width: 0;overflow: hidden;text-align: left;background-color: #f0f8ff;}#sk-container-id-2 div.sk-toggleable__content pre {margin: 0.2em;color: black;border-radius: 0.25em;background-color: #f0f8ff;}#sk-container-id-2 input.sk-toggleable__control:checked~div.sk-toggleable__content {max-height: 200px;max-width: 100%;overflow: auto;}#sk-container-id-2 input.sk-toggleable__control:checked~label.sk-toggleable__label-arrow:before {content: \"▾\";}#sk-container-id-2 div.sk-estimator input.sk-toggleable__control:checked~label.sk-toggleable__label {background-color: #d4ebff;}#sk-container-id-2 div.sk-label input.sk-toggleable__control:checked~label.sk-toggleable__label {background-color: #d4ebff;}#sk-container-id-2 input.sk-hidden--visually {border: 0;clip: rect(1px 1px 1px 1px);clip: rect(1px, 1px, 1px, 1px);height: 1px;margin: -1px;overflow: hidden;padding: 0;position: absolute;width: 1px;}#sk-container-id-2 div.sk-estimator {font-family: monospace;background-color: #f0f8ff;border: 1px dotted black;border-radius: 0.25em;box-sizing: border-box;margin-bottom: 0.5em;}#sk-container-id-2 div.sk-estimator:hover {background-color: #d4ebff;}#sk-container-id-2 div.sk-parallel-item::after {content: \"\";width: 100%;border-bottom: 1px solid gray;flex-grow: 1;}#sk-container-id-2 div.sk-label:hover label.sk-toggleable__label {background-color: #d4ebff;}#sk-container-id-2 div.sk-serial::before {content: \"\";position: absolute;border-left: 1px solid gray;box-sizing: border-box;top: 0;bottom: 0;left: 50%;z-index: 0;}#sk-container-id-2 div.sk-serial {display: flex;flex-direction: column;align-items: center;background-color: white;padding-right: 0.2em;padding-left: 0.2em;position: relative;}#sk-container-id-2 div.sk-item {position: relative;z-index: 1;}#sk-container-id-2 div.sk-parallel {display: flex;align-items: stretch;justify-content: center;background-color: white;position: relative;}#sk-container-id-2 div.sk-item::before, #sk-container-id-2 div.sk-parallel-item::before {content: \"\";position: absolute;border-left: 1px solid gray;box-sizing: border-box;top: 0;bottom: 0;left: 50%;z-index: -1;}#sk-container-id-2 div.sk-parallel-item {display: flex;flex-direction: column;z-index: 1;position: relative;background-color: white;}#sk-container-id-2 div.sk-parallel-item:first-child::after {align-self: flex-end;width: 50%;}#sk-container-id-2 div.sk-parallel-item:last-child::after {align-self: flex-start;width: 50%;}#sk-container-id-2 div.sk-parallel-item:only-child::after {width: 0;}#sk-container-id-2 div.sk-dashed-wrapped {border: 1px dashed gray;margin: 0 0.4em 0.5em 0.4em;box-sizing: border-box;padding-bottom: 0.4em;background-color: white;}#sk-container-id-2 div.sk-label label {font-family: monospace;font-weight: bold;display: inline-block;line-height: 1.2em;}#sk-container-id-2 div.sk-label-container {text-align: center;}#sk-container-id-2 div.sk-container {/* jupyter's `normalize.less` sets `[hidden] { display: none; }` but bootstrap.min.css set `[hidden] { display: none !important; }` so we also need the `!important` here to be able to override the default hidden behavior on the sphinx rendered scikit-learn.org. See: https://github.com/scikit-learn/scikit-learn/issues/21755 */display: inline-block !important;position: relative;}#sk-container-id-2 div.sk-text-repr-fallback {display: none;}</style><div id=\"sk-container-id-2\" class=\"sk-top-container\"><div class=\"sk-text-repr-fallback\"><pre>KNeighborsClassifier(n_neighbors=3, weights=&#x27;distance&#x27;)</pre><b>In a Jupyter environment, please rerun this cell to show the HTML representation or trust the notebook. <br />On GitHub, the HTML representation is unable to render, please try loading this page with nbviewer.org.</b></div><div class=\"sk-container\" hidden><div class=\"sk-item\"><div class=\"sk-estimator sk-toggleable\"><input class=\"sk-toggleable__control sk-hidden--visually\" id=\"sk-estimator-id-4\" type=\"checkbox\" checked><label for=\"sk-estimator-id-4\" class=\"sk-toggleable__label sk-toggleable__label-arrow\">KNeighborsClassifier</label><div class=\"sk-toggleable__content\"><pre>KNeighborsClassifier(n_neighbors=3, weights=&#x27;distance&#x27;)</pre></div></div></div></div></div>"
      ],
      "text/plain": [
       "KNeighborsClassifier(n_neighbors=3, weights='distance')"
      ]
     },
     "execution_count": 22,
     "metadata": {},
     "output_type": "execute_result"
    }
   ],
   "source": [
    "knn_new = KNeighborsClassifier(n_neighbors=3, weights='distance')\n",
    "\n",
    "knn_new.fit(X_train_new, y_train_new)"
   ]
  },
  {
   "cell_type": "code",
   "execution_count": 23,
   "id": "582e6611-f131-4f59-8370-abc1f3af2133",
   "metadata": {},
   "outputs": [
    {
     "name": "stderr",
     "output_type": "stream",
     "text": [
      "C:\\Python311\\Lib\\site-packages\\sklearn\\base.py:458: UserWarning: X has feature names, but KNeighborsClassifier was fitted without feature names\n",
      "  warnings.warn(\n"
     ]
    },
    {
     "data": {
      "text/plain": [
       "0.9726285714285714"
      ]
     },
     "execution_count": 23,
     "metadata": {},
     "output_type": "execute_result"
    }
   ],
   "source": [
    "knn_new.score(X_test, y_test)"
   ]
  },
  {
   "cell_type": "markdown",
   "id": "ac5e6045-1c70-4033-8006-e1087a77b51a",
   "metadata": {},
   "source": [
    "## Build a spam classifier (a more challenging exercise):\n",
    "• Download examples of spam and ham from Apache SpamAssassin’s public\n",
    "datasets.\n",
    "• Unzip the datasets and familiarize yourself with the data format.\n",
    "• Split the datasets into a training set and a test set.\n",
    "• Write a data preparation pipeline to convert each email into a feature vector.\n",
    "Your preparation pipeline should transform an email into a (sparse) vector\n",
    "indicating the presence or absence of each possible word. For example, if all\n",
    "emails only ever contain four words, “Hello,” “how,” “are,” “you,” then the email\n",
    "“Hello you Hello Hello you” would be converted into a vector [1, 0, 0, 1]\n",
    "(meaning [“Hello” is present, “how” is absent, “are” is absent, “you” is\n",
    "present]), or [3, 0, 0, 2] if you prefer to count the number of occurrences of\n",
    "each word.\n",
    "• You may want to add hyperparameters to your preparation pipeline to control\n",
    "whether or not to strip off email headers, convert each email to lowercase,\n",
    "remove punctuation, replace all URLs with “URL,” replace all numbers with\n",
    "“NUMBER,” or even perform stemming (i.e., trim off word endings; there are\n",
    "Python libraries available to do this).\n",
    "• Then try out several classifiers and see if you can build a great spam classifier,\n",
    "with both high recall and high precision."
   ]
  },
  {
   "cell_type": "code",
   "execution_count": 340,
   "id": "422c2972-9e5a-44b7-949b-6f645533f160",
   "metadata": {},
   "outputs": [],
   "source": [
    "import os\n",
    "import tarfile\n",
    "import urllib.request\n",
    "import shutil\n",
    "import email\n",
    "import email.policy\n",
    "import numpy as np\n",
    "from sklearn.model_selection import train_test_split"
   ]
  },
  {
   "cell_type": "code",
   "execution_count": 303,
   "id": "c043f650-8cf0-498a-bfd8-098ca6da9cfa",
   "metadata": {},
   "outputs": [
    {
     "name": "stdout",
     "output_type": "stream",
     "text": [
      "20030228_hard_ham.tar.bz2 already exists.\n",
      "Extracting 20030228_hard_ham.tar.bz2...\n",
      "Extracted 20030228_hard_ham.tar.bz2\n",
      "20030228_spam.tar.bz2 already exists.\n",
      "Extracting 20030228_spam.tar.bz2...\n",
      "Extracted 20030228_spam.tar.bz2\n",
      "Extracted files: ['.ipynb_checkpoints', '20030228_hard_ham.tar.bz2', '20030228_spam.tar.bz2', 'easy_ham', 'hard_ham', 'spam']\n"
     ]
    }
   ],
   "source": [
    "# Base URL for the files\n",
    "DOWNLOAD_ROOT = \"http://spamassassin.apache.org/old/publiccorpus/\"\n",
    "\n",
    "# Specific URLs for the HAM and SPAM datasets\n",
    "HAM_URLS = {\n",
    "    \"easy_ham\": DOWNLOAD_ROOT + \"20030228_easy_ham.tar.bz2\",\n",
    "    \"hard_ham\": DOWNLOAD_ROOT + \"20030228_hard_ham.tar.bz2\"\n",
    "}\n",
    "SPAM_URL = DOWNLOAD_ROOT + \"20030228_spam.tar.bz2\"\n",
    "\n",
    "# Path where the datasets will be stored\n",
    "SPAM_PATH = os.path.join(\"datasets\", \"spam\")\n",
    "\n",
    "def fetch_spam_data(ham_url=HAM_URL, spam_url=SPAM_URL, spam_path=SPAM_PATH):\n",
    "    # Check if the spam_path directory exists, if not, create it\n",
    "    if not os.path.isdir(spam_path):\n",
    "        os.makedirs(spam_path)\n",
    "    \n",
    "    # List of files to download\n",
    "    files_to_download = [(\"20030228_hard_ham.tar.bz2\", ham_url), (\"20030228_spam.tar.bz2\", spam_url)]\n",
    "    \n",
    "    # Download and extract each file\n",
    "    for filename, url in files_to_download:\n",
    "        file_path = os.path.join(spam_path, filename)\n",
    "        \n",
    "        # Download the file if it doesn't exist\n",
    "        if not os.path.isfile(file_path):\n",
    "            print(f\"Downloading {filename}...\")\n",
    "            urllib.request.urlretrieve(url, file_path)\n",
    "            print(f\"Downloaded {filename}\")\n",
    "        else:\n",
    "            print(f\"{filename} already exists.\")\n",
    "        \n",
    "        # Extract the file if it's a .tar.bz2\n",
    "        if tarfile.is_tarfile(file_path):\n",
    "            print(f\"Extracting {filename}...\")\n",
    "            with tarfile.open(file_path, 'r:bz2') as tar:\n",
    "                tar.extractall(path=spam_path)\n",
    "            print(f\"Extracted {filename}\")\n",
    "        else:\n",
    "            print(f\"{file_path} is not a valid tar file.\")\n",
    "\n",
    "# Call the function to download and extract the datasets\n",
    "fetch_spam_data()\n",
    "\n",
    "# Verify the contents of the SPAM_PATH directory\n",
    "extracted_files = os.listdir(SPAM_PATH)\n",
    "print(\"Extracted files:\", extracted_files)"
   ]
  },
  {
   "cell_type": "code",
   "execution_count": 308,
   "id": "d6959603-591b-47c3-9f56-aa1b7dde8df5",
   "metadata": {},
   "outputs": [],
   "source": [
    "# Define paths for easy_ham, hard_ham, and the combined ham directory\n",
    "EASY_HAM_DIR = os.path.join(SPAM_PATH, 'easy_ham')\n",
    "HARD_HAM_DIR = os.path.join(SPAM_PATH, 'hard_ham')\n",
    "COMBINED_HAM_DIR = os.path.join(SPAM_PATH, 'ham')\n",
    "\n",
    "# Ensure the combined ham directory exists\n",
    "if not os.path.isdir(COMBINED_HAM_DIR):\n",
    "    os.makedirs(COMBINED_HAM_DIR)"
   ]
  },
  {
   "cell_type": "code",
   "execution_count": 309,
   "id": "7e585bbe-404a-4f18-a354-9b763935d56f",
   "metadata": {},
   "outputs": [],
   "source": [
    "# Function to merge two directories\n",
    "def merge_folders(src_dir, dst_dir):\n",
    "    for item in os.listdir(src_dir):\n",
    "        src_path = os.path.join(src_dir, item)\n",
    "        dst_path = os.path.join(dst_dir, item)\n",
    "        \n",
    "        if os.path.isdir(src_path):\n",
    "            if not os.path.exists(dst_path):\n",
    "                os.makedirs(dst_path)\n",
    "            merge_folders(src_path, dst_path)\n",
    "        else:\n",
    "            shutil.move(src_path, dst_path)\n"
   ]
  },
  {
   "cell_type": "code",
   "execution_count": 313,
   "id": "5c0266ba-6048-40a5-866a-ab03bd4afc2e",
   "metadata": {},
   "outputs": [
    {
     "name": "stdout",
     "output_type": "stream",
     "text": [
      "Combined ham files: ['00001.7c53336b37003a9286aba55d2945844c', '00001.7c7d6921e671bbe18ebb5f893cd9bb35']\n"
     ]
    }
   ],
   "source": [
    "# Merge easy_ham and hard_ham into the combined ham directory\n",
    "merge_folders(EASY_HAM_DIR, COMBINED_HAM_DIR)\n",
    "merge_folders(HARD_HAM_DIR, COMBINED_HAM_DIR)\n",
    "\n",
    "# Print the contents of the combined ham directory\n",
    "combined_files = os.listdir(COMBINED_HAM_DIR)\n",
    "print(\"Combined ham files:\", combined_files[1:3])"
   ]
  },
  {
   "cell_type": "code",
   "execution_count": 314,
   "id": "94ba44b3-ada0-45e5-888a-6e15fb94a3b3",
   "metadata": {},
   "outputs": [],
   "source": [
    "def load_email(is_spam, filename, spam_path=SPAM_PATH):\n",
    "    if is_spam:\n",
    "        directory = \"spam\"\n",
    "    else:\n",
    "        directory = \"ham\"\n",
    "    \n",
    "    with open(os.path.join(spam_path, directory, filename), \"rb\") as f:\n",
    "        return BytesParser(policy=policy.default).parse(f)"
   ]
  },
  {
   "cell_type": "code",
   "execution_count": 316,
   "id": "88f82fbe-4791-4d40-a8b9-cc82a4893dc9",
   "metadata": {},
   "outputs": [
    {
     "data": {
      "text/plain": [
       "2750"
      ]
     },
     "execution_count": 316,
     "metadata": {},
     "output_type": "execute_result"
    }
   ],
   "source": [
    "ham_filenames = [name for name in sorted(os.listdir(COMBINED_HAM_DIR)) if len(name) > 20]\n",
    "spam_filenames = [name for name in sorted(os.listdir(SPAM_DIR)) if len(name) > 20]\n",
    "len(ham_filenames)"
   ]
  },
  {
   "cell_type": "code",
   "execution_count": 323,
   "id": "9ae31ea2-7eb7-48f5-918a-808f37c5152d",
   "metadata": {},
   "outputs": [],
   "source": [
    "def load_email(is_spam, filename, spam_path=SPAM_PATH):\n",
    "    if is_spam:\n",
    "        directory = \"spam\"\n",
    "    else:\n",
    "        directory = \"ham\"\n",
    "    \n",
    "    with open(os.path.join(spam_path, directory, filename), \"rb\") as f:\n",
    "        return email.parser.BytesParser(policy=email.policy.default).parse(f)"
   ]
  },
  {
   "cell_type": "code",
   "execution_count": 324,
   "id": "da68eba8-89b1-4a6c-98ae-44e1368597b6",
   "metadata": {},
   "outputs": [],
   "source": [
    "ham_emails = [load_email(is_spam=False, filename=name) for name in ham_filenames]\n",
    "spam_emails = [load_email(is_spam=True, filename=name) for name in spam_filenames]"
   ]
  },
  {
   "cell_type": "code",
   "execution_count": 325,
   "id": "249a4755-5922-44b4-86b7-e82e6c67ed92",
   "metadata": {},
   "outputs": [
    {
     "name": "stdout",
     "output_type": "stream",
     "text": [
      "Hi,\n",
      "\n",
      "I think you need to give us a little more detailed information.\n",
      "\n",
      "On Wed, 04 Dec 2002, Gianni Ponzi wrote:\n",
      "\n",
      "> I have a prob when trying to install Linux (tried RedHat, Suse) on my\n",
      "> laptop. \n",
      "\n",
      "You get _exactly_ the same problem with Suse and RedHat, is that right?\n",
      "What versions of these have you used?\n",
      "\n",
      "> I can start the install but after about 2min, the whole pc just\n",
      "> dies.\n",
      "\n",
      "As in freezes, reboots?  Do you get any errors?\n",
      "\n",
      "> I know it's not a Linux prob and here is what I have encountered:\n",
      "> \n",
      "> I had the same problem when installing Win on it and eventually sorted it\n",
      "> out by disabling the infrared port. \n",
      "\n",
      "Did you disable it in the BIOS or in windows?\n",
      "\n",
      "> I'm guessing this might be same prob although I'm not sure. I am very new\n",
      "> to Linux so it's not that easy for me to work it out. I did manage to\n",
      "> follow the setup procedure at one stage (using images on disks) and it\n",
      "> cuts out either as it's trying to verify what CD-Rom I have or just after\n",
      "> (hence my suspicion of the infrared port again).\n",
      "\n",
      "1. What laptop is it?  What is the Processor and how much RAM does it have?\n",
      "\n",
      "2. You cannot simply boot off the cdrom?  It must be quite an old laptop\n",
      "then or else cdrom booting is disabled in the BIOS.  Is the cdrom external\n",
      "or strange in some way?\n",
      "\n",
      "Gavin\n",
      "\n",
      "-- \n",
      "Irish Linux Users' Group: ilug@linux.ie\n",
      "http://www.linux.ie/mailman/listinfo/ilug for (un)subscription information.\n",
      "List maintainer: listmaster@linux.ie\n"
     ]
    }
   ],
   "source": [
    "print(ham_emails[-1].get_content().strip())"
   ]
  },
  {
   "cell_type": "code",
   "execution_count": 247,
   "id": "09ade09f-7b31-40df-b629-5834ac951d6f",
   "metadata": {},
   "outputs": [
    {
     "name": "stdout",
     "output_type": "stream",
     "text": [
      "Help wanted.  We are a 14 year old fortune 500 company, that is\n",
      "growing at a tremendous rate.  We are looking for individuals who\n",
      "want to work from home.\n",
      "\n",
      "This is an opportunity to make an excellent income.  No experience\n",
      "is required.  We will train you.\n",
      "\n",
      "So if you are looking to be employed from home with a career that has\n",
      "vast opportunities, then go:\n",
      "\n",
      "http://www.basetel.com/wealthnow\n",
      "\n",
      "We are looking for energetic and self motivated people.  If that is you\n",
      "than click on the link and fill out the form, and one of our\n",
      "employement specialist will contact you.\n",
      "\n",
      "To be removed from our link simple go to:\n",
      "\n",
      "http://www.basetel.com/remove.html\n",
      "\n",
      "\n",
      "4139vOLW7-758DoDY1425FRhM1-764SMFc8513fCsLl40\n"
     ]
    }
   ],
   "source": [
    "print(spam_emails[6].get_content().strip())"
   ]
  },
  {
   "cell_type": "code",
   "execution_count": 248,
   "id": "580f2ed2-eaf3-4207-bbce-acc4263c2600",
   "metadata": {},
   "outputs": [],
   "source": [
    "def get_email_structure(email):\n",
    "    if isinstance(email, str):\n",
    "        return email\n",
    "    payload = email.get_payload()\n",
    "    if isinstance(payload, list):\n",
    "        return \"multipart({})\".format(\", \".join([\n",
    "            get_email_structure(sub_email)\n",
    "            for sub_email in payload\n",
    "        ]))\n",
    "    else:\n",
    "        return email.get_content_type()"
   ]
  },
  {
   "cell_type": "code",
   "execution_count": 258,
   "id": "efbd8a56-d6c6-425f-b205-d9ebbf1a1074",
   "metadata": {},
   "outputs": [],
   "source": [
    "from collections import Counter\n",
    "\n",
    "def structures_counter(emails):\n",
    "    structures = Counter()\n",
    "    for email in emails:\n",
    "        structure = get_email_structure(email)\n",
    "        structures[structure] += 1\n",
    "    return structures"
   ]
  },
  {
   "cell_type": "code",
   "execution_count": 259,
   "id": "cd726a00-173b-4b7f-a0c2-2d961fef35ae",
   "metadata": {},
   "outputs": [
    {
     "data": {
      "text/plain": [
       "[('text/plain', 2408),\n",
       " ('multipart(text/plain, application/pgp-signature)', 66),\n",
       " ('multipart(text/plain, text/html)', 8),\n",
       " ('multipart(text/plain, text/plain)', 4),\n",
       " ('multipart(text/plain)', 3),\n",
       " ('multipart(text/plain, application/octet-stream)', 2),\n",
       " ('multipart(text/plain, text/enriched)', 1),\n",
       " ('multipart(text/plain, application/ms-tnef, text/plain)', 1),\n",
       " ('multipart(multipart(text/plain, text/plain, text/plain), application/pgp-signature)',\n",
       "  1),\n",
       " ('multipart(text/plain, video/mng)', 1),\n",
       " ('multipart(text/plain, multipart(text/plain))', 1),\n",
       " ('multipart(text/plain, application/x-pkcs7-signature)', 1),\n",
       " ('multipart(text/plain, multipart(text/plain, text/plain), text/rfc822-headers)',\n",
       "  1),\n",
       " ('multipart(text/plain, multipart(text/plain, text/plain), multipart(multipart(text/plain, application/x-pkcs7-signature)))',\n",
       "  1),\n",
       " ('multipart(text/plain, application/x-java-applet)', 1)]"
      ]
     },
     "execution_count": 259,
     "metadata": {},
     "output_type": "execute_result"
    }
   ],
   "source": [
    "structures_counter(ham_emails).most_common()"
   ]
  },
  {
   "cell_type": "code",
   "execution_count": 330,
   "id": "c1a57ee4-cee8-4418-ade0-a43dcc01fd16",
   "metadata": {},
   "outputs": [
    {
     "data": {
      "text/plain": [
       "[('text/plain', 436),\n",
       " ('text/html', 366),\n",
       " ('multipart(text/plain, text/html)', 90),\n",
       " ('multipart(text/html)', 40),\n",
       " ('multipart(text/plain)', 38),\n",
       " ('multipart(multipart(text/html))', 10),\n",
       " ('multipart(text/plain, image/jpeg)', 6),\n",
       " ('multipart(text/html, application/octet-stream)', 4),\n",
       " ('multipart(text/plain, application/octet-stream)', 2),\n",
       " ('multipart(text/html, text/plain)', 2),\n",
       " ('multipart(multipart(text/html), application/octet-stream, image/jpeg)', 2),\n",
       " ('multipart(multipart(text/plain, text/html), image/gif)', 2),\n",
       " ('multipart/alternative', 2)]"
      ]
     },
     "execution_count": 330,
     "metadata": {},
     "output_type": "execute_result"
    }
   ],
   "source": [
    "structures_counter(spam_emails).most_common()"
   ]
  },
  {
   "cell_type": "code",
   "execution_count": 337,
   "id": "f977db74-0ea6-4a76-8d89-f90473fdec67",
   "metadata": {},
   "outputs": [
    {
     "name": "stdout",
     "output_type": "stream",
     "text": [
      "Received : from timhunt.net (ns1.timhunt.net [216.27.147.130])\tby dogma.slashnull.org (8.11.6/8.11.6) with ESMTP id g6J7SBJ02605\tfor <tim_timhunt_net@spamtraps.taint.org>; Fri, 19 Jul 2002 08:28:11 +0100\n",
      "Received : from www ([209.197.199.5])\tby timhunt.net (8.11.3/8.11.1) with ESMTP id g6J7S9S17606;\tFri, 19 Jul 2002 03:28:09 -0400 (EDT)\t(envelope-from John@ABigClick.zzn.com)\n",
      "Date : Fri, 19 Jul 2002 03:28:09 -0400\n",
      "Message-Id : <200207190806.g6J86er20831@www>\n",
      "Errors : John@ABigClick.zzn.com\n",
      "From : Reports You Need To Make Cash! <John@ABigClick.zzn.com>\n",
      "To : Reports You Need To Make Cash! <jjbaxter2453@aol.com>\n",
      "Subject : Re: Your bank account\n",
      "MIME-Version : 1.0\n",
      "Content-Type : text/html; charset=\"us-ascii\"\n",
      "Content-Transfer-Encoding : 7bit\n",
      "Content-Disposition : inline; filename=\"filename.html\"\n"
     ]
    }
   ],
   "source": [
    "for header, value in spam_emails[70].items():\n",
    "    print(header,\":\",value)"
   ]
  },
  {
   "cell_type": "code",
   "execution_count": 339,
   "id": "e703ec63-0c4e-4e82-89c9-b47a2e44bd7f",
   "metadata": {},
   "outputs": [
    {
     "data": {
      "text/plain": [
       "'text/html; charset=\"us-ascii\"'"
      ]
     },
     "execution_count": 339,
     "metadata": {},
     "output_type": "execute_result"
    }
   ],
   "source": [
    "spam_emails[70][\"Content-Type\"]"
   ]
  },
  {
   "cell_type": "code",
   "execution_count": 345,
   "id": "ca3f8e70-b4c6-4aa3-b8c1-19f5bc15188e",
   "metadata": {},
   "outputs": [],
   "source": [
    "X = np.array(ham_emails + spam_emails, dtype=object)\n",
    "y = np.array([0] * len(ham_emails) + [1] * len(spam_emails))\n",
    "\n",
    "X_train, X_test, y_train, y_test = train_test_split(X, y, test_size=0.1, random_state=42, shuffle=True)"
   ]
  },
  {
   "cell_type": "code",
   "execution_count": 346,
   "id": "0d80a540-6d77-457c-b09d-fc3c2b252a97",
   "metadata": {},
   "outputs": [],
   "source": [
    "import re\n",
    "from html import unescape"
   ]
  },
  {
   "cell_type": "code",
   "execution_count": 348,
   "id": "f357def4-2022-4738-b7b0-8b7feb1b702d",
   "metadata": {},
   "outputs": [],
   "source": [
    "def html_to_plain_text(html):\n",
    "    text = re.sub('<head.*?>.*?</head>', '', html, flags=re.M | re.S | re.I)\n",
    "    text = re.sub('<a\\s.*?>', ' HYPERLINK ', text, flags=re.M | re.S | re.I)\n",
    "    text = re.sub('<.*?>', '', text, flags=re.M | re.S)\n",
    "    text = re.sub(r'(\\s*\\n)+', '\\n', text, flags=re.M | re.S)\n",
    "    return unescape(text)"
   ]
  },
  {
   "cell_type": "code",
   "execution_count": 350,
   "id": "0673b61d-d0ee-4db8-b152-bb6ab37932a4",
   "metadata": {},
   "outputs": [
    {
     "name": "stdout",
     "output_type": "stream",
     "text": [
      "<!DOCTYPE HTML PUBLIC \"-//W3C//DTD HTML 4.0 Transitional//EN\">\n",
      "<HTML><HEAD><TITLE>Beautiful,Custom Websites for $399 Complete!</TITLE>\n",
      "<STYLE></STYLE>\n",
      "</head>\n",
      "<BODY text=#000000 vLink=#000080 aLink=#000080 link=#000080 bgColor=#000080 \n",
      "topMargin=7>\n",
      "<CENTER>\n",
      "<TABLE borderColor=#000000 height=368 cellSpacing=0 cellPadding=3 width=575 \n",
      "bgColor=#79a5ff border=1>\n",
      "  <TBODY>\n",
      "  <TR>\n",
      "    <TD width=565 bgColor=#000000 height=22>\n",
      "      <P align=center><FONT face=Arial color=#ffffff><B>Beautiful, 100% Custom \n",
      "      Websites, $399 Complete!</B></FONT></P></TD></TR>\n",
      "  <TR>\n",
      "    <TD vAlign=top width=565 height=318>\n",
      "      <DIV align=center>\n",
      "      <TABLE style=\"WIDTH: 555px\" height=341 cellSpacing=0 cellPadding=0 \n",
      "      width=\"60%\" border=0>\n",
      "        <TBODY>\n",
      "        <TR>\n",
      "          <TD width=\"100%\" height=366>\n",
      "            <DIV align=center>\n",
      "            <TABLE borderColor=#000000 height=5 cellSpacing=0 cellPadding=5 \n",
      "            width=554 bgColor=#ffffff border=1>\n",
      "              <TBODY>\n",
      "              <TR>\n",
      "  ...\n"
     ]
    }
   ],
   "source": [
    "html_spam_emails = [email for email in X_train[y_train==1]\n",
    "                    if get_email_structure(email) == \"text/html\"]\n",
    "sample_html_spam = html_spam_emails[7]\n",
    "print(sample_html_spam.get_content().strip()[:1000], \"...\")"
   ]
  },
  {
   "cell_type": "code",
   "execution_count": 354,
   "id": "d5f1230e-f5ec-486c-9e3d-e6f97bee0313",
   "metadata": {},
   "outputs": [
    {
     "name": "stdout",
     "output_type": "stream",
     "text": [
      "\n",
      "      Beautiful, 100% Custom\n",
      "      Websites, $399 Complete!\n",
      "                        Get a beautiful, 100% Custom Web Site (or\n",
      "                        yours redesigned) for only\n",
      "                        $389!*We have references coast to\n",
      "                        coast and will give you plenty of sites to\n",
      "                        view!\n",
      "                  Includes up to\n",
      "                  7 pages (you can add more), java rollover buttons, feedback\n",
      "                  forms, more. It will be constructed to your taste and\n",
      "                  specifications. We do not use templates,  our sites\n",
      "                  are completely custom.    *Must host with us @\n",
      "                  $19.95/mo (100 Megs, 20 Email accounts, Control Panel, Front\n",
      "                  Page, Graphical Statistics,\n",
      "                  more). \n",
      "                  For sites to\n",
      "                  view, complete below or call our message center at\n",
      "                  321-726-2209 (24 hours). Your call will be returned\n",
      "                  promptly.N ...\n"
     ]
    }
   ],
   "source": [
    "print(html_to_plain_text(sample_html_spam.get_content())[:1000], \"...\")"
   ]
  },
  {
   "cell_type": "code",
   "execution_count": 355,
   "id": "217d80a7-67a2-428e-b3c1-1eb48c2382a4",
   "metadata": {},
   "outputs": [],
   "source": [
    "def email_to_text(email):\n",
    "    html = None\n",
    "    for part in email.walk():\n",
    "        ctype = part.get_content_type()\n",
    "        if not ctype in (\"text/plain\", \"text/html\"):\n",
    "            continue\n",
    "        try:\n",
    "            content = part.get_content()\n",
    "        except: # in case of encoding issues\n",
    "            content = str(part.get_payload())\n",
    "        if ctype == \"text/plain\":\n",
    "            return content\n",
    "        else:\n",
    "            html = content\n",
    "    if html:\n",
    "        return html_to_plain_text(html)"
   ]
  },
  {
   "cell_type": "code",
   "execution_count": 357,
   "id": "d9b55e3a-e3fe-461a-833f-8fc276ff5aa3",
   "metadata": {},
   "outputs": [
    {
     "name": "stdout",
     "output_type": "stream",
     "text": [
      "\n",
      "      Beautiful, 100% Custom\n",
      "      Websites, $399 Complete!\n",
      "                        Get a beautiful, 100% Custom Web Site (or\n",
      "                        yours redesigned) for only\n",
      "                        $389!*We have references coast to\n",
      "                        coast and will give you plenty of sites to\n",
      "                        view!\n",
      "                  Includes up to\n",
      "                  7 pages (you can add more), java rollover buttons, feedback\n",
      "                  forms, more. It will be constructed to your taste and\n",
      "                  specifications. We do not use templates,  our sites\n",
      "                  are completely custom.    *Must host with us @\n",
      "                  $19.95/mo (100 Megs, 20 Email accounts, Control Panel, Front\n",
      "                  Page, Graphical Statistics,\n",
      "                  more). \n",
      "                  For sites to\n",
      "                  view, complete below or call our message center at\n",
      "                  321-726-2209 (24 hours). Your call will be returned\n",
      "                  promptly.N ...\n"
     ]
    }
   ],
   "source": [
    "print(email_to_text(sample_html_spam)[:1000], \"...\")"
   ]
  },
  {
   "cell_type": "code",
   "execution_count": 364,
   "id": "5b1bd160-5c33-48ec-88e9-519493d82ae7",
   "metadata": {},
   "outputs": [
    {
     "name": "stdout",
     "output_type": "stream",
     "text": [
      "Looking in indexes: https://pypi.org/simple, https://pypi.ngc.nvidia.com\n",
      "Requirement already satisfied: nltk in c:\\python311\\lib\\site-packages (3.8.1)\n",
      "Requirement already satisfied: urlextract in c:\\users\\hp\\appdata\\roaming\\python\\python311\\site-packages (1.9.0)\n",
      "Requirement already satisfied: click in c:\\python311\\lib\\site-packages (from nltk) (8.1.7)\n",
      "Requirement already satisfied: joblib in c:\\python311\\lib\\site-packages (from nltk) (1.3.2)\n",
      "Requirement already satisfied: regex>=2021.8.3 in c:\\python311\\lib\\site-packages (from nltk) (2024.5.15)\n",
      "Requirement already satisfied: tqdm in c:\\python311\\lib\\site-packages (from nltk) (4.66.4)\n",
      "Requirement already satisfied: idna in c:\\python311\\lib\\site-packages (from urlextract) (3.4)\n",
      "Requirement already satisfied: uritools in c:\\users\\hp\\appdata\\roaming\\python\\python311\\site-packages (from urlextract) (4.0.3)\n",
      "Requirement already satisfied: platformdirs in c:\\users\\hp\\appdata\\roaming\\python\\python311\\site-packages (from urlextract) (3.9.1)\n",
      "Requirement already satisfied: filelock in c:\\python311\\lib\\site-packages (from urlextract) (3.14.0)\n",
      "Requirement already satisfied: colorama in c:\\python311\\lib\\site-packages (from click->nltk) (0.4.6)\n",
      "Note: you may need to restart the kernel to use updated packages.\n"
     ]
    }
   ],
   "source": [
    "%pip install nltk urlextract --user"
   ]
  },
  {
   "cell_type": "code",
   "execution_count": 363,
   "id": "a2a6d5e0-2eec-43cb-9838-946e50b57bb7",
   "metadata": {},
   "outputs": [
    {
     "name": "stdout",
     "output_type": "stream",
     "text": [
      "Computations => comput\n",
      "Computation => comput\n",
      "Computing => comput\n",
      "Computed => comput\n",
      "Compute => comput\n",
      "Compulsive => compuls\n",
      "Peace => peac\n"
     ]
    }
   ],
   "source": [
    "try:\n",
    "    import nltk\n",
    "\n",
    "    stemmer = nltk.PorterStemmer()\n",
    "    for word in (\"Computations\", \"Computation\", \"Computing\", \"Computed\", \"Compute\", \"Compulsive\", \"Peace\"):\n",
    "        print(word, \"=>\", stemmer.stem(word))\n",
    "except ImportError:\n",
    "    print(\"Error: stemming requires the NLTK module.\")\n",
    "    stemmer = None"
   ]
  },
  {
   "cell_type": "code",
   "execution_count": 366,
   "id": "08b538ac-6081-40e7-a3fc-1eea8d35a642",
   "metadata": {},
   "outputs": [
    {
     "name": "stdout",
     "output_type": "stream",
     "text": [
      "['github.com', 'https://youtu.be/7Pq-S557XQU?t=3m32s']\n"
     ]
    }
   ],
   "source": [
    "try:\n",
    "    import urlextract # may require an Internet connection to download root domain names\n",
    "    \n",
    "    url_extractor = urlextract.URLExtract()\n",
    "    print(url_extractor.find_urls(\"Will it detect github.com and https://youtu.be/7Pq-S557XQU?t=3m32s\"))\n",
    "except ImportError:\n",
    "    print(\"Error: replacing URLs requires the urlextract module.\")\n",
    "    url_extractor = None"
   ]
  },
  {
   "cell_type": "code",
   "execution_count": 368,
   "id": "aa2b9a62-8ba7-4ae0-811a-3ec17b1a5edf",
   "metadata": {},
   "outputs": [],
   "source": [
    "from sklearn.base import BaseEstimator, TransformerMixin"
   ]
  },
  {
   "cell_type": "code",
   "execution_count": 369,
   "id": "b20ed5fc-d14b-480d-8523-ace0edecf68d",
   "metadata": {},
   "outputs": [],
   "source": [
    "class EmailToWordCounterTransformer(BaseEstimator, TransformerMixin):\n",
    "    def __init__(self, strip_headers=True, lower_case=True, remove_punctuation=True,\n",
    "                 replace_urls=True, replace_numbers=True, stemming=True):\n",
    "        self.strip_headers = strip_headers\n",
    "        self.lower_case = lower_case\n",
    "        self.remove_punctuation = remove_punctuation\n",
    "        self.replace_urls = replace_urls\n",
    "        self.replace_numbers = replace_numbers\n",
    "        self.stemming = stemming\n",
    "    def fit(self, X, y=None):\n",
    "        return self\n",
    "    def transform(self, X, y=None):\n",
    "        X_transformed = []\n",
    "        for email in X:\n",
    "            text = email_to_text(email) or \"\"\n",
    "            if self.lower_case:\n",
    "                text = text.lower()\n",
    "            if self.replace_urls and url_extractor is not None:\n",
    "                urls = list(set(url_extractor.find_urls(text)))\n",
    "                urls.sort(key=lambda url: len(url), reverse=True)\n",
    "                for url in urls:\n",
    "                    text = text.replace(url, \" URL \")\n",
    "            if self.replace_numbers:\n",
    "                text = re.sub(r'\\d+(?:\\.\\d*)?(?:[eE][+-]?\\d+)?', 'NUMBER', text)\n",
    "            if self.remove_punctuation:\n",
    "                text = re.sub(r'\\W+', ' ', text, flags=re.M)\n",
    "            word_counts = Counter(text.split())\n",
    "            if self.stemming and stemmer is not None:\n",
    "                stemmed_word_counts = Counter()\n",
    "                for word, count in word_counts.items():\n",
    "                    stemmed_word = stemmer.stem(word)\n",
    "                    stemmed_word_counts[stemmed_word] += count\n",
    "                word_counts = stemmed_word_counts\n",
    "            X_transformed.append(word_counts)\n",
    "        return np.array(X_transformed)"
   ]
  },
  {
   "cell_type": "code",
   "execution_count": 375,
   "id": "012e3b81-5127-4a7e-9e1a-1239ccedc215",
   "metadata": {},
   "outputs": [
    {
     "data": {
      "text/plain": [
       "array([Counter({'hyperlink': 107, 'the': 88, 'to': 73, 'i': 53, 'and': 53, 'you': 48, 'a': 43, 'your': 41, 'number': 36, 'is': 31, 'for': 29, 'that': 29, 'it': 29, 'of': 28, 'in': 25, 'if': 24, 'card': 23, 'or': 23, 'not': 22, 'my': 20, 'can': 18, 'have': 16, 'with': 16, 's': 16, 'are': 15, 'be': 15, 'thi': 15, 'get': 14, 'use': 14, 'from': 13, 'on': 13, 'cd': 13, 'wa': 12, 'collect': 12, 'make': 11, 'mpnumber': 11, 't': 11, 'but': 10, 'out': 10, 'all': 10, 'charg': 10, 'debit': 10, 'record': 10, 'credit': 9, 'will': 9, 'do': 9, 'onlin': 8, 'one': 8, 'purchas': 8, 'they': 8, 'url': 8, 'web': 8, 'who': 8, 'song': 8, 'latest': 8, 'see': 7, 'through': 7, 'no': 7, 'check': 7, 'them': 7, 'site': 7, 'some': 7, 'digit': 7, 'tip': 7, 'our': 7, 'an': 6, 'internet': 6, 'here': 6, 'may': 6, 'as': 6, 'ha': 6, 'e': 6, 'day': 6, 'more': 6, 'those': 6, 'account': 6, 'what': 6, 'too': 6, 'their': 6, 'file': 6, 'then': 6, 'stuff': 6, 'someon': 5, 'now': 5, 'bank': 5, 'disput': 5, 'howev': 5, 'than': 5, 'fals': 5, 'money': 5, 'veri': 5, 'comput': 5, 'other': 5, 'which': 5, 'ani': 5, 'chri': 5, 'help': 5, 'driver': 5, 'even': 5, 'want': 5, 'easi': 5, 'recommend': 5, 'server': 5, 'old': 5, 'about': 5, 'camera': 5, 'avail': 4, 'own': 4, 'though': 4, 'fund': 4, 'so': 4, 'right': 4, 'time': 4, 'had': 4, 'been': 4, 'were': 4, 'inform': 4, 'care': 4, 'xp': 4, 'manag': 4, 'seem': 4, 'like': 4, 're': 4, 'know': 4, 'transfer': 4, 'imag': 4, 'us': 4, 'mail': 4, 'share': 4, 'did': 4, 'when': 4, 'basic': 4, 'vh': 4, 'don': 4, 'tech': 4, 'input': 4, 'high': 3, 'm': 3, 'these': 3, 'person': 3, 'profession': 3, 'lockergnomi': 3, 'liabil': 3, 'fraudul': 3, 'work': 3, 'there': 3, 'mani': 3, 'provid': 3, 'such': 3, 'later': 3, 'product': 3, 'replac': 3, 'never': 3, 'liabl': 3, 'put': 3, 'might': 3, 'becaus': 3, 'against': 3, 'over': 3, 'frank': 3, 'store': 3, 'by': 3, 'at': 3, 'would': 3, 'onli': 3, 'address': 3, 'sure': 3, 'ye': 3, 'numberk': 3, 'free': 3, 'much': 3, 'also': 3, 'edit': 3, 'power': 3, 'run': 3, 'system': 3, 'user': 3, 'save': 3, 'book': 3, 'made': 3, 'think': 3, 'releas': 3, 'believ': 3, 'steal': 3, 'download': 3, 'truck': 3, 'master': 3, 'me': 3, 'find': 3, 'good': 3, 'got': 3, 'friend': 3, 'window': 3, 'top': 3, 'dv': 3, 'onto': 3, 'read': 3, 'featur': 3, 'pleas': 3, 'lockergnom': 3, 'editor': 3, 'maker': 3, 'shoe': 3, 'speed': 2, 'access': 2, 'verizon': 2, 'dsl': 2, 'click': 2, 'peopl': 2, 'speak': 2, 'zero': 2, 'transact': 2, 'tape': 2, 'while': 2, 'offer': 2, 'contact': 2, 'someth': 2, 'decid': 2, 'perhap': 2, 'compani': 2, 'differ': 2, 'question': 2, 'say': 2, 'notic': 2, 'two': 2, 'up': 2, 'happen': 2, 'next': 2, 'go': 2, 'balanc': 2, 'goe': 2, 'outstand': 2, 'bounc': 2, 'fee': 2, 'appar': 2, 'lucki': 2, 'recent': 2, 'groceri': 2, 'review': 2, 'vendor': 2, 'due': 2, 'fact': 2, 'further': 2, 'thought': 2, 've': 2, 'somebodi': 2, 'polici': 2, 'just': 2, 'mine': 2, 'where': 2, 'cyg': 2, 'vnumber': 2, 'everyon': 2, 'easier': 2, 'stamp': 2, 'keep': 2, 'track': 2, 'everyth': 2, 'great': 2, 'list': 2, 'tag': 2, 'program': 2, 'drivermanag': 2, 'talk': 2, 'show': 2, 'shabbi': 2, 'chang': 2, 'design': 2, 'view': 2, 'transload': 2, 'gener': 2, 'we': 2, 'must': 2, 'complet': 2, 'minut': 2, 'job': 2, 'sometim': 2, 'whi': 2, 'case': 2, 'nice': 2, 'servic': 2, 'feel': 2, 'sinc': 2, 'riaa': 2, 'attempt': 2, 'rip': 2, 'either': 2, 'play': 2, 'into': 2, 'without': 2, 'point': 2, 'album': 2, 'music': 2, 'imposs': 2, 'seek': 2, 'copi': 2, 'quick': 2, 'origin': 2, 'thank': 2, 'pc': 2, 'guy': 2, 'gnomestor': 2, 'kate': 2, 'desktop': 2, 'she': 2, 'mention': 2, 'fun': 2, 'term': 2, 'ago': 2, 'mistak': 2, 'v': 2, 'numbermm': 2, 'import': 2, 'price': 2, 'look': 2, 'byte': 2, 'search': 2, 'group': 2, 'gnomereport': 1, 'afford': 1, 'connect': 1, 'area': 1, 'banker': 1, 'expert': 1, 'experi': 1, 'draw': 1, 'conclus': 1, 'sang': 1, 'vo': 1, 'write': 1, 'paperwork': 1, 'red': 1, 'empti': 1, 'leav': 1, 'hurt': 1, 'plan': 1, 'ad': 1, 'appli': 1, 'doe': 1, 'russ': 1, 'coover': 1, 'continu': 1, 'reason': 1, 'faulti': 1, 'merchant': 1, 'refus': 1, 'deliv': 1, 'legal': 1, 'jeff': 1, 'morgan': 1, 'interpret': 1, 'regul': 1, 'cfr': 1, 'ii': 1, 'section': 1, 'give': 1, 'financi': 1, 'institut': 1, 'theft': 1, 'pin': 1, 'code': 1, 'busi': 1, 'otherwis': 1, 'tim': 1, 'miller': 1, 'extend': 1, 'translat': 1, 'wors': 1, 'possibl': 1, 'thief': 1, 'wipe': 1, 'abl': 1, 'back': 1, 'paye': 1, 'sock': 1, 'insuffici': 1, 'under': 1, 'oblig': 1, 'waiv': 1, 'could': 1, 'rey': 1, 'obtain': 1, 'local': 1, 'told': 1, 'checker': 1, 'reader': 1, 'accept': 1, 'visa': 1, 'atm': 1, 'suspici': 1, 'instead': 1, 'hack': 1, 'name': 1, 'among': 1, 'sever': 1, 'forward': 1, 'unscrupul': 1, 'individu': 1, 'unauthor': 1, 'stop': 1, 'shipment': 1, 'ship': 1, 'within': 1, 'after': 1, 'delay': 1, 'revers': 1, 'numberth': 1, 'juli': 1, 'weekend': 1, 'neg': 1, 'aspect': 1, 'request': 1, 'new': 1, 'yet': 1, 'arriv': 1, 'jame': 1, 'simbro': 1, 'total': 1, 'warn': 1, 'end': 1, 'meantim': 1, 'dure': 1, 'withheld': 1, 'respons': 1, 'scenario': 1, 'given': 1, 'imagin': 1, 'clean': 1, 'gone': 1, 'real': 1, 'until': 1, 'pay': 1, 'guess': 1, 'each': 1, 'fraud': 1, 'call': 1, 'd': 1, 'face': 1, 'short': 1, 'matter': 1, 'choos': 1, 'plastic': 1, 'august': 1, 'pirillo': 1, 'gnomedownload': 1, 'numberm': 1, 'wnumberx': 1, 'start': 1, 'dust': 1, 'organ': 1, 'star': 1, 'war': 1, 'trade': 1, 'coin': 1, 'insert': 1, 'includ': 1, 'idnumb': 1, 'found': 1, 'object': 1, 'orient': 1, 'databas': 1, 'approach': 1, 'goal': 1, 'mind': 1, 'univers': 1, 'usag': 1, 'drive': 1, 'els': 1, 'step': 1, 'outsid': 1, 'geek': 1, 'nt': 1, 'need': 1, 'cours': 1, 'rid': 1, 'certain': 1, 'desir': 1, 'um': 1, 'refresh': 1, 'button': 1, 'exactli': 1, 'how': 1, 'tool': 1, 'allow': 1, 'administr': 1, 'develop': 1, 'mean': 1, 'modifi': 1, 'remov': 1, 'gnomeclick': 1, 'gnomesystem': 1, 'mostli': 1, 'send': 1, 'anoth': 1, 'ftp': 1, 'particularli': 1, 'webtv': 1, 'machin': 1, 'although': 1, 'pre': 1, 'set': 1, 'limit': 1, 'okay': 1, 'gb': 1, 'five': 1, 'capabl': 1, 'gig': 1, 'per': 1, 'slow': 1, 'suffer': 1, 'overload': 1, 'wrote': 1, 'hope': 1, 'gnomewildcard': 1, 'full': 1, 'pdf': 1, 'poor': 1, 'richard': 1, 'promot': 1, 'publish': 1, 'makeov': 1, 'websit': 1, 'commun': 1, 'home': 1, 'network': 1, 'recruit': 1, 'brand': 1, 'scribbl': 1, 'lee': 1, 'smith': 1, 'depend': 1, 'current': 1, 'consid': 1, 'willingli': 1, 'most': 1, 'agre': 1, 'proof': 1, 'dictat': 1, 'listen': 1, 'order': 1, 'specif': 1, 'down': 1, 'entertain': 1, 'rare': 1, 'explain': 1, 'messag': 1, 'prefer': 1, 'broken': 1, 'stolen': 1, 'self': 1, 'burn': 1, 'cannot': 1, 'larg': 1, 'expens': 1, 'outdat': 1, 'oldi': 1, 'anywher': 1, 'sought': 1, 'rejuven': 1, 'kid': 1, 'lot': 1, 'playabl': 1, 'anymor': 1, 'take': 1, 'cheap': 1, 'stereo': 1, 'player': 1, 'shot': 1, 'reliv': 1, 'younger': 1, 'convert': 1, 'instanc': 1, 'illeg': 1, 'alreadi': 1, 'am': 1, 'tower': 1, 'warehous': 1, 'reput': 1, 'dealer': 1, 'reach': 1, 'technolog': 1, 'platter': 1, 'wav': 1, 'sound': 1, 'enough': 1, 'disc': 1, 'usual': 1, 'artist': 1, 'themselv': 1, 'sadli': 1, 'heard': 1, 'again': 1, 'blame': 1, 'industri': 1, 'neither': 1, 'lost': 1, 'remast': 1, 'submit': 1, 'teach': 1, 'famili': 1, 'learn': 1, 'thing': 1, 'team': 1, 'techtv': 1, 'cohort': 1, 'botello': 1, 'lead': 1, 'novic': 1, 'journey': 1, 'interact': 1, 'instal': 1, 'app': 1, 'cover': 1, 'today': 1, 'gnomefavorit': 1, 'pixel': 1, 'decor': 1, 'pattern': 1, 'screen': 1, 'yawn': 1, 'bore': 1, 'unfortun': 1, 'fret': 1, 'caus': 1, 'jen': 1, 'truli': 1, 'amaz': 1, 'icon': 1, 'calendar': 1, 'uniqu': 1, 'creativ': 1, 'style': 1, 'enjoy': 1, 'oh': 1, 'best': 1, 'part': 1, 'buzzz': 1, 'tile': 1, 'especi': 1, 'awesom': 1, 'endors': 1, 'come': 1, 'hate': 1, 'creepi': 1, 'crawli': 1, 'kind': 1, 'gnometip': 1, 'yourself': 1, 'microsoft': 1, 'offic': 1, 'cool': 1, 'small': 1, 'oversight': 1, 'video': 1, 'kenna': 1, 'month': 1, 'didn': 1, 'output': 1, 'etc': 1, 'way': 1, 'footag': 1, 'pass': 1, 'devic': 1, 'directli': 1, 'purpos': 1, 'wish': 1, 'clear': 1, 'advantag': 1, 'bought': 1, 'camcord': 1, 'magazin': 1, 'bare': 1, 'nobodi': 1, 'stress': 1, 'critic': 1, 'same': 1, 'doesn': 1, 'impact': 1, 'advic': 1, 'came': 1, 'moment': 1, 'soon': 1, 'subscrib': 1, 'qqqqqqqqqq': 1, 'lg': 1, 'spamassassin': 1, 'taint': 1, 'org': 1, 'unsubscrib': 1, 'deliveri': 1, 'visit': 1, 'subscript': 1, 'page': 1, 'refer': 1, 'gnomecredit': 1, 'sidebar': 1, 'daili': 1, 'media': 1, 'specialist': 1, 'penguin': 1, 'shell': 1, 'appl': 1, 'core': 1, 'weekli': 1, 'bit': 1, 'audio': 1, 'low': 1, 'confer': 1, 'tell': 1, 'suggest': 1, 'advertis': 1, 'chat': 1, 'gnomi': 1, 'watch': 1, 'webcam': 1, 'past': 1, 'issu': 1, 'x': 1, 'setup': 1, 'privaci': 1, 'option': 1, 'xml': 1, 'rss': 1, 'feed': 1, 'syndic': 1, 'link': 1, 'feedback': 1, 'blog': 1, 'softwar': 1, 'hava': 1, 'pro': 1, 'magix': 1, 'ejay': 1, 'audiost': 1, 'jack': 1, 'ripper': 1, 'pearson': 1, 'steinberg': 1, 'musicmatch': 1, 'jukebox': 1, 'hip': 1, 'hop': 1, 'jay': 1, 'wolf': 1, 'gold': 1, 'wizard': 1, 'gnomespeci': 1, 'workgroup': 1, 'form': 1, 'pilot': 1, 'boomer': 1, 'stream': 1, 'creat': 1, 'catalog': 1, 'kleptomania': 1, 'renam': 1, 'pretti': 1, 'solitair': 1, 'visual': 1, 'color': 1, 'combo': 1, 'firststop': 1, 'websearch': 1, 'ecobuild': 1, 'collector': 1, 'strong': 1, 'alway': 1, 'live': 1, 'smoother': 1, 'happi': 1, 'stori': 1, 'ugli': 1, 'unfold': 1, 'befor': 1, 'eye': 1, 'footwear': 1, 'outcast': 1, 'week': 1, 'depress': 1, 'ever': 1, 'piti': 1, 'lone': 1, 'zoom': 1, 'llc': 1, 'issn': 1, 'reserv': 1, 'host': 1, 'digitaldaz': 1, 'domain': 1, 'regist': 1, 'dn': 1, 'central': 1, 'procrastin': 1}),\n",
       "       Counter({'number': 14, 'razor': 7, 'is': 6, 'i': 5, 'to': 5, 'the': 4, 'that': 4, 'a': 3, 'my': 3, 'log': 3, 'in': 3, 'url': 3, 'of': 2, 'sep': 2, 'check': 2, 'mail': 2, 'not': 2, 'known': 2, 'spam': 2, 'so': 2, 'how': 2, 'for': 2, 'fell': 2, 'at': 2, 'dum': 2, 'user': 2, 'list': 2, 'have': 1, 'spamd': 1, 'spamc': 1, 'dcc': 1, 'setup': 1, 'are': 1, 'full': 1, 'bootup': 1, 'initi': 1, 'logdebuglevel': 1, 'file': 1, 'home': 1, 'omeganumb': 1, 'agent': 1, 'problem': 1, 'all': 1, 'entri': 1, 'show': 1, 'can': 1, 't': 1, 'believ': 1, 'm': 1, 'lucki': 1, 'do': 1, 'test': 1, 'see': 1, 'instal': 1, 'work': 1, 'properli': 1, 've': 1, 'been': 1, 'up': 1, 'ear': 1, 'document': 1, 'past': 1, 'few': 1, 'day': 1, 'if': 1, 'refer': 1, 'easi': 1, 'just': 1, 'point': 1, 'me': 1, 'it': 1, 'otherwis': 1, 'brief': 1, 'hint': 1, 'on': 1, 'would': 1, 'be': 1, 'appreci': 1, 'robin': 1, 'lynn': 1, 'frank': 1, 'paradigm': 1, 'omega': 1, 'llc': 1, 'gandalf': 1, 'khazadum': 1, 'sheridan': 1, 'z': 1, 'ha': 1, 'avoid': 1, 'high': 1, 'place': 1, 'locat': 1, 'end': 1, 'thi': 1, 'email': 1, 'sponsor': 1, 'by': 1, 'osdn': 1, 'tire': 1, 'same': 1, 'old': 1, 'cell': 1, 'phone': 1, 'get': 1, 'new': 1, 'here': 1, 'free': 1, '_______________________________________________': 1, 'sourceforg': 1, 'net': 1}),\n",
       "       Counter({'number': 10, 'a': 5, 'pm': 5, 'edt': 5, 'sever': 4, 'thunderstorm': 4, 'in': 4, 'at': 4, 'nation': 3, 'weather': 3, 'servic': 3, 'and': 3, 'if': 2, 'url': 2, 'warn': 2, 'albani': 2, 'the': 2, 'for': 2, 'near': 2, 'east': 2, 'of': 2, 'move': 2, 'mph': 2, 'you': 2, 'should': 2, 'your': 1, 'day': 1, 'start': 1, 'with': 1, 'tee': 1, 'time': 1, 'then': 1, 'visit': 1, 'our': 1, 'golf': 1, 'section': 1, 'ny': 1, 'thu': 1, 'aug': 1, 'ha': 1, 'issu': 1, 'central': 1, 'renssela': 1, 'counti': 1, 'eastern': 1, 'new': 1, 'york': 1, 'until': 1, 'doppler': 1, 'radar': 1, 'indic': 1, 'wynantskil': 1, 'or': 1, 'about': 1, 'mile': 1, 'troy': 1, 'will': 1, 'be': 1, 'averil': 1, 'park': 1, 'raymertown': 1, 'grafton': 1, 'berlin': 1, 'thi': 1, 'is': 1, 'danger': 1, 'storm': 1, 'are': 1, 'it': 1, 'path': 1, 'prepar': 1, 'damag': 1, 'wind': 1, 'excess': 1, 'larg': 1, 'hail': 1, 'veri': 1, 'heavi': 1, 'rain': 1, 'peopl': 1, 'outsid': 1, 'to': 1, 'substanti': 1, 'shelter': 1, 'now': 1}),\n",
       "       Counter({'the': 22, 'a': 21, 'i': 19, 'to': 14, 'of': 12, 's': 12, 'and': 11, 'it': 11, 'that': 10, 'for': 10, 'peopl': 10, 'have': 8, 'at': 8, 'on': 7, 'is': 7, 'wa': 7, 'thing': 6, 'but': 6, 't': 6, 'you': 6, 'we': 6, 'number': 5, 'are': 5, 'or': 5, 'how': 5, 'in': 5, 'my': 4, 'think': 4, 'if': 4, 'time': 4, 'interest': 4, 'person': 4, 'date': 4, 'out': 3, 'me': 3, 'just': 3, 'say': 3, 'meet': 3, 'one': 3, 'same': 3, 'not': 3, 'much': 3, 'be': 3, 'work': 3, 'there': 3, 'no': 3, 'geek': 3, 'togeth': 3, 'as': 3, 'compani': 3, 'actual': 3, 'speed': 3, 'crucial': 2, 'hair': 2, 'featur': 2, 'improv': 2, 'amount': 2, 'about': 2, 'reason': 2, 'like': 2, 'reject': 2, 'trivial': 2, 'know': 2, 'm': 2, 'an': 2, 'whatev': 2, 'total': 2, 'do': 2, 'what': 2, 'loud': 2, 'parti': 2, 'convers': 2, 'from': 2, 'might': 2, 'well': 2, 'can': 2, 'all': 2, 'too': 2, 'when': 2, 'base': 2, 'other': 2, 'noth': 2, 'better': 2, 'doesn': 2, 'effort': 2, 'tool': 2, 'activ': 2, 'wednesday': 1, 'septemb': 1, 'am': 1, 'robert': 1, 'harley': 1, 'wrote': 1, 'with': 1, 'enabl': 1, 'got': 1, 'good': 1, 'laugh': 1, 'day': 1, 'immeasur': 1, 've': 1, 'done': 1, 'fair': 1, 'media': 1, 'intermedi': 1, 'serious': 1, 'lose': 1, 'rohit': 1, 'encount': 1, 'both': 1, 'some': 1, 'loudli': 1, 'defend': 1, 'these': 1, 'choic': 1, 'd': 1, 'never': 1, 'met': 1, 'best': 1, 'friend': 1, 'had': 1, 'pick': 1, 'her': 1, 'crowd': 1, 'get': 1, 'teen': 1, 'won': 1, 'abl': 1, 'spot': 1, 'distanc': 1, 'isn': 1, 'extern': 1, 'brought': 1, 'home': 1, 'again': 1, 'everi': 1, 'so': 1, 'often': 1, 'may': 1, 'dress': 1, 'differ': 1, 'superstit': 1, 'your': 1, 'version': 1, 'creativ': 1, 'attir': 1, 'mayb': 1, 'pure': 1, 'function': 1, 'recent': 1, 'suffici': 1, 'ani': 1, 'kind': 1, 'extrem': 1, 'difficult': 1, 'intox': 1, 'norm': 1, 'algorithm': 1, 'should': 1, 'candid': 1, 'women': 1, 'order': 1, 'attract': 1, 'flinch': 1, 'rather': 1, 'violent': 1, 'trade': 1, 'show': 1, 'someth': 1, 'elect': 1, 'talk': 1, 'who': 1, 'look': 1, 'exhibit': 1, 'hear': 1, 'they': 1, 'net': 1, 'photo': 1, 'tell': 1, 'import': 1, 'pictur': 1, 'few': 1, 'word': 1, 'built': 1, 'code': 1, 'heart': 1, 'soul': 1, 'were': 1, 'would': 1, 'lie': 1, 'game': 1, 'system': 1, 'easi': 1, 'oh': 1, 'he': 1, 'she': 1, 'cat': 1, 'ick': 1, 'great': 1, 'construct': 1, 'form': 1, 'allianc': 1, 'fit': 1, 'feel': 1, 'partner': 1, 'task': 1, 'recreat': 1, 'thi': 1, 'entir': 1, 'specul': 1, 'superstiti': 1, 'associ': 1, 'unless': 1, 'which': 1, 'whi': 1, 'tend': 1, 'screw': 1, 'our': 1, 'circl': 1, 'exposur': 1, 'shrink': 1, 'after': 1, 'school': 1, 'writer': 1, 'whole': 1, 'internet': 1, 'email': 1, 'ought': 1, 'than': 1, 'doe': 1, 'interestingli': 1, 'put': 1, 'reap': 1, 'poor': 1, 'result': 1, 'asid': 1, 'okay': 1, 'ye': 1, 'aka': 1, 'minut': 1, 'live': 1, 'action': 1, 'stab': 1, 'varieti': 1, 'compress': 1, 'into': 1, 'event': 1, 'notic': 1, 'still': 1, 'absolut': 1, 'project': 1, 'cook': 1, 'climb': 1, 'mountain': 1, 'fact': 1, 'invent': 1, 'jewish': 1, 'seek': 1, 'match': 1, 'up': 1, 'young': 1, 'avoid': 1, 'assimil': 1, 'ha': 1, 'interview': 1, 'context': 1, 'share': 1, 'beyond': 1, 'give': 1, 'sever': 1, 'point': 1, 'though': 1, 'guess': 1, 'impress': 1, 'even': 1, 'mean': 1, 'tradit': 1, 'advic': 1, 'join': 1, 'group': 1, 'sound': 1, 'eirikur': 1}),\n",
       "       Counter({'you': 19, 'to': 18, 'number': 10, 't': 8, 'that': 7, 'it': 6, 'do': 6, 'a': 6, 's': 6, 'if': 6, 'address': 5, 'so': 4, 'they': 4, 'but': 4, 'spam': 4, 'can': 4, 'them': 4, 'my': 4, 'the': 4, 'realli': 4, 'want': 4, 'would': 4, 'and': 4, 'your': 4, 'don': 4, 'probabl': 4, 'list': 3, 'deliv': 3, 'spammer': 3, 'with': 3, 'email': 3, 'in': 3, 'i': 3, 'have': 3, 'say': 3, 'of': 3, 'again': 3, 'who': 3, 're': 3, 'on': 2, 'clean': 2, 'their': 2, 'for': 2, 'continu': 2, 'semi': 2, 'spamtrap': 2, 'major': 2, 'never': 2, 'exist': 2, 'connect': 2, 'tri': 2, 'over': 2, 'user': 2, 'peopl': 2, 'then': 2, 'technic': 2, 'even': 2, 'd': 2, 'doesn': 2, 'actual': 2, 'care': 2, 'relay': 2, 'trace': 2, 'bounc': 2, 'opt': 2, 'fri': 1, 'sep': 1, 'at': 1, 'numberpm': 1, 'carlo': 1, 'alino': 1, 'com': 1, 'wrote': 1, 'seem': 1, 'me': 1, 'up': 1, 'onli': 1, 'when': 1, 'fail': 1, 'or': 1, 'detect': 1, 'what': 1, 'databas': 1, 'are': 1, 'undeliver': 1, 'few': 1, 'year': 1, 'still': 1, 'well': 1, 'here': 1, 'coher': 1, 'rant': 1, 'moment': 1, 'machin': 1, 'multipli': 1, 'by': 1, 'each': 1, 'domain': 1, 'vast': 1, 'all': 1, 'ever': 1, 'yet': 1, 'mail': 1, 'disconnect': 1, 'more': 1, 'kept': 1, 'get': 1, 'unknown': 1, 'until': 1, 'got': 1, 'around': 1, 'make': 1, 'evid': 1, 'suggest': 1, 'depend': 1, 'deal': 1, 'busi': 1, 'is': 1, 'sell': 1, 'best': 1, 'interest': 1, 'therefor': 1, 'million': 1, 'not': 1, 'be': 1, 'lie': 1, 'work': 1, 'know': 1, 'through': 1, 'someon': 1, 'harder': 1, 'could': 1, 'send': 1, 'everi': 1, 'avail': 1, 'setup': 1, 'valid': 1, 'becaus': 1, 'easi': 1, 'thi': 1, 'think': 1, 'run': 1, 'legit': 1, 'servic': 1, 'way': 1, 'out': 1, 'though': 1, 'didn': 1, 'pay': 1, 'attent': 1, 'everyon': 1, 'els': 1, 'view': 1, 'anyway': 1, 'randomli': 1, 'gener': 1, 'taglin': 1, 'now': 1, 'thing': 1, 'hand': 1, 'ok': 1, 'prof': 1, 'farr': 1}),\n",
       "       Counter({'the': 26, 'cat': 15, 'number': 12, 'to': 12, 'and': 11, 'of': 11, 'it': 9, 'big': 8, 'a': 8, 'in': 7, 'are': 6, 'societi': 6, 'said': 6, 'have': 6, 'group': 4, 'claim': 4, 'report': 4, 'anim': 4, 'that': 4, 'sight': 4, 'bamp': 4, 'with': 4, 'but': 4, 'like': 4, 'is': 4, 'them': 4, 'url': 3, 'breed': 3, 'their': 3, 'more': 3, 'includ': 3, 'puma': 3, 'he': 3, 'i': 3, 'not': 3, 'they': 3, 'mr': 3, 'from': 3, 'lynx': 3, 'had': 3, 'exist': 3, 'camera': 3, 'will': 3, 'ha': 2, 'than': 2, 'leopard': 2, 'past': 2, 'mani': 2, 'evid': 2, 'ad': 2, 'wa': 2, 'sceptic': 2, 'as': 2, 's': 2, 'there': 2, 'cub': 2, 'kent': 2, 'by': 2, 'wale': 2, 'thi': 2, 'trigger': 2, 'prove': 2, 'walk': 2, 'take': 2, 'dog': 2, 'pet': 2, 'releas': 2, 'into': 2, 'wild': 2, 'or': 2, 'peopl': 2, 'use': 2, 'yahoo': 2, 'unsubscrib': 2, 'on': 1, 'loos': 1, 'britain': 1, 'way': 1, 'toward': 1, 'record': 1, 'monitor': 1, 'british': 1, 'receiv': 1, 'black': 1, 'panther': 1, 'so': 1, 'call': 1, 'fen': 1, 'tiger': 1, 'over': 1, 'month': 1, 'while': 1, 'admit': 1, 'noth': 1, 'exot': 1, 'averag': 1, 'moggi': 1, 'firm': 1, 'major': 1, 'real': 1, 'founder': 1, 'daniel': 1, 'told': 1, 'bbc': 1, 'news': 1, 'onlin': 1, 'could': 1, 'cope': 1, 'critic': 1, 'doubter': 1, 'thought': 1, 'same': 1, 'realm': 1, 'loch': 1, 'ness': 1, 'monster': 1, 'realli': 1, 'out': 1, 'been': 1, 'everi': 1, 'corner': 1, 'countri': 1, 'hotspot': 1, 'scotland': 1, 'gloucestershir': 1, 'januari': 1, 'man': 1, 'claw': 1, 'suspect': 1, 'novemb': 1, 'farmer': 1, 'maul': 1, 'april': 1, 'captur': 1, 'north': 1, 'london': 1, 'attack': 1, 'hors': 1, 'weekend': 1, 'alon': 1, 'scottish': 1, 'border': 1, 'west': 1, 'midland': 1, 'devon': 1, 'somerset': 1, 'wiltshir': 1, 'some': 1, 'domest': 1, 'other': 1, 'particularli': 1, 'probabl': 1, 'suffici': 1, 'among': 1, 'themselv': 1, 'we': 1, 'photograph': 1, 'paw': 1, 'print': 1, 'sheep': 1, 'kill': 1, 'hair': 1, 'sampl': 1, 'know': 1, 'do': 1, 'even': 1, 'convinc': 1, 'public': 1, 'spin': 1, 'shaggi': 1, 'stori': 1, 'nation': 1, 'project': 1, 'plan': 1, 'which': 1, 'hope': 1, 'provid': 1, 'footag': 1, 'idea': 1, 'pictur': 1, 'itself': 1, 'believ': 1, 'descend': 1, 'spokesman': 1, 'danni': 1, 'nineham': 1, 'when': 1, 'danger': 1, 'act': 1, 'came': 1, 'forc': 1, 'becaus': 1, 'did': 1, 'want': 1, 'pay': 1, 'for': 1, 'licenc': 1, 'put': 1, 'down': 1, 'zoo': 1, 'sponsor': 1, 'dvd': 1, 'free': 1, 'p': 1, 'join': 1, 'now': 1, 'send': 1, 'an': 1, 'email': 1, 'forteana': 1, 'egroup': 1, 'com': 1, 'your': 1, 'subject': 1}),\n",
       "       Counter({'problem': 3, 'do': 2, 'solv': 2, 'over': 2, 'and': 2, 'more': 2, 'of': 2, 'a': 2, 'reza': 1, 'b': 1, 'far': 1, 'ebuilt': 1, 'wrote': 1, 'whi': 1, 'most': 1, 'comput': 1, 'scientist': 1, 'insist': 1, 'on': 1, 'the': 1, 'same': 1, 'again': 1, 'when': 1, 'there': 1, 'are': 1, 'some': 1, 'mani': 1, 'import': 1, 'interest': 1, 'high': 1, 'level': 1, 'to': 1, 'be': 1, 'amen': 1, 'it': 1, 'in': 1, 'an': 1, 'unecessarili': 1, 'harder': 1, 'way': 1, 'doe': 1, 'not': 1, 'make': 1, 'you': 1, 'man': 1, 'or': 1, 'less': 1, 'kiddi': 1, 'joe': 1}),\n",
       "       Counter({'i': 13, 'number': 8, 'and': 7, 'it': 6, 'exmh': 6, 'am': 4, 'my': 4, 'to': 4, 'folder': 4, 'do': 4, 'in': 4, 'the': 4, 'with': 4, 'use': 4, 'a': 4, 'sinc': 3, 'sort': 3, 'you': 3, 'can': 3, 'but': 3, 'for': 3, 'f': 3, 'make': 3, 'by': 3, 'is': 3, 'mail': 3, 'on': 2, 'baartman': 2, 't': 2, 'messag': 2, 'from': 2, 'that': 2, 'or': 2, 'long': 2, 'time': 2, 'indic': 2, 'just': 2, 'thi': 2, 'imap': 2, 'server': 2, 'been': 2, 'over': 2, 'ssh': 2, 'slow': 2, 'user': 2, 'mon': 1, 'sep': 1, 'pdt': 1, 'rick': 1, 'linnumbertriumf': 1, 'ca': 1, 'wrote': 1, 'sorri': 1, 'wasn': 1, 'clear': 1, 'transfer': 1, 'inbox': 1, 'other': 1, 'most': 1, 'recent': 1, 'oldest': 1, 'they': 1, 'appear': 1, 'those': 1, 'wrong': 1, 'order': 1, 'need': 1, 're': 1, 'ok': 1, 'gotcha': 1, 'don': 1, 'think': 1, 'command': 1, 'line': 1, 'if': 1, 'sh': 1, 'ksh': 1, 'fast': 1, 'r': 1, 'echo': 1, 'sortm': 1, 'done': 1, 'could': 1, 'take': 1, 'at': 1, 'work': 1, 'have': 1, 'outlook': 1, 'ick': 1, 'hate': 1, 'doe': 1, 'few': 1, 'thing': 1, 'right': 1, 'like': 1, 'each': 1, 'not': 1, 'date': 1, 'also': 1, 'sender': 1, 'size': 1, 'subject': 1, 'so': 1, 'ani': 1, 'column': 1, 'instantli': 1, 'believ': 1, 'possibl': 1, 'too': 1, 'an': 1, 'compliant': 1, 'reader': 1, 'provid': 1, 'such': 1, 'face': 1, 'fact': 1, 'ha': 1, 'left': 1, 'behind': 1, 'some': 1, 'industri': 1, 'standard': 1, 'person': 1, 'run': 1, 'unix': 1, 'connect': 1, 'tunnel': 1, 'x': 1, 'traffic': 1, 'link': 1, 'veri': 1, 'mime': 1, 'handl': 1, 'pretti': 1, 'bad': 1, 'compar': 1, 'modern': 1, 'mailer': 1, 'scare': 1, 'move': 1, 've': 1, 'mh': 1, 'nmh': 1, 'year': 1, '_______________________________________________': 1, 'list': 1, 'redhat': 1, 'com': 1, 'url': 1}),\n",
       "       Counter({'i': 9, 'of': 7, 'the': 7, 'duplic': 6, 'to': 6, 'spam': 5, 'in': 5, 'a': 4, 'real': 4, 'be': 4, 'it': 4, 'and': 4, 'get': 3, 'or': 3, 'for': 3, 'some': 3, 'should': 3, 'train': 3, 'peopl': 3, 'think': 3, 'life': 3, 'save': 2, 't': 2, 'script': 2, 'an': 2, 'see': 2, 'but': 2, 'wink': 2, 'classifi': 2, 'that': 2, 's': 2, 'is': 2, 'may': 2, 'use': 2, 'skip': 1, 'montanaro': 1, 'becaus': 1, 'mail': 1, 'through': 1, 'sever': 1, 'differ': 1, 'email': 1, 'address': 1, 'frequent': 1, 'triplic': 1, 'more': 1, 'plicat': 1, 'variou': 1, 'messag': 1, 'later': 1, 'analysi': 1, 'haven': 1, 'alway': 1, 'been': 1, 'care': 1, 'avoid': 1, 'such': 1, 'wrote': 1, 'time': 1, 'ago': 1, 'tri': 1, 'minim': 1, 'by': 1, 'calcul': 1, 'loos': 1, 'checksum': 1, 'still': 1, 'have': 1, 'delet': 1, 'befor': 1, 'not': 1, 'just': 1, 'can': 1, 'stop': 1, 'work': 1, 'best': 1, 'when': 1, 'on': 1, 'wholli': 1, 'random': 1, 'spatter': 1, 'if': 1, 'contain': 1, 'then': 1, 'what': 1, 'would': 1, 'interest': 1, 'd': 1, 'happi': 1, 'extric': 1, 'from': 1, 'my': 1, 'local': 1, 'modul': 1, 'check': 1, 'into': 1, 'cv': 1, 'sure': 1, 'relev': 1, 'mayb': 1, 'anoth': 1, 'purpos': 1, 'paul': 1, 'svensson': 1, 'harder': 1, 'about': 1, 'than': 1, 'rest': 1, 'us': 1, 'he': 1, 'abl': 1, 'out': 1, 'approach': 1, 'identifi': 1, 'close': 1, 'relat': 1, 'exampl': 1, 'amount': 1, 'go': 1, 'end': 1, 'up': 1, 'ham': 1, 'data': 1, 'ani': 1, 'sort': 1, 'similar': 1, 'score': 1, 'piec': 1, 'known': 1, 'aid': 1, 'find': 1, 'purg': 1}),\n",
       "       Counter({'you': 4, 'of': 4, 'number': 4, 'our': 3, 'by': 2, 'buy': 2, 'tobacco': 2, 'visit': 2, 'websit': 2, 'from': 2, 'as': 2, 'spain': 2, 'dear': 1, 'sir': 1, 'madam': 1, 'if': 1, 'are': 1, 'fed': 1, 'up': 1, 'be': 1, 'rip': 1, 'off': 1, 'the': 1, 'british': 1, 'govern': 1, 'everi': 1, 'time': 1, 'your': 1, 'then': 1, 'should': 1, 'where': 1, 'can': 1, 'now': 1, 'carton': 1, 'cigarett': 1, 'or': 1, 'pouch': 1, 'roll': 1, 'littl': 1, 'euro': 1, 'approx': 1, 'pound': 1, 'inclus': 1, 'deliveri': 1, 'regist': 1, 'air': 1, 'mail': 1, 'offic': 1, 'in': 1, 'whi': 1, 'pay': 1, 'more': 1, 'at': 1, 'url': 1, 'best': 1, 'regard': 1, 'sale': 1, 'depart': 1, 'smoke': 1, 'direct': 1, 'xaynumberi': 1}),\n",
       "       Counter({'hyperlink': 56, 'the': 36, 'number': 23, 'and': 18, 'a': 16, 'to': 16, 's': 15, 'of': 11, 'in': 11, 'for': 9, 'server': 9, 'with': 9, 'you': 8, 'secur': 8, 'more': 8, 'microsoft': 7, 'softwar': 7, 'is': 7, 'read': 7, 'your': 7, 'zdnet': 6, 'on': 6, 'it': 6, 'servic': 6, 'that': 5, 'be': 5, 'intel': 5, 'thi': 5, 'full': 5, 'up': 5, 'linux': 5, 'web': 5, 'requir': 5, 'sign': 4, 't': 4, 'from': 4, 'appl': 4, 'than': 4, 'but': 4, 'stori': 4, 'as': 4, 'top': 4, 'at': 4, 'cnet': 4, 'applic': 4, 'network': 4, 'out': 4, 'samsung': 4, 'syncmast': 4, 'whi': 3, 'window': 3, 'liberti': 3, 'enterpris': 3, 'year': 3, 'bring': 3, 'consolid': 3, 'product': 3, 'manag': 3, 'contract': 3, 'are': 3, 'heavi': 3, 'need': 3, 'tech': 3, 'updat': 3, 'monitor': 3, 'where': 2, 'tabletpc': 2, 'will': 2, 'ok': 2, 'were': 2, 'right': 2, 'all': 2, 'can': 2, 'big': 2, 'develop': 2, 'tool': 2, 'latest': 2, 'news': 2, 'bug': 2, 'get': 2, 'lift': 2, 'mobil': 2, 'corpor': 2, 'hole': 2, 'farber': 2, 'sale': 2, 'lower': 2, 'job': 2, 'may': 2, 'back': 2, 'not': 2, 'reserv': 2, 'time': 2, 'vmware': 2, 'version': 2, 'end': 2, 'offer': 2, 'base': 2, 'support': 2, 'xp': 2, 'system': 2, 'isn': 2, 'over': 2, 'fine': 2, 'print': 2, 'licens': 2, 'they': 2, 'just': 2, 'tco': 2, 'yet': 2, 'gartner': 2, 'rack': 2, 'dual': 2, 'two': 2, 'pci': 2, 'slot': 2, 'hardwar': 2, 'notebook': 2, 'desktop': 2, 'if': 2, 'review': 2, 'today': 2, 'remedi': 2, 'level': 2, 'firewal': 2, 'url': 2, 'design': 2, 'exchang': 2, 'e': 2, 'mail': 2, 'upgrad': 2, 'porsch': 2, 'popular': 2, 'memori': 2, 'find': 2, 'center': 2, 'subscript': 2, 'inc': 2, 'vital': 1, 'juli': 1, 'david': 1, 'berlind': 1, 'succeed': 1, 'reader': 1, 'along': 1, 'i': 1, 'now': 1, 'believ': 1, 'hit': 1, 'vertic': 1, 'market': 1, 'won': 1, 'buy': 1, 'one': 1, 'dell': 1, 'cert': 1, 'report': 1, 'multipli': 1, 'squash': 1, 'sun': 1, 'id': 1, 'face': 1, 'slump': 1, 'put': 1, 'bite': 1, 'bluetooth': 1, 'rainbow': 1, 'coalit': 1, 'spread': 1, 'wireless': 1, 'handspr': 1, 'court': 1, 'buyer': 1, 'patch': 1, 'seriou': 1, 'pick': 1, 'danfarb': 1, 'slow': 1, 'shrink': 1, 'workforc': 1, 'announc': 1, 'expect': 1, 'earn': 1, 'yesterday': 1, 'percent': 1, 'staff': 1, 'would': 1, 'elimin': 1, 'margin': 1, 'line': 1, 'overal': 1, 'outlook': 1, 'bright': 1, 'come': 1, 'month': 1, 'despit': 1, 'feder': 1, 'chairman': 1, 'alan': 1, 'greenspan': 1, 'optim': 1, 'about': 1, 'recoveri': 1, 'ant': 1, 'new': 1, 'slate': 1, 'run': 1, 'atop': 1, 'suse': 1, 'mandrakesoft': 1, 'red': 1, 'hat': 1, 'well': 1, 'net': 1, 'due': 1, 'opportun': 1, 'ever': 1, 'gsx': 1, 'includ': 1, 'amd': 1, 'athlon': 1, 'xeon': 1, 'processor': 1, 'eas': 1, 'claus': 1, 'alarm': 1, 'high': 1, 'stake': 1, 'game': 1, 'negoti': 1, 'silver': 1, 'tongu': 1, 'rep': 1, 'biggest': 1, 'challeng': 1, 'languag': 1, 'custom': 1, 'spend': 1, 'surprisingli': 1, 'littl': 1, 'pour': 1, 'multi': 1, 'million': 1, 'dollar': 1, 'rife': 1, 'obscur': 1, 'terminolog': 1, 'vagu': 1, 'expans': 1, 'charg': 1, 'mind': 1, 'boggl': 1, 'convers': 1, 'result': 1, 'pay': 1, 'way': 1, 'had': 1, 'never': 1, 'imagin': 1, 'long': 1, 'after': 1, 'deal': 1, 'ask': 1, 'california': 1, 'six': 1, 'step': 1, 'best': 1, 'don': 1, 'anoth': 1, 'os': 1, 'help': 1, 'determin': 1, 'whether': 1, 'better': 1, 'examin': 1, 'benefit': 1, 'pitfal': 1, 'deploy': 1, 'la': 1, 'mode': 1, 'xserv': 1, 'mount': 1, 'move': 1, 'into': 1, 'territori': 1, 'spec': 1, 'impress': 1, 'numberghz': 1, 'powerpc': 1, 'gnumber': 1, 'numbergb': 1, 'ddr': 1, 'sdram': 1, 'bit': 1, 'numbermhz': 1, 'plu': 1, 'third': 1, 'combin': 1, 'agp': 1, 'gigabit': 1, 'ethernet': 1, 'firewir': 1, 'usb': 1, 'port': 1, 'four': 1, 'ultra': 1, 'ata': 1, 'drive': 1, 'modul': 1, 'bay': 1, 'bill': 1, 'o': 1, 'brien': 1, 'think': 1, 'even': 1, 'appeal': 1, 'muscl': 1, 'winbook': 1, 'jnumber': 1, 'use': 1, 'pentium': 1, 'leav': 1, 'pnumber': 1, 'm': 1, 'dust': 1, 'mean': 1, 'spreadsheet': 1, 'shoulder': 1, 'travel': 1, 'onli': 1, 'occasion': 1, 'perform': 1, 'might': 1, 'sole': 1, 'comput': 1, 'write': 1, 'me': 1, 'dan': 1, 'com': 1, 'also': 1, 'said': 1, 'real': 1, 'built': 1, 'plug': 1, 'shield': 1, 'data': 1, 'say': 1, 'integr': 1, 'demand': 1, 'inform': 1, 'richard': 1, 'spellman': 1, 'respons': 1, 'embed': 1, 'featur': 1, 'critic': 1, 'often': 1, 'overlook': 1, 'aspect': 1, 'consid': 1, 'these': 1, 'when': 1, 'work': 1, 'next': 1, 'project': 1, 'download': 1, 'stamp': 1, 'doe': 1, 'code': 1, 'onc': 1, 'debug': 1, 'collect': 1, 'util': 1, 'locat': 1, 'correct': 1, 'program': 1, 'mistak': 1, 'track': 1, 'defect': 1, 'previous': 1, 'bridg': 1, 'gap': 1, 'between': 1, 'appear': 1, 'we': 1, 'closer': 1, 'solut': 1, 'singl': 1, 'what': 1, 'choos': 1, 'specif': 1, 'stress': 1, 'giant': 1, 'plan': 1, 'improv': 1, 'first': 1, 'major': 1, 'nearli': 1, 'crucial': 1, 'click': 1, 'worth': 1, 'look': 1, 'afford': 1, 'pair': 1, 'f': 1, 'deliv': 1, 'numberp': 1, 'sleek': 1, 'inch': 1, 'lcd': 1, 'most': 1, 'nec': 1, 'multisync': 1, 'numberv': 1, 'envis': 1, 'en': 1, 'v': 1, 'df': 1, 'elsewher': 1, 'configur': 1, 'clearanc': 1, 'discount': 1, 'pc': 1, 'pda': 1, 'mpnumber': 1, 'player': 1, 'show': 1, 'how': 1, 'java': 1, 'mass': 1, 'cold': 1, 'fusion': 1, 'mx': 1, 'check': 1, 'thousand': 1, 'list': 1, 'career': 1, 'free': 1, 'newslett': 1, 'address': 1, 'qqqqqqqqqq': 1, 'spamassassin': 1, 'taint': 1, 'org': 1, 'unsubscrib': 1, 'my': 1, 'faq': 1, 'advertis': 1, 'home': 1, 'ebusi': 1, 'platform': 1, 'contact': 1, 'us': 1, 'copyright': 1, 'regist': 1, 'mark': 1}),\n",
       "       Counter({'number': 6, 'url': 2, 'the': 2, 'date': 1, 'numbertnumb': 1, 'world': 1, 'latest': 1, 'osama': 1, 'bin': 1, 'laden': 1, 'is': 1, 'aliv': 1, 'and': 1, 'regularli': 1, 'meet': 1, 'mullah': 1, 'omar': 1, 'fugit': 1, 'leader': 1, 'of': 1, 'taliban': 1, 'accord': 1, 'to': 1, 'a': 1, 'telephon': 1, 'call': 1, 'intercept': 1, 'by': 1, 'american': 1, 'spi': 1, 'satellit': 1}),\n",
       "       Counter({'number': 10, 'phone': 4, 'as': 4, 'below': 3, 'url': 3, 'accessori': 2, 'all': 2, 'at': 2, 'wholesal': 2, 'price': 2, 'low': 2, 'you': 2, 'pleas': 2, 'to': 2, 'remov': 2, 'cellular': 1, 'hand': 1, 'free': 1, 'ear': 1, 'bud': 1, 'holster': 1, 'booster': 1, 'antenna': 1, 'onli': 1, 'case': 1, 'car': 1, 'charger': 1, 'face': 1, 'plate': 1, 'lithium': 1, 'ion': 1, 'batteri': 1, 'click': 1, 'for': 1, 'on': 1, 'nokia': 1, 'motorola': 1, 'lg': 1, 'nextel': 1, 'samsung': 1, 'qualcomm': 1, 'ericsson': 1, 'audiovox': 1, 'if': 1, 'need': 1, 'assist': 1, 'call': 1, 'us': 1, 'be': 1, 'from': 1, 'futur': 1, 'mail': 1, 'send': 1, 'your': 1, 'request': 1, 'removemenownumb': 1, 'btamail': 1, 'net': 1, 'cn': 1, 'thank': 1, 'and': 1, 'have': 1, 'a': 1, 'super': 1, 'day': 1})],\n",
       "      dtype=object)"
      ]
     },
     "execution_count": 375,
     "metadata": {},
     "output_type": "execute_result"
    }
   ],
   "source": [
    "X_few = X_train[:13]\n",
    "X_few_wordcounts = EmailToWordCounterTransformer().fit_transform(X_few)\n",
    "X_few_wordcounts"
   ]
  },
  {
   "cell_type": "code",
   "execution_count": 393,
   "id": "06276a36-5f81-4349-90b0-87a446777e3d",
   "metadata": {},
   "outputs": [],
   "source": [
    "from scipy.sparse import csr_matrix"
   ]
  },
  {
   "cell_type": "code",
   "execution_count": 394,
   "id": "7fdc505f-be48-49a3-adf3-f2ff7162d80b",
   "metadata": {},
   "outputs": [],
   "source": [
    "class WordCounterToVectorTransformer(BaseEstimator, TransformerMixin):\n",
    "    def __init__(self, vocabulary_size=1000):\n",
    "        self.vocabulary_size = vocabulary_size\n",
    "    def fit(self, X, y=None):\n",
    "        total_count = Counter()\n",
    "        for word_count in X:\n",
    "            for word, count in word_count.items():\n",
    "                total_count[word] += min(count, 10)\n",
    "        most_common = total_count.most_common()[:self.vocabulary_size]\n",
    "        self.vocabulary_ = {word: index + 1 for index, (word, count) in enumerate(most_common)}\n",
    "        return self\n",
    "    def transform(self, X, y=None):\n",
    "        rows = []\n",
    "        cols = []\n",
    "        data = []\n",
    "        for row, word_count in enumerate(X):\n",
    "            for word, count in word_count.items():\n",
    "                rows.append(row)\n",
    "                cols.append(self.vocabulary_.get(word, 0))\n",
    "                data.append(count)\n",
    "        return csr_matrix((data, (rows, cols)), shape=(len(X), self.vocabulary_size + 1))"
   ]
  },
  {
   "cell_type": "code",
   "execution_count": 395,
   "id": "bcc6e3a8-39c2-469d-bd34-e5b6c3e5758b",
   "metadata": {},
   "outputs": [
    {
     "data": {
      "text/plain": [
       "<13x11 sparse matrix of type '<class 'numpy.intc'>'\n",
       "\twith 120 stored elements in Compressed Sparse Row format>"
      ]
     },
     "execution_count": 395,
     "metadata": {},
     "output_type": "execute_result"
    }
   ],
   "source": [
    "vocab_transformer = WordCounterToVectorTransformer(vocabulary_size=10)\n",
    "X_few_vectors = vocab_transformer.fit_transform(X_few_wordcounts)\n",
    "X_few_vectors"
   ]
  },
  {
   "cell_type": "code",
   "execution_count": 396,
   "id": "71516c05-4653-4834-967f-7e69e81a30a5",
   "metadata": {},
   "outputs": [
    {
     "data": {
      "text/plain": [
       "array([[2061,   36,   73,   88,   43,   53,   28,   29,   25,   53,   48],\n",
       "       [ 137,   14,    5,    4,    3,    0,    2,    1,    3,    5,    0],\n",
       "       [ 109,   10,    1,    2,    5,    3,    2,    1,    4,    0,    2],\n",
       "       [ 468,    5,   14,   22,   21,   11,   12,   11,    5,   19,    6],\n",
       "       [ 270,   10,   18,    4,    6,    4,    3,    6,    3,    3,   19],\n",
       "       [ 345,   12,   12,   26,    8,   11,   11,    9,    7,    3,    0],\n",
       "       [  47,    0,    1,    1,    2,    2,    2,    1,    1,    0,    1],\n",
       "       [ 202,    8,    4,    4,    4,    7,    0,    6,    4,   13,    3],\n",
       "       [ 170,    0,    6,    7,    4,    4,    7,    4,    5,    9,    0],\n",
       "       [  66,    4,    0,    1,    0,    0,    4,    0,    1,    0,    4],\n",
       "       [ 787,   23,   16,   36,   16,   18,   11,    6,   11,    1,    8],\n",
       "       [  26,    6,    1,    2,    1,    1,    1,    0,    0,    0,    0],\n",
       "       [  78,   10,    2,    0,    1,    1,    0,    0,    0,    0,    2]],\n",
       "      dtype=int32)"
      ]
     },
     "execution_count": 396,
     "metadata": {},
     "output_type": "execute_result"
    }
   ],
   "source": [
    "X_few_vectors.toarray()"
   ]
  },
  {
   "cell_type": "code",
   "execution_count": 398,
   "id": "45d6fbb3-8b87-4ff9-b0dd-0ab8196f049b",
   "metadata": {},
   "outputs": [
    {
     "data": {
      "text/plain": [
       "{'number': 1,\n",
       " 'to': 2,\n",
       " 'the': 3,\n",
       " 'a': 4,\n",
       " 'and': 5,\n",
       " 'of': 6,\n",
       " 'it': 7,\n",
       " 'in': 8,\n",
       " 'i': 9,\n",
       " 'you': 10}"
      ]
     },
     "execution_count": 398,
     "metadata": {},
     "output_type": "execute_result"
    }
   ],
   "source": [
    "vocab_transformer.vocabulary_"
   ]
  },
  {
   "cell_type": "code",
   "execution_count": 416,
   "id": "be852cd3-fab3-4b3c-af99-8f87215a0694",
   "metadata": {},
   "outputs": [],
   "source": [
    "from sklearn.pipeline import Pipeline\n",
    "from sklearn.linear_model import LogisticRegression\n",
    "from sklearn.model_selection import cross_val_score\n",
    "from sklearn.model_selection import RandomizedSearchCV"
   ]
  },
  {
   "cell_type": "code",
   "execution_count": 480,
   "id": "237486e5-68b5-4266-bfc2-5368466058b3",
   "metadata": {},
   "outputs": [],
   "source": [
    "param_grid = {\n",
    "    \"penalty\": [\"l1\", 'l2'],\n",
    "    # 'C': np.linspace(0.01, 1, 5),\n",
    "    'solver': [\"lbfgs\", 'saga', 'sag'],\n",
    "    'max_iter': np.arange(1000, 1500, 5),\n",
    "}"
   ]
  },
  {
   "cell_type": "code",
   "execution_count": 451,
   "id": "b0e39809-0f35-4fe2-8e12-3a2854978053",
   "metadata": {},
   "outputs": [
    {
     "data": {
      "text/plain": [
       "<3375x1001 sparse matrix of type '<class 'numpy.intc'>'\n",
       "\twith 303710 stored elements in Compressed Sparse Row format>"
      ]
     },
     "execution_count": 451,
     "metadata": {},
     "output_type": "execute_result"
    }
   ],
   "source": [
    "preprocess_pipeline = Pipeline([\n",
    "    (\"email_to_wordcount\", EmailToWordCounterTransformer()),\n",
    "    (\"wordcount_to_vector\", WordCounterToVectorTransformer()),\n",
    "])\n",
    "\n",
    "X_train_transformed = preprocess_pipeline.fit_transform(X_train)\n",
    "X_train_transformed"
   ]
  },
  {
   "cell_type": "code",
   "execution_count": 517,
   "id": "ef3549e3-b34f-4df1-9cef-18c4ba2e94f1",
   "metadata": {},
   "outputs": [
    {
     "name": "stdout",
     "output_type": "stream",
     "text": [
      "[CV] END ................................ score: (test=0.982) total time=   1.2s\n",
      "[CV] END ................................ score: (test=0.984) total time=   1.1s\n",
      "[CV] END ................................ score: (test=0.978) total time=   1.2s\n",
      "[CV] END ................................ score: (test=0.978) total time=   1.2s\n",
      "[CV] END ................................ score: (test=0.988) total time=   1.2s\n"
     ]
    },
    {
     "data": {
      "text/plain": [
       "0.981925925925926"
      ]
     },
     "execution_count": 517,
     "metadata": {},
     "output_type": "execute_result"
    }
   ],
   "source": [
    "from sklearn.linear_model import LogisticRegression\n",
    "from sklearn.model_selection import cross_val_score\n",
    "\n",
    "log_clf = LogisticRegression(solver=\"lbfgs\", max_iter=1000, random_state=42, class_weight='balanced')\n",
    "score = cross_val_score(log_clf, X_train_transformed, y_train, cv=5, verbose=4)\n",
    "score.mean()"
   ]
  },
  {
   "cell_type": "code",
   "execution_count": 487,
   "id": "105fdb66-1006-4c4a-8064-7ffb84881b0b",
   "metadata": {},
   "outputs": [
    {
     "name": "stdout",
     "output_type": "stream",
     "text": [
      "Precision: 95.10%\n",
      "Recall: 97.98%\n"
     ]
    }
   ],
   "source": [
    "from sklearn.metrics import precision_score, recall_score\n",
    "\n",
    "X_test_transformed = preprocess_pipeline.transform(X_test)\n",
    "\n",
    "log_clf = LogisticRegression(solver=\"lbfgs\", max_iter=1000, random_state=42)\n",
    "log_clf.fit(X_train_transformed, y_train)\n",
    "\n",
    "y_pred = log_clf.predict(X_test_transformed)\n",
    "\n",
    "print(\"Precision: {:.2f}%\".format(100 * precision_score(y_test, y_pred)))\n",
    "print(\"Recall: {:.2f}%\".format(100 * recall_score(y_test, y_pred)))"
   ]
  },
  {
   "cell_type": "code",
   "execution_count": 518,
   "id": "32076f65-42b3-46ab-9761-b0a1cd5c651a",
   "metadata": {},
   "outputs": [
    {
     "data": {
      "text/plain": [
       "array([[271,   5],\n",
       "       [  2,  97]], dtype=int64)"
      ]
     },
     "execution_count": 518,
     "metadata": {},
     "output_type": "execute_result"
    }
   ],
   "source": [
    "confusion_matrix(y_test, y_pred)"
   ]
  },
  {
   "cell_type": "code",
   "execution_count": 609,
   "id": "6b88a6d9-6cb1-41d0-a68f-eec35f9c2c5b",
   "metadata": {},
   "outputs": [],
   "source": [
    "from sklearn.ensemble import AdaBoostClassifier, RandomForestClassifier\n",
    "from sklearn.model_selection import RandomizedSearchCV\n",
    "from sklearn.neural_network import MLPClassifier\n",
    "model = MLPClassifier() #balpha=1, max_iter=1000, random_state=42\n",
    "\n",
    "# model.fit(X_train_transformed, y_train)"
   ]
  },
  {
   "cell_type": "code",
   "execution_count": 610,
   "id": "484ed2fb-6408-49b1-85e4-a9bec9ea733a",
   "metadata": {},
   "outputs": [
    {
     "ename": "NotFittedError",
     "evalue": "This MLPClassifier instance is not fitted yet. Call 'fit' with appropriate arguments before using this estimator.",
     "output_type": "error",
     "traceback": [
      "\u001b[1;31m---------------------------------------------------------------------------\u001b[0m",
      "\u001b[1;31mNotFittedError\u001b[0m                            Traceback (most recent call last)",
      "Cell \u001b[1;32mIn[610], line 1\u001b[0m\n\u001b[1;32m----> 1\u001b[0m \u001b[43mmodel\u001b[49m\u001b[38;5;241;43m.\u001b[39;49m\u001b[43mscore\u001b[49m\u001b[43m(\u001b[49m\u001b[43mX_test_transformed\u001b[49m\u001b[43m,\u001b[49m\u001b[43m \u001b[49m\u001b[43my_test\u001b[49m\u001b[43m)\u001b[49m\n",
      "File \u001b[1;32mC:\\Python311\\Lib\\site-packages\\sklearn\\base.py:706\u001b[0m, in \u001b[0;36mClassifierMixin.score\u001b[1;34m(self, X, y, sample_weight)\u001b[0m\n\u001b[0;32m    681\u001b[0m \u001b[38;5;250m\u001b[39m\u001b[38;5;124;03m\"\"\"\u001b[39;00m\n\u001b[0;32m    682\u001b[0m \u001b[38;5;124;03mReturn the mean accuracy on the given test data and labels.\u001b[39;00m\n\u001b[0;32m    683\u001b[0m \n\u001b[1;32m   (...)\u001b[0m\n\u001b[0;32m    702\u001b[0m \u001b[38;5;124;03m    Mean accuracy of ``self.predict(X)`` w.r.t. `y`.\u001b[39;00m\n\u001b[0;32m    703\u001b[0m \u001b[38;5;124;03m\"\"\"\u001b[39;00m\n\u001b[0;32m    704\u001b[0m \u001b[38;5;28;01mfrom\u001b[39;00m \u001b[38;5;21;01m.\u001b[39;00m\u001b[38;5;21;01mmetrics\u001b[39;00m \u001b[38;5;28;01mimport\u001b[39;00m accuracy_score\n\u001b[1;32m--> 706\u001b[0m \u001b[38;5;28;01mreturn\u001b[39;00m accuracy_score(y, \u001b[38;5;28;43mself\u001b[39;49m\u001b[38;5;241;43m.\u001b[39;49m\u001b[43mpredict\u001b[49m\u001b[43m(\u001b[49m\u001b[43mX\u001b[49m\u001b[43m)\u001b[49m, sample_weight\u001b[38;5;241m=\u001b[39msample_weight)\n",
      "File \u001b[1;32mC:\\Python311\\Lib\\site-packages\\sklearn\\neural_network\\_multilayer_perceptron.py:1159\u001b[0m, in \u001b[0;36mMLPClassifier.predict\u001b[1;34m(self, X)\u001b[0m\n\u001b[0;32m   1146\u001b[0m \u001b[38;5;28;01mdef\u001b[39;00m \u001b[38;5;21mpredict\u001b[39m(\u001b[38;5;28mself\u001b[39m, X):\n\u001b[0;32m   1147\u001b[0m \u001b[38;5;250m    \u001b[39m\u001b[38;5;124;03m\"\"\"Predict using the multi-layer perceptron classifier.\u001b[39;00m\n\u001b[0;32m   1148\u001b[0m \n\u001b[0;32m   1149\u001b[0m \u001b[38;5;124;03m    Parameters\u001b[39;00m\n\u001b[1;32m   (...)\u001b[0m\n\u001b[0;32m   1157\u001b[0m \u001b[38;5;124;03m        The predicted classes.\u001b[39;00m\n\u001b[0;32m   1158\u001b[0m \u001b[38;5;124;03m    \"\"\"\u001b[39;00m\n\u001b[1;32m-> 1159\u001b[0m     \u001b[43mcheck_is_fitted\u001b[49m\u001b[43m(\u001b[49m\u001b[38;5;28;43mself\u001b[39;49m\u001b[43m)\u001b[49m\n\u001b[0;32m   1160\u001b[0m     \u001b[38;5;28;01mreturn\u001b[39;00m \u001b[38;5;28mself\u001b[39m\u001b[38;5;241m.\u001b[39m_predict(X)\n",
      "File \u001b[1;32mC:\\Python311\\Lib\\site-packages\\sklearn\\utils\\validation.py:1461\u001b[0m, in \u001b[0;36mcheck_is_fitted\u001b[1;34m(estimator, attributes, msg, all_or_any)\u001b[0m\n\u001b[0;32m   1458\u001b[0m     \u001b[38;5;28;01mraise\u001b[39;00m \u001b[38;5;167;01mTypeError\u001b[39;00m(\u001b[38;5;124m\"\u001b[39m\u001b[38;5;132;01m%s\u001b[39;00m\u001b[38;5;124m is not an estimator instance.\u001b[39m\u001b[38;5;124m\"\u001b[39m \u001b[38;5;241m%\u001b[39m (estimator))\n\u001b[0;32m   1460\u001b[0m \u001b[38;5;28;01mif\u001b[39;00m \u001b[38;5;129;01mnot\u001b[39;00m _is_fitted(estimator, attributes, all_or_any):\n\u001b[1;32m-> 1461\u001b[0m     \u001b[38;5;28;01mraise\u001b[39;00m NotFittedError(msg \u001b[38;5;241m%\u001b[39m {\u001b[38;5;124m\"\u001b[39m\u001b[38;5;124mname\u001b[39m\u001b[38;5;124m\"\u001b[39m: \u001b[38;5;28mtype\u001b[39m(estimator)\u001b[38;5;241m.\u001b[39m\u001b[38;5;18m__name__\u001b[39m})\n",
      "\u001b[1;31mNotFittedError\u001b[0m: This MLPClassifier instance is not fitted yet. Call 'fit' with appropriate arguments before using this estimator."
     ]
    }
   ],
   "source": [
    "model.score(X_test_transformed, y_test)"
   ]
  },
  {
   "cell_type": "code",
   "execution_count": 611,
   "id": "79efe83f-b077-4029-8dbc-1a07f8810eca",
   "metadata": {},
   "outputs": [],
   "source": [
    "param_grid = {\n",
    "    \"hidden_layer_sizes\": [(200,),(300,)],\n",
    "    \"activation\": ['relu', 'logistic'], \n",
    "    \"solver\":['adam',\"sgd\"], \n",
    "    \"learning_rate\":['adaptive'],\n",
    "    # {\"shuffle\":True},\n",
    "    # {\"random_state\":42}\n",
    "}"
   ]
  },
  {
   "cell_type": "code",
   "execution_count": 612,
   "id": "9e81dca0-0538-48d8-b67a-5da3dddaf7cf",
   "metadata": {},
   "outputs": [],
   "source": [
    "param_grid = GridSearchCV(model, param_grid, cv=2)"
   ]
  },
  {
   "cell_type": "code",
   "execution_count": null,
   "id": "53f1f5be-57b0-4a3b-8831-e84e148c5083",
   "metadata": {},
   "outputs": [
    {
     "name": "stderr",
     "output_type": "stream",
     "text": [
      "C:\\Python311\\Lib\\site-packages\\sklearn\\neural_network\\_multilayer_perceptron.py:691: ConvergenceWarning: Stochastic Optimizer: Maximum iterations (200) reached and the optimization hasn't converged yet.\n",
      "  warnings.warn(\n"
     ]
    }
   ],
   "source": [
    "param_grid.fit(X_train_transformed, y_train)"
   ]
  },
  {
   "cell_type": "code",
   "execution_count": 602,
   "id": "3de5a1bb-b502-4171-93f3-f7842e503ca0",
   "metadata": {},
   "outputs": [
    {
     "data": {
      "text/plain": [
       "0.9893333333333333"
      ]
     },
     "execution_count": 602,
     "metadata": {},
     "output_type": "execute_result"
    }
   ],
   "source": [
    "param_grid.score(X_test_transformed, y_test)"
   ]
  },
  {
   "cell_type": "code",
   "execution_count": null,
   "id": "5f1929ad-ce31-47ec-8428-c05b46b7f514",
   "metadata": {},
   "outputs": [],
   "source": []
  }
 ],
 "metadata": {
  "kernelspec": {
   "display_name": "Python 3 (ipykernel)",
   "language": "python",
   "name": "python3"
  },
  "language_info": {
   "codemirror_mode": {
    "name": "ipython",
    "version": 3
   },
   "file_extension": ".py",
   "mimetype": "text/x-python",
   "name": "python",
   "nbconvert_exporter": "python",
   "pygments_lexer": "ipython3",
   "version": "3.11.5"
  }
 },
 "nbformat": 4,
 "nbformat_minor": 5
}
