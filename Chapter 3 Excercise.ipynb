{
 "cells": [
  {
   "cell_type": "markdown",
   "id": "850ab1faa8a3db93",
   "metadata": {
    "collapsed": false,
    "jupyter": {
     "outputs_hidden": false
    }
   },
   "source": [
    "Try to build a classifier for the MNIST dataset that achieves over 97% accuracy\n",
    "on the test set. Hint: the KNeighborsClassifier works quite well for this task;\n",
    "you just need to find good hyperparameter values "
   ]
  },
  {
   "cell_type": "code",
   "execution_count": null,
   "id": "a105b8ebc0b61280",
   "metadata": {
    "collapsed": false,
    "is_executing": true,
    "jupyter": {
     "outputs_hidden": false
    }
   },
   "outputs": [],
   "source": [
    "import numpy as np\n",
    "from sklearn.datasets import fetch_openml\n",
    "from sklearn.neighbors import KNeighborsClassifier\n",
    "from sklearn.multiclass import OneVsOneClassifier\n",
    "from sklearn.model_selection import cross_val_score, cross_val_predict, train_test_split\n",
    "from sklearn.preprocessing import StandardScaler\n",
    "import numpy as np\n",
    "from sklearn.metrics import accuracy_score, confusion_matrix\n",
    "from sklearn.model_selection import GridSearchCV"
   ]
  },
  {
   "cell_type": "code",
   "execution_count": null,
   "id": "55d1538ad0ce131e",
   "metadata": {
    "collapsed": false,
    "is_executing": true,
    "jupyter": {
     "outputs_hidden": false
    }
   },
   "outputs": [],
   "source": [
    "mnist = fetch_openml('mnist_784', version=1)"
   ]
  },
  {
   "cell_type": "code",
   "execution_count": null,
   "id": "e9ed4d2435ad893d",
   "metadata": {
    "ExecuteTime": {
     "end_time": "2024-07-22T02:43:29.098045700Z",
     "start_time": "2024-07-22T02:43:27.109555200Z"
    },
    "collapsed": false,
    "jupyter": {
     "outputs_hidden": false
    }
   },
   "outputs": [],
   "source": [
    "mnist.keys()"
   ]
  },
  {
   "cell_type": "code",
   "execution_count": null,
   "id": "9ce4b433-d727-47bd-8247-27aca6618d8a",
   "metadata": {},
   "outputs": [],
   "source": [
    "X = mnist['data']\n",
    "y = mnist['target']"
   ]
  },
  {
   "cell_type": "code",
   "execution_count": null,
   "id": "61134229-4237-4066-b46f-79d28df88ca0",
   "metadata": {},
   "outputs": [],
   "source": [
    "# X = X.astype(np.uint16)\n",
    "y = y.astype(np.uint16)"
   ]
  },
  {
   "cell_type": "code",
   "execution_count": null,
   "id": "e8befb3e-28e6-45db-aa02-7cc0826c059f",
   "metadata": {},
   "outputs": [],
   "source": [
    "X_train, X_test, y_train, y_test = train_test_split(X, y, random_state=42, \n",
    "                                                    shuffle=True, stratify=y)"
   ]
  },
  {
   "cell_type": "code",
   "execution_count": null,
   "id": "5978e745-5654-4a8d-a747-3db6168a9128",
   "metadata": {},
   "outputs": [],
   "source": [
    "y_test = y_test.values"
   ]
  },
  {
   "cell_type": "code",
   "execution_count": null,
   "id": "1cce5d56-f398-4fd1-86e5-b4b94b8cf613",
   "metadata": {},
   "outputs": [],
   "source": [
    "scaler = StandardScaler()\n",
    "\n",
    "X_train_scaled = scaler.fit_transform(X_train)"
   ]
  },
  {
   "cell_type": "code",
   "execution_count": null,
   "id": "655cdda7-7f52-4da1-bbea-ca9e7917c61d",
   "metadata": {},
   "outputs": [],
   "source": [
    "param_grid = {\n",
    "    'n_neighbors': [1, 3, 6],\n",
    "    'weights': ['distance', 'uniform']\n",
    "}\n",
    "\n",
    "# Instaitiate the model \n",
    "knn = KNeighborsClassifier()"
   ]
  },
  {
   "cell_type": "code",
   "execution_count": null,
   "id": "ff84ed4a-b3fe-48ad-937c-f7fb13a87ff8",
   "metadata": {},
   "outputs": [],
   "source": [
    "grid_search = GridSearchCV(knn, param_grid=param_grid, scoring='accuracy')"
   ]
  },
  {
   "cell_type": "code",
   "execution_count": null,
   "id": "2509ba15-9b79-4520-8d0b-96af0954fd9f",
   "metadata": {},
   "outputs": [],
   "source": [
    "grid_search.fit(X_train, y_train)"
   ]
  },
  {
   "cell_type": "code",
   "execution_count": null,
   "id": "283e481d-0278-45be-b389-5b45ca9902f1",
   "metadata": {},
   "outputs": [],
   "source": [
    "y_pred = grid_search.predict(X_test)"
   ]
  },
  {
   "cell_type": "code",
   "execution_count": null,
   "id": "3a58ace9-0427-40fb-bc83-ef03a5a845dd",
   "metadata": {},
   "outputs": [],
   "source": [
    "grid_search.best_score_"
   ]
  },
  {
   "cell_type": "markdown",
   "id": "9ff1d876-1131-4e7a-b256-ab065968bf8d",
   "metadata": {},
   "source": [
    "Write a function that can shift an MNIST image in any direction (left, right, up, or down) by 3 pixel. Then, for each image in the training set, create four shifted copies (one per direction) and add them to the training set. Finally, train your best model on this expanded training set and measure its accuracy on the test set. You should observe that your model performs even better now! This technique of\n",
    "artificially growing the training set is called data augmentation or training set expansion."
   ]
  },
  {
   "cell_type": "code",
   "execution_count": null,
   "id": "2ace0ac5-2ac5-4ef3-b858-4e7ab62e2bee",
   "metadata": {
    "editable": true,
    "slideshow": {
     "slide_type": ""
    },
    "tags": []
   },
   "outputs": [],
   "source": [
    "from scipy.ndimage import shift\n",
    "import matplotlib.pyplot as plt\n",
    "import matplotlib as mpl\n",
    "import pandas as pd"
   ]
  },
  {
   "cell_type": "code",
   "execution_count": null,
   "id": "ef709270-5f92-459c-a99c-d460ceba3470",
   "metadata": {},
   "outputs": [],
   "source": [
    "few_digit = X[12:13]\n",
    "few_digit = np.array(few_digit, dtype=np.uint16)\n",
    "some_digits_image = few_digit.reshape(28,28)\n",
    "few_digit.shape"
   ]
  },
  {
   "cell_type": "code",
   "execution_count": null,
   "id": "c9c3d94d-9021-41de-857f-f25082a3902b",
   "metadata": {},
   "outputs": [],
   "source": [
    "#Image shifted down by 3 pixel\n",
    "image_shifted_down = shift(some_digits_image, (3, 0))\n",
    "image_shifted_down_resharped = image_shifted_down.reshape(1, 784)\n",
    "\n",
    "\n",
    "plt.imshow(image_shifted_down, cmap=mpl.cm.binary, interpolation='antialiased') \n",
    "# Other form of interpolation to generate pixel are: 'nearest', 'bicubic', 'bilinear' \n",
    "# Check out the Documentation to understand more \n",
    "plt.axis('on')\n",
    "plt.show()"
   ]
  },
  {
   "cell_type": "code",
   "execution_count": null,
   "id": "a2c9eed6-49e4-44ad-8d5d-cff523a7c4c0",
   "metadata": {},
   "outputs": [],
   "source": [
    "# image shifted up by 3 pixel\n",
    "image_shifted_up = shift(some_digits_image, (-3, 0))\n",
    "image_shifted_up_resharped = image_shifted_up.reshape(1, 784)\n",
    "\n",
    "\n",
    "plt.imshow(image_shifted_up, cmap=mpl.cm.binary, interpolation='antialiased') \n",
    "# Other form of interpolation to generate pixel are: 'nearest', 'bicubic', 'bilinear' \n",
    "# Check out the Documentation to understand more \n",
    "plt.axis('on')\n",
    "plt.show()"
   ]
  },
  {
   "cell_type": "code",
   "execution_count": null,
   "id": "9454f733-2da1-4c8a-ba4a-4ba7ac9c7796",
   "metadata": {},
   "outputs": [],
   "source": [
    "# image shifted to the right by 3 pixel\n",
    "image_shifted_right = shift(some_digits_image, (0, 3))\n",
    "image_shifted_right_resharped = image_shifted_right.reshape(1, 784)\n",
    "\n",
    "plt.imshow(image_shifted_right, cmap=mpl.cm.binary, interpolation=\"antialiased\")\n",
    "plt.axis()\n",
    "plt.show"
   ]
  },
  {
   "cell_type": "code",
   "execution_count": null,
   "id": "0cb4d877-9083-4f50-8d20-8eb254a388a0",
   "metadata": {},
   "outputs": [],
   "source": [
    "# image shifted to the left by 3 pixel\n",
    "image_shifted_left = shift(some_digits_image, (0, -3))\n",
    "image_shifted_left_resharped = image_shifted_left.reshape(1, 784)\n",
    "\n",
    "plt.imshow(image_shifted_left, cmap=mpl.cm.binary, interpolation=\"antialiased\")\n",
    "plt.axis()\n",
    "plt.show"
   ]
  },
  {
   "cell_type": "code",
   "execution_count": null,
   "id": "13a3fe58-3e5d-428b-b077-8787b08c50a3",
   "metadata": {},
   "outputs": [],
   "source": [
    "X_new_array = np.concatenate([image_shifted_down_resharped, image_shifted_left_resharped, image_shifted_right_resharped,\n",
    "            image_shifted_up_resharped], axis=0)\n",
    "\n",
    "X_train_new = np.concatenate([X_train, X_new_array], axis=0)\n",
    "X_train_new.shape"
   ]
  },
  {
   "cell_type": "code",
   "execution_count": null,
   "id": "cd3dc631-e0d2-4ea8-9602-c74659ea9ca0",
   "metadata": {},
   "outputs": [],
   "source": [
    "y_few_digit = y[12:13]\n",
    "y_new_array = np.concatenate([y_few_digit, y_few_digit, y_few_digit,\n",
    "                             y_few_digit], axis=0)\n",
    "\n",
    "y_train_new = np.concatenate([y_train, y_new_array], axis=0)\n",
    "y_train_new.shape"
   ]
  },
  {
   "cell_type": "code",
   "execution_count": null,
   "id": "5699a733-c0d3-4eed-9a79-2fea4235d034",
   "metadata": {},
   "outputs": [],
   "source": [
    "knn_new = KNeighborsClassifier(n_neighbors=3, weights='distance')\n",
    "\n",
    "knn_new.fit(X_train_new, y_train_new)"
   ]
  },
  {
   "cell_type": "code",
   "execution_count": null,
   "id": "582e6611-f131-4f59-8370-abc1f3af2133",
   "metadata": {},
   "outputs": [],
   "source": [
    "knn_new.score(X_test, y_test)"
   ]
  }
 ],
 "metadata": {
  "kernelspec": {
   "display_name": "Python 3 (ipykernel)",
   "language": "python",
   "name": "python3"
  },
  "language_info": {
   "codemirror_mode": {
    "name": "ipython",
    "version": 3
   },
   "file_extension": ".py",
   "mimetype": "text/x-python",
   "name": "python",
   "nbconvert_exporter": "python",
   "pygments_lexer": "ipython3",
   "version": "3.11.5"
  }
 },
 "nbformat": 4,
 "nbformat_minor": 5
}
