{
 "cells": [
  {
   "cell_type": "markdown",
   "id": "850ab1faa8a3db93",
   "metadata": {
    "collapsed": false,
    "jupyter": {
     "outputs_hidden": false
    }
   },
   "source": [
    "Try to build a classifier for the MNIST dataset that achieves over 97% accuracy\n",
    "on the test set. Hint: the KNeighborsClassifier works quite well for this task;\n",
    "you just need to find good hyperparameter values "
   ]
  },
  {
   "cell_type": "code",
   "execution_count": 1,
   "id": "a105b8ebc0b61280",
   "metadata": {
    "collapsed": false,
    "is_executing": true,
    "jupyter": {
     "outputs_hidden": false
    }
   },
   "outputs": [],
   "source": [
    "import numpy as np\n",
    "from sklearn.datasets import fetch_openml\n",
    "from sklearn.neighbors import KNeighborsClassifier\n",
    "from sklearn.multiclass import OneVsOneClassifier\n",
    "from sklearn.model_selection import cross_val_score, cross_val_predict, train_test_split\n",
    "from sklearn.preprocessing import StandardScaler\n",
    "import numpy as np\n",
    "from sklearn.metrics import accuracy_score, confusion_matrix\n",
    "from sklearn.model_selection import GridSearchCV"
   ]
  },
  {
   "cell_type": "code",
   "execution_count": 2,
   "id": "55d1538ad0ce131e",
   "metadata": {
    "collapsed": false,
    "is_executing": true,
    "jupyter": {
     "outputs_hidden": false
    }
   },
   "outputs": [
    {
     "name": "stderr",
     "output_type": "stream",
     "text": [
      "C:\\Python311\\Lib\\site-packages\\sklearn\\datasets\\_openml.py:1022: FutureWarning: The default value of `parser` will change from `'liac-arff'` to `'auto'` in 1.4. You can set `parser='auto'` to silence this warning. Therefore, an `ImportError` will be raised from 1.4 if the dataset is dense and pandas is not installed. Note that the pandas parser may return different data types. See the Notes Section in fetch_openml's API doc for details.\n",
      "  warn(\n"
     ]
    }
   ],
   "source": [
    "mnist = fetch_openml('mnist_784', version=1)"
   ]
  },
  {
   "cell_type": "code",
   "execution_count": 3,
   "id": "e9ed4d2435ad893d",
   "metadata": {
    "ExecuteTime": {
     "end_time": "2024-07-22T02:43:29.098045700Z",
     "start_time": "2024-07-22T02:43:27.109555200Z"
    },
    "collapsed": false,
    "jupyter": {
     "outputs_hidden": false
    }
   },
   "outputs": [
    {
     "data": {
      "text/plain": [
       "dict_keys(['data', 'target', 'frame', 'categories', 'feature_names', 'target_names', 'DESCR', 'details', 'url'])"
      ]
     },
     "execution_count": 3,
     "metadata": {},
     "output_type": "execute_result"
    }
   ],
   "source": [
    "mnist.keys()"
   ]
  },
  {
   "cell_type": "code",
   "execution_count": 4,
   "id": "9ce4b433-d727-47bd-8247-27aca6618d8a",
   "metadata": {},
   "outputs": [],
   "source": [
    "X = mnist['data']\n",
    "y = mnist['target']"
   ]
  },
  {
   "cell_type": "code",
   "execution_count": 5,
   "id": "61134229-4237-4066-b46f-79d28df88ca0",
   "metadata": {},
   "outputs": [],
   "source": [
    "# X = X.astype(np.uint16)\n",
    "y = y.astype(np.uint16)"
   ]
  },
  {
   "cell_type": "code",
   "execution_count": 6,
   "id": "e8befb3e-28e6-45db-aa02-7cc0826c059f",
   "metadata": {},
   "outputs": [],
   "source": [
    "X_train, X_test, y_train, y_test = train_test_split(X, y, random_state=42, \n",
    "                                                    shuffle=True, stratify=y)"
   ]
  },
  {
   "cell_type": "code",
   "execution_count": 7,
   "id": "5978e745-5654-4a8d-a747-3db6168a9128",
   "metadata": {},
   "outputs": [],
   "source": [
    "y_test = y_test.values"
   ]
  },
  {
   "cell_type": "code",
   "execution_count": 8,
   "id": "1cce5d56-f398-4fd1-86e5-b4b94b8cf613",
   "metadata": {},
   "outputs": [],
   "source": [
    "scaler = StandardScaler()\n",
    "\n",
    "X_train_scaled = scaler.fit_transform(X_train)"
   ]
  },
  {
   "cell_type": "code",
   "execution_count": 9,
   "id": "655cdda7-7f52-4da1-bbea-ca9e7917c61d",
   "metadata": {},
   "outputs": [],
   "source": [
    "param_grid = {\n",
    "    'n_neighbors': [1, 3, 6],\n",
    "    'weights': ['distance', 'uniform']\n",
    "}\n",
    "\n",
    "# Instaitiate the model \n",
    "knn = KNeighborsClassifier()"
   ]
  },
  {
   "cell_type": "code",
   "execution_count": 10,
   "id": "ff84ed4a-b3fe-48ad-937c-f7fb13a87ff8",
   "metadata": {},
   "outputs": [],
   "source": [
    "grid_search = GridSearchCV(knn, param_grid=param_grid, scoring='accuracy')"
   ]
  },
  {
   "cell_type": "code",
   "execution_count": 11,
   "id": "2509ba15-9b79-4520-8d0b-96af0954fd9f",
   "metadata": {},
   "outputs": [
    {
     "data": {
      "text/html": [
       "<style>#sk-container-id-1 {color: black;}#sk-container-id-1 pre{padding: 0;}#sk-container-id-1 div.sk-toggleable {background-color: white;}#sk-container-id-1 label.sk-toggleable__label {cursor: pointer;display: block;width: 100%;margin-bottom: 0;padding: 0.3em;box-sizing: border-box;text-align: center;}#sk-container-id-1 label.sk-toggleable__label-arrow:before {content: \"▸\";float: left;margin-right: 0.25em;color: #696969;}#sk-container-id-1 label.sk-toggleable__label-arrow:hover:before {color: black;}#sk-container-id-1 div.sk-estimator:hover label.sk-toggleable__label-arrow:before {color: black;}#sk-container-id-1 div.sk-toggleable__content {max-height: 0;max-width: 0;overflow: hidden;text-align: left;background-color: #f0f8ff;}#sk-container-id-1 div.sk-toggleable__content pre {margin: 0.2em;color: black;border-radius: 0.25em;background-color: #f0f8ff;}#sk-container-id-1 input.sk-toggleable__control:checked~div.sk-toggleable__content {max-height: 200px;max-width: 100%;overflow: auto;}#sk-container-id-1 input.sk-toggleable__control:checked~label.sk-toggleable__label-arrow:before {content: \"▾\";}#sk-container-id-1 div.sk-estimator input.sk-toggleable__control:checked~label.sk-toggleable__label {background-color: #d4ebff;}#sk-container-id-1 div.sk-label input.sk-toggleable__control:checked~label.sk-toggleable__label {background-color: #d4ebff;}#sk-container-id-1 input.sk-hidden--visually {border: 0;clip: rect(1px 1px 1px 1px);clip: rect(1px, 1px, 1px, 1px);height: 1px;margin: -1px;overflow: hidden;padding: 0;position: absolute;width: 1px;}#sk-container-id-1 div.sk-estimator {font-family: monospace;background-color: #f0f8ff;border: 1px dotted black;border-radius: 0.25em;box-sizing: border-box;margin-bottom: 0.5em;}#sk-container-id-1 div.sk-estimator:hover {background-color: #d4ebff;}#sk-container-id-1 div.sk-parallel-item::after {content: \"\";width: 100%;border-bottom: 1px solid gray;flex-grow: 1;}#sk-container-id-1 div.sk-label:hover label.sk-toggleable__label {background-color: #d4ebff;}#sk-container-id-1 div.sk-serial::before {content: \"\";position: absolute;border-left: 1px solid gray;box-sizing: border-box;top: 0;bottom: 0;left: 50%;z-index: 0;}#sk-container-id-1 div.sk-serial {display: flex;flex-direction: column;align-items: center;background-color: white;padding-right: 0.2em;padding-left: 0.2em;position: relative;}#sk-container-id-1 div.sk-item {position: relative;z-index: 1;}#sk-container-id-1 div.sk-parallel {display: flex;align-items: stretch;justify-content: center;background-color: white;position: relative;}#sk-container-id-1 div.sk-item::before, #sk-container-id-1 div.sk-parallel-item::before {content: \"\";position: absolute;border-left: 1px solid gray;box-sizing: border-box;top: 0;bottom: 0;left: 50%;z-index: -1;}#sk-container-id-1 div.sk-parallel-item {display: flex;flex-direction: column;z-index: 1;position: relative;background-color: white;}#sk-container-id-1 div.sk-parallel-item:first-child::after {align-self: flex-end;width: 50%;}#sk-container-id-1 div.sk-parallel-item:last-child::after {align-self: flex-start;width: 50%;}#sk-container-id-1 div.sk-parallel-item:only-child::after {width: 0;}#sk-container-id-1 div.sk-dashed-wrapped {border: 1px dashed gray;margin: 0 0.4em 0.5em 0.4em;box-sizing: border-box;padding-bottom: 0.4em;background-color: white;}#sk-container-id-1 div.sk-label label {font-family: monospace;font-weight: bold;display: inline-block;line-height: 1.2em;}#sk-container-id-1 div.sk-label-container {text-align: center;}#sk-container-id-1 div.sk-container {/* jupyter's `normalize.less` sets `[hidden] { display: none; }` but bootstrap.min.css set `[hidden] { display: none !important; }` so we also need the `!important` here to be able to override the default hidden behavior on the sphinx rendered scikit-learn.org. See: https://github.com/scikit-learn/scikit-learn/issues/21755 */display: inline-block !important;position: relative;}#sk-container-id-1 div.sk-text-repr-fallback {display: none;}</style><div id=\"sk-container-id-1\" class=\"sk-top-container\"><div class=\"sk-text-repr-fallback\"><pre>GridSearchCV(estimator=KNeighborsClassifier(),\n",
       "             param_grid={&#x27;n_neighbors&#x27;: [1, 3, 6],\n",
       "                         &#x27;weights&#x27;: [&#x27;distance&#x27;, &#x27;uniform&#x27;]},\n",
       "             scoring=&#x27;accuracy&#x27;)</pre><b>In a Jupyter environment, please rerun this cell to show the HTML representation or trust the notebook. <br />On GitHub, the HTML representation is unable to render, please try loading this page with nbviewer.org.</b></div><div class=\"sk-container\" hidden><div class=\"sk-item sk-dashed-wrapped\"><div class=\"sk-label-container\"><div class=\"sk-label sk-toggleable\"><input class=\"sk-toggleable__control sk-hidden--visually\" id=\"sk-estimator-id-1\" type=\"checkbox\" ><label for=\"sk-estimator-id-1\" class=\"sk-toggleable__label sk-toggleable__label-arrow\">GridSearchCV</label><div class=\"sk-toggleable__content\"><pre>GridSearchCV(estimator=KNeighborsClassifier(),\n",
       "             param_grid={&#x27;n_neighbors&#x27;: [1, 3, 6],\n",
       "                         &#x27;weights&#x27;: [&#x27;distance&#x27;, &#x27;uniform&#x27;]},\n",
       "             scoring=&#x27;accuracy&#x27;)</pre></div></div></div><div class=\"sk-parallel\"><div class=\"sk-parallel-item\"><div class=\"sk-item\"><div class=\"sk-label-container\"><div class=\"sk-label sk-toggleable\"><input class=\"sk-toggleable__control sk-hidden--visually\" id=\"sk-estimator-id-2\" type=\"checkbox\" ><label for=\"sk-estimator-id-2\" class=\"sk-toggleable__label sk-toggleable__label-arrow\">estimator: KNeighborsClassifier</label><div class=\"sk-toggleable__content\"><pre>KNeighborsClassifier()</pre></div></div></div><div class=\"sk-serial\"><div class=\"sk-item\"><div class=\"sk-estimator sk-toggleable\"><input class=\"sk-toggleable__control sk-hidden--visually\" id=\"sk-estimator-id-3\" type=\"checkbox\" ><label for=\"sk-estimator-id-3\" class=\"sk-toggleable__label sk-toggleable__label-arrow\">KNeighborsClassifier</label><div class=\"sk-toggleable__content\"><pre>KNeighborsClassifier()</pre></div></div></div></div></div></div></div></div></div></div>"
      ],
      "text/plain": [
       "GridSearchCV(estimator=KNeighborsClassifier(),\n",
       "             param_grid={'n_neighbors': [1, 3, 6],\n",
       "                         'weights': ['distance', 'uniform']},\n",
       "             scoring='accuracy')"
      ]
     },
     "execution_count": 11,
     "metadata": {},
     "output_type": "execute_result"
    }
   ],
   "source": [
    "grid_search.fit(X_train, y_train)"
   ]
  },
  {
   "cell_type": "code",
   "execution_count": 12,
   "id": "283e481d-0278-45be-b389-5b45ca9902f1",
   "metadata": {},
   "outputs": [],
   "source": [
    "y_pred = grid_search.predict(X_test)"
   ]
  },
  {
   "cell_type": "code",
   "execution_count": 13,
   "id": "3a58ace9-0427-40fb-bc83-ef03a5a845dd",
   "metadata": {},
   "outputs": [
    {
     "data": {
      "text/plain": [
       "0.9711428571428572"
      ]
     },
     "execution_count": 13,
     "metadata": {},
     "output_type": "execute_result"
    }
   ],
   "source": [
    "grid_search.best_score_"
   ]
  },
  {
   "cell_type": "markdown",
   "id": "9ff1d876-1131-4e7a-b256-ab065968bf8d",
   "metadata": {},
   "source": [
    "Write a function that can shift an MNIST image in any direction (left, right, up, or down) by 3 pixel. Then, for each image in the training set, create four shifted copies (one per direction) and add them to the training set. Finally, train your best model on this expanded training set and measure its accuracy on the test set. You should observe that your model performs even better now! This technique of\n",
    "artificially growing the training set is called data augmentation or training set expansion."
   ]
  },
  {
   "cell_type": "code",
   "execution_count": 14,
   "id": "2ace0ac5-2ac5-4ef3-b858-4e7ab62e2bee",
   "metadata": {
    "editable": true,
    "slideshow": {
     "slide_type": ""
    },
    "tags": []
   },
   "outputs": [],
   "source": [
    "from scipy.ndimage import shift\n",
    "import matplotlib.pyplot as plt\n",
    "import matplotlib as mpl\n",
    "import pandas as pd"
   ]
  },
  {
   "cell_type": "code",
   "execution_count": 15,
   "id": "ef709270-5f92-459c-a99c-d460ceba3470",
   "metadata": {},
   "outputs": [
    {
     "data": {
      "text/plain": [
       "(1, 784)"
      ]
     },
     "execution_count": 15,
     "metadata": {},
     "output_type": "execute_result"
    }
   ],
   "source": [
    "few_digit = X[12:13]\n",
    "few_digit = np.array(few_digit, dtype=np.uint16)\n",
    "some_digits_image = few_digit.reshape(28,28)\n",
    "few_digit.shape"
   ]
  },
  {
   "cell_type": "code",
   "execution_count": 16,
   "id": "c9c3d94d-9021-41de-857f-f25082a3902b",
   "metadata": {},
   "outputs": [
    {
     "data": {
      "image/png": "[encoded data removed]",
      "text/plain": [
       "<Figure size 640x480 with 1 Axes>"
      ]
     },
     "metadata": {},
     "output_type": "display_data"
    }
   ],
   "source": [
    "#Image shifted down by 3 pixel\n",
    "image_shifted_down = shift(some_digits_image, (3, 0))\n",
    "image_shifted_down_resharped = image_shifted_down.reshape(1, 784)\n",
    "\n",
    "\n",
    "plt.imshow(image_shifted_down, cmap=mpl.cm.binary, interpolation='antialiased') \n",
    "# Other form of interpolation to generate pixel are: 'nearest', 'bicubic', 'bilinear' \n",
    "# Check out the Documentation to understand more \n",
    "plt.axis('on')\n",
    "plt.show()"
   ]
  },
  {
   "cell_type": "code",
   "execution_count": 17,
   "id": "a2c9eed6-49e4-44ad-8d5d-cff523a7c4c0",
   "metadata": {},
   "outputs": [
    {
     "data": {
      "image/png": "[encoded data removed]",
      "text/plain": [
       "<Figure size 640x480 with 1 Axes>"
      ]
     },
     "metadata": {},
     "output_type": "display_data"
    }
   ],
   "source": [
    "# image shifted up by 3 pixel\n",
    "image_shifted_up = shift(some_digits_image, (-3, 0))\n",
    "image_shifted_up_resharped = image_shifted_up.reshape(1, 784)\n",
    "\n",
    "\n",
    "plt.imshow(image_shifted_up, cmap=mpl.cm.binary, interpolation='antialiased') \n",
    "# Other form of interpolation to generate pixel are: 'nearest', 'bicubic', 'bilinear' \n",
    "# Check out the Documentation to understand more \n",
    "plt.axis('on')\n",
    "plt.show()"
   ]
  },
  {
   "cell_type": "code",
   "execution_count": 18,
   "id": "9454f733-2da1-4c8a-ba4a-4ba7ac9c7796",
   "metadata": {},
   "outputs": [
    {
     "data": {
      "text/plain": [
       "<function matplotlib.pyplot.show(close=None, block=None)>"
      ]
     },
     "execution_count": 18,
     "metadata": {},
     "output_type": "execute_result"
    },
    {
     "data": {
      "image/png": "[encoded data removed]",
      "text/plain": [
       "<Figure size 640x480 with 1 Axes>"
      ]
     },
     "metadata": {},
     "output_type": "display_data"
    }
   ],
   "source": [
    "# image shifted to the right by 3 pixel\n",
    "image_shifted_right = shift(some_digits_image, (0, 3))\n",
    "image_shifted_right_resharped = image_shifted_right.reshape(1, 784)\n",
    "\n",
    "plt.imshow(image_shifted_right, cmap=mpl.cm.binary, interpolation=\"antialiased\")\n",
    "plt.axis()\n",
    "plt.show"
   ]
  },
  {
   "cell_type": "code",
   "execution_count": 19,
   "id": "0cb4d877-9083-4f50-8d20-8eb254a388a0",
   "metadata": {},
   "outputs": [
    {
     "data": {
      "text/plain": [
       "<function matplotlib.pyplot.show(close=None, block=None)>"
      ]
     },
     "execution_count": 19,
     "metadata": {},
     "output_type": "execute_result"
    },
    {
     "data": {
      "image/png": "[encoded data removed]",
      "text/plain": [
       "<Figure size 640x480 with 1 Axes>"
      ]
     },
     "metadata": {},
     "output_type": "display_data"
    }
   ],
   "source": [
    "# image shifted to the left by 3 pixel\n",
    "image_shifted_left = shift(some_digits_image, (0, -3))\n",
    "image_shifted_left_resharped = image_shifted_left.reshape(1, 784)\n",
    "\n",
    "plt.imshow(image_shifted_left, cmap=mpl.cm.binary, interpolation=\"antialiased\")\n",
    "plt.axis()\n",
    "plt.show"
   ]
  },
  {
   "cell_type": "code",
   "execution_count": 20,
   "id": "13a3fe58-3e5d-428b-b077-8787b08c50a3",
   "metadata": {},
   "outputs": [
    {
     "data": {
      "text/plain": [
       "(52504, 784)"
      ]
     },
     "execution_count": 20,
     "metadata": {},
     "output_type": "execute_result"
    }
   ],
   "source": [
    "X_new_array = np.concatenate([image_shifted_down_resharped, image_shifted_left_resharped, image_shifted_right_resharped,\n",
    "            image_shifted_up_resharped], axis=0)\n",
    "\n",
    "X_train_new = np.concatenate([X_train, X_new_array], axis=0)\n",
    "X_train_new.shape"
   ]
  },
  {
   "cell_type": "code",
   "execution_count": 21,
   "id": "cd3dc631-e0d2-4ea8-9602-c74659ea9ca0",
   "metadata": {},
   "outputs": [
    {
     "data": {
      "text/plain": [
       "(52504,)"
      ]
     },
     "execution_count": 21,
     "metadata": {},
     "output_type": "execute_result"
    }
   ],
   "source": [
    "y_few_digit = y[12:13]\n",
    "y_new_array = np.concatenate([y_few_digit, y_few_digit, y_few_digit,\n",
    "                             y_few_digit], axis=0)\n",
    "\n",
    "y_train_new = np.concatenate([y_train, y_new_array], axis=0)\n",
    "y_train_new.shape"
   ]
  },
  {
   "cell_type": "code",
   "execution_count": 22,
   "id": "5699a733-c0d3-4eed-9a79-2fea4235d034",
   "metadata": {},
   "outputs": [
    {
     "data": {
      "text/html": [
       "<style>#sk-container-id-2 {color: black;}#sk-container-id-2 pre{padding: 0;}#sk-container-id-2 div.sk-toggleable {background-color: white;}#sk-container-id-2 label.sk-toggleable__label {cursor: pointer;display: block;width: 100%;margin-bottom: 0;padding: 0.3em;box-sizing: border-box;text-align: center;}#sk-container-id-2 label.sk-toggleable__label-arrow:before {content: \"▸\";float: left;margin-right: 0.25em;color: #696969;}#sk-container-id-2 label.sk-toggleable__label-arrow:hover:before {color: black;}#sk-container-id-2 div.sk-estimator:hover label.sk-toggleable__label-arrow:before {color: black;}#sk-container-id-2 div.sk-toggleable__content {max-height: 0;max-width: 0;overflow: hidden;text-align: left;background-color: #f0f8ff;}#sk-container-id-2 div.sk-toggleable__content pre {margin: 0.2em;color: black;border-radius: 0.25em;background-color: #f0f8ff;}#sk-container-id-2 input.sk-toggleable__control:checked~div.sk-toggleable__content {max-height: 200px;max-width: 100%;overflow: auto;}#sk-container-id-2 input.sk-toggleable__control:checked~label.sk-toggleable__label-arrow:before {content: \"▾\";}#sk-container-id-2 div.sk-estimator input.sk-toggleable__control:checked~label.sk-toggleable__label {background-color: #d4ebff;}#sk-container-id-2 div.sk-label input.sk-toggleable__control:checked~label.sk-toggleable__label {background-color: #d4ebff;}#sk-container-id-2 input.sk-hidden--visually {border: 0;clip: rect(1px 1px 1px 1px);clip: rect(1px, 1px, 1px, 1px);height: 1px;margin: -1px;overflow: hidden;padding: 0;position: absolute;width: 1px;}#sk-container-id-2 div.sk-estimator {font-family: monospace;background-color: #f0f8ff;border: 1px dotted black;border-radius: 0.25em;box-sizing: border-box;margin-bottom: 0.5em;}#sk-container-id-2 div.sk-estimator:hover {background-color: #d4ebff;}#sk-container-id-2 div.sk-parallel-item::after {content: \"\";width: 100%;border-bottom: 1px solid gray;flex-grow: 1;}#sk-container-id-2 div.sk-label:hover label.sk-toggleable__label {background-color: #d4ebff;}#sk-container-id-2 div.sk-serial::before {content: \"\";position: absolute;border-left: 1px solid gray;box-sizing: border-box;top: 0;bottom: 0;left: 50%;z-index: 0;}#sk-container-id-2 div.sk-serial {display: flex;flex-direction: column;align-items: center;background-color: white;padding-right: 0.2em;padding-left: 0.2em;position: relative;}#sk-container-id-2 div.sk-item {position: relative;z-index: 1;}#sk-container-id-2 div.sk-parallel {display: flex;align-items: stretch;justify-content: center;background-color: white;position: relative;}#sk-container-id-2 div.sk-item::before, #sk-container-id-2 div.sk-parallel-item::before {content: \"\";position: absolute;border-left: 1px solid gray;box-sizing: border-box;top: 0;bottom: 0;left: 50%;z-index: -1;}#sk-container-id-2 div.sk-parallel-item {display: flex;flex-direction: column;z-index: 1;position: relative;background-color: white;}#sk-container-id-2 div.sk-parallel-item:first-child::after {align-self: flex-end;width: 50%;}#sk-container-id-2 div.sk-parallel-item:last-child::after {align-self: flex-start;width: 50%;}#sk-container-id-2 div.sk-parallel-item:only-child::after {width: 0;}#sk-container-id-2 div.sk-dashed-wrapped {border: 1px dashed gray;margin: 0 0.4em 0.5em 0.4em;box-sizing: border-box;padding-bottom: 0.4em;background-color: white;}#sk-container-id-2 div.sk-label label {font-family: monospace;font-weight: bold;display: inline-block;line-height: 1.2em;}#sk-container-id-2 div.sk-label-container {text-align: center;}#sk-container-id-2 div.sk-container {/* jupyter's `normalize.less` sets `[hidden] { display: none; }` but bootstrap.min.css set `[hidden] { display: none !important; }` so we also need the `!important` here to be able to override the default hidden behavior on the sphinx rendered scikit-learn.org. See: https://github.com/scikit-learn/scikit-learn/issues/21755 */display: inline-block !important;position: relative;}#sk-container-id-2 div.sk-text-repr-fallback {display: none;}</style><div id=\"sk-container-id-2\" class=\"sk-top-container\"><div class=\"sk-text-repr-fallback\"><pre>KNeighborsClassifier(n_neighbors=3, weights=&#x27;distance&#x27;)</pre><b>In a Jupyter environment, please rerun this cell to show the HTML representation or trust the notebook. <br />On GitHub, the HTML representation is unable to render, please try loading this page with nbviewer.org.</b></div><div class=\"sk-container\" hidden><div class=\"sk-item\"><div class=\"sk-estimator sk-toggleable\"><input class=\"sk-toggleable__control sk-hidden--visually\" id=\"sk-estimator-id-4\" type=\"checkbox\" checked><label for=\"sk-estimator-id-4\" class=\"sk-toggleable__label sk-toggleable__label-arrow\">KNeighborsClassifier</label><div class=\"sk-toggleable__content\"><pre>KNeighborsClassifier(n_neighbors=3, weights=&#x27;distance&#x27;)</pre></div></div></div></div></div>"
      ],
      "text/plain": [
       "KNeighborsClassifier(n_neighbors=3, weights='distance')"
      ]
     },
     "execution_count": 22,
     "metadata": {},
     "output_type": "execute_result"
    }
   ],
   "source": [
    "knn_new = KNeighborsClassifier(n_neighbors=3, weights='distance')\n",
    "\n",
    "knn_new.fit(X_train_new, y_train_new)"
   ]
  },
  {
   "cell_type": "code",
   "execution_count": 23,
   "id": "582e6611-f131-4f59-8370-abc1f3af2133",
   "metadata": {},
   "outputs": [
    {
     "name": "stderr",
     "output_type": "stream",
     "text": [
      "C:\\Python311\\Lib\\site-packages\\sklearn\\base.py:458: UserWarning: X has feature names, but KNeighborsClassifier was fitted without feature names\n",
      "  warnings.warn(\n"
     ]
    },
    {
     "data": {
      "text/plain": [
       "0.9726285714285714"
      ]
     },
     "execution_count": 23,
     "metadata": {},
     "output_type": "execute_result"
    }
   ],
   "source": [
    "knn_new.score(X_test, y_test)"
   ]
  },
  {
   "cell_type": "markdown",
   "id": "ac5e6045-1c70-4033-8006-e1087a77b51a",
   "metadata": {},
   "source": [
    "## Build a spam classifier (a more challenging exercise):\n",
    "• Download examples of spam and ham from Apache SpamAssassin’s public\n",
    "datasets.\n",
    "• Unzip the datasets and familiarize yourself with the data format.\n",
    "• Split the datasets into a training set and a test set.\n",
    "• Write a data preparation pipeline to convert each email into a feature vector.\n",
    "Your preparation pipeline should transform an email into a (sparse) vector\n",
    "indicating the presence or absence of each possible word. For example, if all\n",
    "emails only ever contain four words, “Hello,” “how,” “are,” “you,” then the email\n",
    "“Hello you Hello Hello you” would be converted into a vector [1, 0, 0, 1]\n",
    "(meaning [“Hello” is present, “how” is absent, “are” is absent, “you” is\n",
    "present]), or [3, 0, 0, 2] if you prefer to count the number of occurrences of\n",
    "each word.\n",
    "• You may want to add hyperparameters to your preparation pipeline to control\n",
    "whether or not to strip off email headers, convert each email to lowercase,\n",
    "remove punctuation, replace all URLs with “URL,” replace all numbers with\n",
    "“NUMBER,” or even perform stemming (i.e., trim off word endings; there are\n",
    "Python libraries available to do this).\n",
    "• Then try out several classifiers and see if you can build a great spam classifier,\n",
    "with both high recall and high precision."
   ]
  },
  {
   "cell_type": "code",
   "execution_count": 5,
   "id": "422c2972-9e5a-44b7-949b-6f645533f160",
   "metadata": {},
   "outputs": [],
   "source": [
    "import os\n",
    "import tarfile\n",
    "import urllib.request\n",
    "import shutil\n",
    "import email\n",
    "import email.policy\n",
    "import numpy as np\n",
    "from sklearn.model_selection import train_test_split"
   ]
  },
  {
   "cell_type": "code",
   "execution_count": 15,
   "id": "c043f650-8cf0-498a-bfd8-098ca6da9cfa",
   "metadata": {},
   "outputs": [
    {
     "name": "stdout",
     "output_type": "stream",
     "text": [
      "20030228_hard_ham.tar.bz2 already exists.\n",
      "Extracting 20030228_hard_ham.tar.bz2...\n",
      "Extracted 20030228_hard_ham.tar.bz2\n",
      "20030228_spam.tar.bz2 already exists.\n",
      "Extracting 20030228_spam.tar.bz2...\n",
      "Extracted 20030228_spam.tar.bz2\n",
      "Extracted files: ['.ipynb_checkpoints', '20030228_hard_ham.tar.bz2', '20030228_spam.tar.bz2', 'easy_ham', 'ham', 'hard_ham', 'spam']\n"
     ]
    }
   ],
   "source": [
    "# Base URL for the files\n",
    "DOWNLOAD_ROOT = \"http://spamassassin.apache.org/old/publiccorpus/\"\n",
    "\n",
    "# Specific URLs for the HAM and SPAM datasets\n",
    "HAM_URLS = {\n",
    "    \"easy_ham\": DOWNLOAD_ROOT + \"20030228_easy_ham.tar.bz2\",\n",
    "    \"hard_ham\": DOWNLOAD_ROOT + \"20030228_hard_ham.tar.bz2\"\n",
    "}\n",
    "SPAM_URL = DOWNLOAD_ROOT + \"20030228_spam.tar.bz2\"\n",
    "\n",
    "# Path where the datasets will be stored\n",
    "SPAM_PATH = os.path.join(\"datasets\", \"spam\")\n",
    "\n",
    "def fetch_spam_data(ham_url=HAM_URLS, spam_url=SPAM_URL, spam_path=SPAM_PATH):\n",
    "    # Check if the spam_path directory exists, if not, create it\n",
    "    if not os.path.isdir(spam_path):\n",
    "        os.makedirs(spam_path)\n",
    "    \n",
    "    # List of files to download\n",
    "    files_to_download = [(\"20030228_hard_ham.tar.bz2\", ham_url), (\"20030228_spam.tar.bz2\", spam_url)]\n",
    "    \n",
    "    # Download and extract each file\n",
    "    for filename, url in files_to_download:\n",
    "        file_path = os.path.join(spam_path, filename)\n",
    "        \n",
    "        # Download the file if it doesn't exist\n",
    "        if not os.path.isfile(file_path):\n",
    "            print(f\"Downloading {filename}...\")\n",
    "            urllib.request.urlretrieve(url, file_path)\n",
    "            print(f\"Downloaded {filename}\")\n",
    "        else:\n",
    "            print(f\"{filename} already exists.\")\n",
    "        \n",
    "        # Extract the file if it's a .tar.bz2\n",
    "        if tarfile.is_tarfile(file_path):\n",
    "            print(f\"Extracting {filename}...\")\n",
    "            with tarfile.open(file_path, 'r:bz2') as tar:\n",
    "                tar.extractall(path=spam_path)\n",
    "            print(f\"Extracted {filename}\")\n",
    "        else:\n",
    "            print(f\"{file_path} is not a valid tar file.\")\n",
    "\n",
    "# Call the function to download and extract the datasets\n",
    "fetch_spam_data()\n",
    "\n",
    "# Verify the contents of the SPAM_PATH directory\n",
    "extracted_files = os.listdir(SPAM_PATH)\n",
    "print(\"Extracted files:\", extracted_files)"
   ]
  },
  {
   "cell_type": "code",
   "execution_count": 25,
   "id": "d6959603-591b-47c3-9f56-aa1b7dde8df5",
   "metadata": {},
   "outputs": [],
   "source": [
    "# Define paths for easy_ham, hard_ham, and the combined ham directory\n",
    "EASY_HAM_DIR = os.path.join(SPAM_PATH, 'easy_ham')\n",
    "HARD_HAM_DIR = os.path.join(SPAM_PATH, 'hard_ham')\n",
    "COMBINED_HAM_DIR = os.path.join(SPAM_PATH, 'ham')\n",
    "SPAM_DIR = os.path.join(SPAM_PATH, 'spam')\n",
    "# Ensure the combined ham directory exists\n",
    "if not os.path.isdir(COMBINED_HAM_DIR):\n",
    "    os.makedirs(COMBINED_HAM_DIR)"
   ]
  },
  {
   "cell_type": "code",
   "execution_count": 26,
   "id": "7e585bbe-404a-4f18-a354-9b763935d56f",
   "metadata": {},
   "outputs": [],
   "source": [
    "# Function to merge two directories\n",
    "def merge_folders(src_dir, dst_dir):\n",
    "    for item in os.listdir(src_dir):\n",
    "        src_path = os.path.join(src_dir, item)\n",
    "        dst_path = os.path.join(dst_dir, item)\n",
    "        \n",
    "        if os.path.isdir(src_path):\n",
    "            if not os.path.exists(dst_path):\n",
    "                os.makedirs(dst_path)\n",
    "            merge_folders(src_path, dst_path)\n",
    "        else:\n",
    "            shutil.move(src_path, dst_path)\n"
   ]
  },
  {
   "cell_type": "code",
   "execution_count": 27,
   "id": "5c0266ba-6048-40a5-866a-ab03bd4afc2e",
   "metadata": {},
   "outputs": [
    {
     "name": "stdout",
     "output_type": "stream",
     "text": [
      "Combined ham files: ['00001.7c53336b37003a9286aba55d2945844c', '00001.7c7d6921e671bbe18ebb5f893cd9bb35']\n"
     ]
    }
   ],
   "source": [
    "# Merge easy_ham and hard_ham into the combined ham directory\n",
    "merge_folders(EASY_HAM_DIR, COMBINED_HAM_DIR)\n",
    "merge_folders(HARD_HAM_DIR, COMBINED_HAM_DIR)\n",
    "\n",
    "# Print the contents of the combined ham directory\n",
    "combined_files = os.listdir(COMBINED_HAM_DIR)\n",
    "print(\"Combined ham files:\", combined_files[1:3])"
   ]
  },
  {
   "cell_type": "code",
   "execution_count": 28,
   "id": "94ba44b3-ada0-45e5-888a-6e15fb94a3b3",
   "metadata": {},
   "outputs": [],
   "source": [
    "def load_email(is_spam, filename, spam_path=SPAM_PATH):\n",
    "    if is_spam:\n",
    "        directory = \"spam\"\n",
    "    else:\n",
    "        directory = \"ham\"\n",
    "    \n",
    "    with open(os.path.join(spam_path, directory, filename), \"rb\") as f:\n",
    "        return BytesParser(policy=policy.default).parse(f)"
   ]
  },
  {
   "cell_type": "code",
   "execution_count": 35,
   "id": "88f82fbe-4791-4d40-a8b9-cc82a4893dc9",
   "metadata": {},
   "outputs": [
    {
     "data": {
      "text/plain": [
       "(2750, 1000)"
      ]
     },
     "execution_count": 35,
     "metadata": {},
     "output_type": "execute_result"
    }
   ],
   "source": [
    "ham_filenames = [name for name in sorted(os.listdir(COMBINED_HAM_DIR)) if len(name) > 20]\n",
    "spam_filenames = [name for name in sorted(os.listdir(SPAM_DIR)) if len(name) > 20]\n",
    "len(ham_filenames), len(spam_filenames)"
   ]
  },
  {
   "cell_type": "code",
   "execution_count": 36,
   "id": "9ae31ea2-7eb7-48f5-918a-808f37c5152d",
   "metadata": {},
   "outputs": [],
   "source": [
    "def load_email(is_spam, filename, spam_path=SPAM_PATH):\n",
    "    if is_spam:\n",
    "        directory = \"spam\"\n",
    "    else:\n",
    "        directory = \"ham\"\n",
    "    \n",
    "    with open(os.path.join(spam_path, directory, filename), \"rb\") as f:\n",
    "        return email.parser.BytesParser(policy=email.policy.default).parse(f)"
   ]
  },
  {
   "cell_type": "code",
   "execution_count": 37,
   "id": "da68eba8-89b1-4a6c-98ae-44e1368597b6",
   "metadata": {},
   "outputs": [],
   "source": [
    "ham_emails = [load_email(is_spam=False, filename=name) for name in ham_filenames]\n",
    "spam_emails = [load_email(is_spam=True, filename=name) for name in spam_filenames]"
   ]
  },
  {
   "cell_type": "code",
   "execution_count": 39,
   "id": "249a4755-5922-44b4-86b7-e82e6c67ed92",
   "metadata": {},
   "outputs": [
    {
     "name": "stdout",
     "output_type": "stream",
     "text": [
      "Hi,\n",
      "\n",
      "I think you need to give us a little more detailed information.\n",
      "\n",
      "On Wed, 04 Dec 2002, Gianni Ponzi wrote:\n",
      "\n",
      "> I have a prob when trying to install Linux (tried RedHat, Suse) on my\n",
      "> laptop. \n",
      "\n",
      "You get _exactly_ the same problem with Suse and RedHat, is that right?\n",
      "What versions of these have you used?\n",
      "\n",
      "> I can start the install but after about 2min, the whole pc just\n",
      "> dies.\n",
      "\n",
      "As in freezes, reboots?  Do you get any errors?\n",
      "\n",
      "> I know it's not a Linux prob and here is what I have encountered:\n",
      "> \n",
      "> I had the same problem when installing Win on it and eventually sorted it\n",
      "> out by disabling the infrared port. \n",
      "\n",
      "Did you disable it in the BIOS or in windows?\n",
      "\n",
      "> I'm guessing this might be same prob although I'm not sure. I am very new\n",
      "> to Linux so it's not that easy for me to work it out. I did manage to\n",
      "> follow the setup procedure at one stage (using images on disks) and it\n",
      "> cuts out either as it's trying to verify what CD-Rom I have or just after\n",
      "> (hence my suspicion of the infrared port again).\n",
      "\n",
      "1. What laptop is it?  What is the Processor and how much RAM does it have?\n",
      "\n",
      "2. You cannot simply boot off the cdrom?  It must be quite an old laptop\n",
      "then or else cdrom booting is disabled in the BIOS.  Is the cdrom external\n",
      "or strange in some way?\n",
      "\n",
      "Gavin\n",
      "\n",
      "-- \n",
      "Irish Linux Users' Group: ilug@linux.ie\n",
      "http://www.linux.ie/mailman/listinfo/ilug for (un)subscription information.\n",
      "List maintainer: listmaster@linux.ie\n"
     ]
    }
   ],
   "source": [
    "print(ham_emails[-1].get_content().strip())"
   ]
  },
  {
   "cell_type": "code",
   "execution_count": 40,
   "id": "09ade09f-7b31-40df-b629-5834ac951d6f",
   "metadata": {},
   "outputs": [
    {
     "name": "stdout",
     "output_type": "stream",
     "text": [
      "##################################################\n",
      "#                                                #\n",
      "#                 Adult Club                     #\n",
      "#           Offers FREE Membership               #\n",
      "#                                                #\n",
      "##################################################\n",
      "\n",
      ">>>>>  INSTANT ACCESS TO ALL SITES NOW\n",
      ">>>>>  Your User Name And Password is.\n",
      ">>>>>  User Name: zzzz@spamassassin.taint.org\n",
      ">>>>>  Password: 760382\n",
      "\n",
      "5 of the Best Adult Sites on the Internet for FREE!\n",
      "---------------------------------------\n",
      "NEWS 08/18/02\n",
      "With just over 2.9 Million Members that signed up for FREE, Last month there were 721,184 New\n",
      "Members. Are you one of them yet???\n",
      "---------------------------------------\n",
      "Our Membership FAQ\n",
      "\n",
      "Q. Why are you offering free access to 5 adult membership sites for free?\n",
      "A. I have advertisers that pay me for ad space so you don't have to pay for membership.\n",
      "\n",
      "Q. Is it true my membership is for life?\n",
      "A. Absolutely you'll never have to pay a cent the advertisers do.\n",
      "\n",
      "Q. Can I give my account to my friends and family?\n",
      "A. Yes, as long they are over the age of 18.\n",
      "\n",
      "Q. Do I have to sign up for all 5 membership sites?\n",
      "A. No just one to get access to all of them.\n",
      "\n",
      "Q. How do I get started?\n",
      "A. Click on one of the following links below to become a member.\n",
      "\n",
      "- These are multi million dollar operations with policies and rules.\n",
      "- Fill in the required info and they won't charge you for the Free pass!\n",
      "- If you don't believe us, just read their terms and conditions.\n",
      "\n",
      "---------------------------\n",
      "\n",
      "# 5. > Adults Farm\n",
      "http://80.71.66.8/farm/?aid=760382\n",
      "Girls and Animals Getting Freaky....FREE Lifetime Membership!!\n",
      "\n",
      "# 4. > Sexy Celebes\n",
      "http://80.71.66.8/celebst/?aid=760382\n",
      "Thousands Of XXX Celebes doing it...FREE Lifetime Membership!!\n",
      "\n",
      "# 3. > Play House Porn\n",
      "http://80.71.66.8/mega/?aid=760382\n",
      "Live Feeds From 60 Sites And Web Cams...FREE Lifetime Membership!!\n",
      "\n",
      "# 2. > Asian Sex Fantasies\n",
      "http://80.71.66.8/asian/?aid=760382\n",
      "Japanese Schoolgirls, Live Sex Shows ...FREE Lifetime Membership!!\n",
      "\n",
      "# 1. > Lesbian Lace\n",
      "http://80.71.66.8/lesbian/?aid=760382\n",
      "Girls and Girls Getting Freaky! ...FREE Lifetime Membership!!\n",
      "\n",
      "--------------------------\n",
      "\n",
      "Jennifer Simpson, Miami, FL\n",
      "Your FREE lifetime membership has entertained my boyffriend and I for\n",
      "the last two years!  Your Adult Sites are the best on the net!\n",
      "\n",
      "Joe Morgan Manhattan, NY\n",
      "Your live sex shows and live sex cams are unbelievable. The best part\n",
      "about your porn sites, is that they're absolutely FREE!\n",
      "\n",
      "--------------------------\n",
      "\n",
      "\n",
      "\n",
      "\n",
      "\n",
      "\n",
      "\n",
      "\n",
      "\n",
      "Removal Instructions:\n",
      "\n",
      "You have received this advertisement because you have opted in to receive free adult internet\n",
      "offers and specials through our affiliated websites. If you do not wish to receive further emails\n",
      "or have received the email in error you may opt-out of our database here\n",
      "http://80.71.66.8/optout/ . Please allow 24 hours for removal.\n",
      "\n",
      "vonolmosatkirekpups\n"
     ]
    }
   ],
   "source": [
    "print(spam_emails[6].get_content().strip())"
   ]
  },
  {
   "cell_type": "code",
   "execution_count": 41,
   "id": "580f2ed2-eaf3-4207-bbce-acc4263c2600",
   "metadata": {},
   "outputs": [],
   "source": [
    "def get_email_structure(email):\n",
    "    if isinstance(email, str):\n",
    "        return email\n",
    "    payload = email.get_payload()\n",
    "    if isinstance(payload, list):\n",
    "        return \"multipart({})\".format(\", \".join([\n",
    "            get_email_structure(sub_email)\n",
    "            for sub_email in payload\n",
    "        ]))\n",
    "    else:\n",
    "        return email.get_content_type()"
   ]
  },
  {
   "cell_type": "code",
   "execution_count": 42,
   "id": "efbd8a56-d6c6-425f-b205-d9ebbf1a1074",
   "metadata": {},
   "outputs": [],
   "source": [
    "from collections import Counter\n",
    "\n",
    "def structures_counter(emails):\n",
    "    structures = Counter()\n",
    "    for email in emails:\n",
    "        structure = get_email_structure(email)\n",
    "        structures[structure] += 1\n",
    "    return structures"
   ]
  },
  {
   "cell_type": "code",
   "execution_count": 43,
   "id": "cd726a00-173b-4b7f-a0c2-2d961fef35ae",
   "metadata": {},
   "outputs": [
    {
     "data": {
      "text/plain": [
       "[('text/plain', 2489),\n",
       " ('text/html', 118),\n",
       " ('multipart(text/plain, application/pgp-signature)', 66),\n",
       " ('multipart(text/plain, text/html)', 51),\n",
       " ('multipart(text/plain, text/plain)', 5),\n",
       " ('multipart(text/plain)', 3),\n",
       " ('multipart(text/plain, application/x-pkcs7-signature)', 2),\n",
       " ('multipart(text/html)', 2),\n",
       " ('multipart(text/plain, application/octet-stream)', 2),\n",
       " ('multipart(text/plain, image/bmp)', 1),\n",
       " ('multipart(text/plain, text/enriched)', 1),\n",
       " ('multipart(text/plain, application/ms-tnef, text/plain)', 1),\n",
       " ('multipart(multipart(text/plain, text/html))', 1),\n",
       " ('multipart(text/plain, image/png, image/png)', 1),\n",
       " ('multipart(multipart(text/plain, text/html), image/gif, image/gif, image/gif, image/gif, image/gif, image/gif, image/gif, image/gif, image/gif, image/gif, image/gif, image/jpeg, image/gif, image/gif, image/gif, image/gif, image/gif, image/gif)',\n",
       "  1),\n",
       " ('multipart(multipart(text/plain, text/plain, text/plain), application/pgp-signature)',\n",
       "  1),\n",
       " ('multipart(text/plain, video/mng)', 1),\n",
       " ('multipart(text/plain, multipart(text/plain))', 1),\n",
       " ('multipart(text/plain, multipart(text/plain, text/plain), text/rfc822-headers)',\n",
       "  1),\n",
       " ('multipart(text/plain, multipart(text/plain, text/plain), multipart(multipart(text/plain, application/x-pkcs7-signature)))',\n",
       "  1),\n",
       " ('multipart(text/plain, application/x-java-applet)', 1)]"
      ]
     },
     "execution_count": 43,
     "metadata": {},
     "output_type": "execute_result"
    }
   ],
   "source": [
    "structures_counter(ham_emails).most_common()"
   ]
  },
  {
   "cell_type": "code",
   "execution_count": 44,
   "id": "c1a57ee4-cee8-4418-ade0-a43dcc01fd16",
   "metadata": {},
   "outputs": [
    {
     "data": {
      "text/plain": [
       "[('text/plain', 436),\n",
       " ('text/html', 366),\n",
       " ('multipart(text/plain, text/html)', 90),\n",
       " ('multipart(text/html)', 40),\n",
       " ('multipart(text/plain)', 38),\n",
       " ('multipart(multipart(text/html))', 10),\n",
       " ('multipart(text/plain, image/jpeg)', 6),\n",
       " ('multipart(text/html, application/octet-stream)', 4),\n",
       " ('multipart(text/plain, application/octet-stream)', 2),\n",
       " ('multipart(text/html, text/plain)', 2),\n",
       " ('multipart(multipart(text/html), application/octet-stream, image/jpeg)', 2),\n",
       " ('multipart(multipart(text/plain, text/html), image/gif)', 2),\n",
       " ('multipart/alternative', 2)]"
      ]
     },
     "execution_count": 44,
     "metadata": {},
     "output_type": "execute_result"
    }
   ],
   "source": [
    "structures_counter(spam_emails).most_common()"
   ]
  },
  {
   "cell_type": "code",
   "execution_count": 45,
   "id": "f977db74-0ea6-4a76-8d89-f90473fdec67",
   "metadata": {},
   "outputs": [
    {
     "name": "stdout",
     "output_type": "stream",
     "text": [
      "Received : from timhunt.net (ns1.timhunt.net [216.27.147.130])\tby dogma.slashnull.org (8.11.6/8.11.6) with ESMTP id g6J7SBJ02605\tfor <tim_timhunt_net@spamtraps.taint.org>; Fri, 19 Jul 2002 08:28:11 +0100\n",
      "Received : from www ([209.197.199.5])\tby timhunt.net (8.11.3/8.11.1) with ESMTP id g6J7S9S17606;\tFri, 19 Jul 2002 03:28:09 -0400 (EDT)\t(envelope-from John@ABigClick.zzn.com)\n",
      "Date : Fri, 19 Jul 2002 03:28:09 -0400\n",
      "Message-Id : <200207190806.g6J86er20831@www>\n",
      "Errors : John@ABigClick.zzn.com\n",
      "From : Reports You Need To Make Cash! <John@ABigClick.zzn.com>\n",
      "To : Reports You Need To Make Cash! <jjbaxter2453@aol.com>\n",
      "Subject : Re: Your bank account\n",
      "MIME-Version : 1.0\n",
      "Content-Type : text/html; charset=\"us-ascii\"\n",
      "Content-Transfer-Encoding : 7bit\n",
      "Content-Disposition : inline; filename=\"filename.html\"\n"
     ]
    }
   ],
   "source": [
    "for header, value in spam_emails[70].items():\n",
    "    print(header,\":\",value)"
   ]
  },
  {
   "cell_type": "code",
   "execution_count": 46,
   "id": "e703ec63-0c4e-4e82-89c9-b47a2e44bd7f",
   "metadata": {},
   "outputs": [
    {
     "data": {
      "text/plain": [
       "'text/html; charset=\"us-ascii\"'"
      ]
     },
     "execution_count": 46,
     "metadata": {},
     "output_type": "execute_result"
    }
   ],
   "source": [
    "spam_emails[70][\"Content-Type\"]"
   ]
  },
  {
   "cell_type": "code",
   "execution_count": 47,
   "id": "ca3f8e70-b4c6-4aa3-b8c1-19f5bc15188e",
   "metadata": {},
   "outputs": [],
   "source": [
    "X = np.array(ham_emails + spam_emails, dtype=object)\n",
    "y = np.array([0] * len(ham_emails) + [1] * len(spam_emails))\n",
    "\n",
    "X_train, X_test, y_train, y_test = train_test_split(X, y, test_size=0.1, random_state=42, shuffle=True)"
   ]
  },
  {
   "cell_type": "code",
   "execution_count": 48,
   "id": "0d80a540-6d77-457c-b09d-fc3c2b252a97",
   "metadata": {},
   "outputs": [],
   "source": [
    "import re\n",
    "from html import unescape"
   ]
  },
  {
   "cell_type": "code",
   "execution_count": 49,
   "id": "f357def4-2022-4738-b7b0-8b7feb1b702d",
   "metadata": {},
   "outputs": [],
   "source": [
    "def html_to_plain_text(html):\n",
    "    text = re.sub('<head.*?>.*?</head>', '', html, flags=re.M | re.S | re.I)\n",
    "    text = re.sub('<a\\s.*?>', ' HYPERLINK ', text, flags=re.M | re.S | re.I)\n",
    "    text = re.sub('<.*?>', '', text, flags=re.M | re.S)\n",
    "    text = re.sub(r'(\\s*\\n)+', '\\n', text, flags=re.M | re.S)\n",
    "    return unescape(text)"
   ]
  },
  {
   "cell_type": "code",
   "execution_count": 50,
   "id": "0673b61d-d0ee-4db8-b152-bb6ab37932a4",
   "metadata": {},
   "outputs": [
    {
     "name": "stdout",
     "output_type": "stream",
     "text": [
      "<!DOCTYPE HTML PUBLIC \"-//W3C//DTD HTML 4.0 Transitional//EN\">\n",
      "<HTML><HEAD><TITLE>Beautiful,Custom Websites for $399 Complete!</TITLE>\n",
      "<STYLE></STYLE>\n",
      "</head>\n",
      "<BODY text=#000000 vLink=#000080 aLink=#000080 link=#000080 bgColor=#000080 \n",
      "topMargin=7>\n",
      "<CENTER>\n",
      "<TABLE borderColor=#000000 height=368 cellSpacing=0 cellPadding=3 width=575 \n",
      "bgColor=#79a5ff border=1>\n",
      "  <TBODY>\n",
      "  <TR>\n",
      "    <TD width=565 bgColor=#000000 height=22>\n",
      "      <P align=center><FONT face=Arial color=#ffffff><B>Beautiful, 100% Custom \n",
      "      Websites, $399 Complete!</B></FONT></P></TD></TR>\n",
      "  <TR>\n",
      "    <TD vAlign=top width=565 height=318>\n",
      "      <DIV align=center>\n",
      "      <TABLE style=\"WIDTH: 555px\" height=341 cellSpacing=0 cellPadding=0 \n",
      "      width=\"60%\" border=0>\n",
      "        <TBODY>\n",
      "        <TR>\n",
      "          <TD width=\"100%\" height=366>\n",
      "            <DIV align=center>\n",
      "            <TABLE borderColor=#000000 height=5 cellSpacing=0 cellPadding=5 \n",
      "            width=554 bgColor=#ffffff border=1>\n",
      "              <TBODY>\n",
      "              <TR>\n",
      "  ...\n"
     ]
    }
   ],
   "source": [
    "html_spam_emails = [email for email in X_train[y_train==1]\n",
    "                    if get_email_structure(email) == \"text/html\"]\n",
    "sample_html_spam = html_spam_emails[7]\n",
    "print(sample_html_spam.get_content().strip()[:1000], \"...\")"
   ]
  },
  {
   "cell_type": "code",
   "execution_count": 51,
   "id": "d5f1230e-f5ec-486c-9e3d-e6f97bee0313",
   "metadata": {},
   "outputs": [
    {
     "name": "stdout",
     "output_type": "stream",
     "text": [
      "\n",
      "      Beautiful, 100% Custom\n",
      "      Websites, $399 Complete!\n",
      "                        Get a beautiful, 100% Custom Web Site (or\n",
      "                        yours redesigned) for only\n",
      "                        $389!*We have references coast to\n",
      "                        coast and will give you plenty of sites to\n",
      "                        view!\n",
      "                  Includes up to\n",
      "                  7 pages (you can add more), java rollover buttons, feedback\n",
      "                  forms, more. It will be constructed to your taste and\n",
      "                  specifications. We do not use templates,  our sites\n",
      "                  are completely custom.    *Must host with us @\n",
      "                  $19.95/mo (100 Megs, 20 Email accounts, Control Panel, Front\n",
      "                  Page, Graphical Statistics,\n",
      "                  more). \n",
      "                  For sites to\n",
      "                  view, complete below or call our message center at\n",
      "                  321-726-2209 (24 hours). Your call will be returned\n",
      "                  promptly.N ...\n"
     ]
    }
   ],
   "source": [
    "print(html_to_plain_text(sample_html_spam.get_content())[:1000], \"...\")"
   ]
  },
  {
   "cell_type": "code",
   "execution_count": 52,
   "id": "217d80a7-67a2-428e-b3c1-1eb48c2382a4",
   "metadata": {},
   "outputs": [],
   "source": [
    "def email_to_text(email):\n",
    "    html = None\n",
    "    for part in email.walk():\n",
    "        ctype = part.get_content_type()\n",
    "        if not ctype in (\"text/plain\", \"text/html\"):\n",
    "            continue\n",
    "        try:\n",
    "            content = part.get_content()\n",
    "        except: # in case of encoding issues\n",
    "            content = str(part.get_payload())\n",
    "        if ctype == \"text/plain\":\n",
    "            return content\n",
    "        else:\n",
    "            html = content\n",
    "    if html:\n",
    "        return html_to_plain_text(html)"
   ]
  },
  {
   "cell_type": "code",
   "execution_count": 53,
   "id": "d9b55e3a-e3fe-461a-833f-8fc276ff5aa3",
   "metadata": {},
   "outputs": [
    {
     "name": "stdout",
     "output_type": "stream",
     "text": [
      "\n",
      "      Beautiful, 100% Custom\n",
      "      Websites, $399 Complete!\n",
      "                        Get a beautiful, 100% Custom Web Site (or\n",
      "                        yours redesigned) for only\n",
      "                        $389!*We have references coast to\n",
      "                        coast and will give you plenty of sites to\n",
      "                        view!\n",
      "                  Includes up to\n",
      "                  7 pages (you can add more), java rollover buttons, feedback\n",
      "                  forms, more. It will be constructed to your taste and\n",
      "                  specifications. We do not use templates,  our sites\n",
      "                  are completely custom.    *Must host with us @\n",
      "                  $19.95/mo (100 Megs, 20 Email accounts, Control Panel, Front\n",
      "                  Page, Graphical Statistics,\n",
      "                  more). \n",
      "                  For sites to\n",
      "                  view, complete below or call our message center at\n",
      "                  321-726-2209 (24 hours). Your call will be returned\n",
      "                  promptly.N ...\n"
     ]
    }
   ],
   "source": [
    "print(email_to_text(sample_html_spam)[:1000], \"...\")"
   ]
  },
  {
   "cell_type": "code",
   "execution_count": 54,
   "id": "5b1bd160-5c33-48ec-88e9-519493d82ae7",
   "metadata": {},
   "outputs": [
    {
     "name": "stdout",
     "output_type": "stream",
     "text": [
      "Looking in indexes: https://pypi.org/simple, https://pypi.ngc.nvidia.com\n",
      "Requirement already satisfied: nltk in c:\\python311\\lib\\site-packages (3.8.1)\n",
      "Requirement already satisfied: urlextract in c:\\users\\hp\\appdata\\roaming\\python\\python311\\site-packages (1.9.0)\n",
      "Requirement already satisfied: click in c:\\python311\\lib\\site-packages (from nltk) (8.1.7)\n",
      "Requirement already satisfied: joblib in c:\\python311\\lib\\site-packages (from nltk) (1.3.2)\n",
      "Requirement already satisfied: regex>=2021.8.3 in c:\\python311\\lib\\site-packages (from nltk) (2024.5.15)\n",
      "Requirement already satisfied: tqdm in c:\\python311\\lib\\site-packages (from nltk) (4.66.4)\n",
      "Requirement already satisfied: idna in c:\\python311\\lib\\site-packages (from urlextract) (3.4)\n",
      "Requirement already satisfied: uritools in c:\\users\\hp\\appdata\\roaming\\python\\python311\\site-packages (from urlextract) (4.0.3)\n",
      "Requirement already satisfied: platformdirs in c:\\users\\hp\\appdata\\roaming\\python\\python311\\site-packages (from urlextract) (3.9.1)\n",
      "Requirement already satisfied: filelock in c:\\python311\\lib\\site-packages (from urlextract) (3.14.0)\n",
      "Requirement already satisfied: colorama in c:\\python311\\lib\\site-packages (from click->nltk) (0.4.6)\n",
      "Note: you may need to restart the kernel to use updated packages.\n"
     ]
    }
   ],
   "source": [
    "%pip install nltk urlextract --user"
   ]
  },
  {
   "cell_type": "code",
   "execution_count": 55,
   "id": "a2a6d5e0-2eec-43cb-9838-946e50b57bb7",
   "metadata": {},
   "outputs": [
    {
     "name": "stdout",
     "output_type": "stream",
     "text": [
      "Computations => comput\n",
      "Computation => comput\n",
      "Computing => comput\n",
      "Computed => comput\n",
      "Compute => comput\n",
      "Compulsive => compuls\n",
      "Peace => peac\n"
     ]
    }
   ],
   "source": [
    "try:\n",
    "    import nltk\n",
    "\n",
    "    stemmer = nltk.PorterStemmer()\n",
    "    for word in (\"Computations\", \"Computation\", \"Computing\", \"Computed\", \"Compute\", \"Compulsive\", \"Peace\"):\n",
    "        print(word, \"=>\", stemmer.stem(word))\n",
    "except ImportError:\n",
    "    print(\"Error: stemming requires the NLTK module.\")\n",
    "    stemmer = None"
   ]
  },
  {
   "cell_type": "code",
   "execution_count": 56,
   "id": "08b538ac-6081-40e7-a3fc-1eea8d35a642",
   "metadata": {},
   "outputs": [
    {
     "name": "stdout",
     "output_type": "stream",
     "text": [
      "['github.com', 'https://youtu.be/7Pq-S557XQU?t=3m32s']\n"
     ]
    }
   ],
   "source": [
    "try:\n",
    "    import urlextract # may require an Internet connection to download root domain names\n",
    "    \n",
    "    url_extractor = urlextract.URLExtract()\n",
    "    print(url_extractor.find_urls(\"Will it detect github.com and https://youtu.be/7Pq-S557XQU?t=3m32s\"))\n",
    "except ImportError:\n",
    "    print(\"Error: replacing URLs requires the urlextract module.\")\n",
    "    url_extractor = None"
   ]
  },
  {
   "cell_type": "code",
   "execution_count": 57,
   "id": "aa2b9a62-8ba7-4ae0-811a-3ec17b1a5edf",
   "metadata": {},
   "outputs": [],
   "source": [
    "from sklearn.base import BaseEstimator, TransformerMixin"
   ]
  },
  {
   "cell_type": "code",
   "execution_count": 58,
   "id": "b20ed5fc-d14b-480d-8523-ace0edecf68d",
   "metadata": {},
   "outputs": [],
   "source": [
    "class EmailToWordCounterTransformer(BaseEstimator, TransformerMixin):\n",
    "    def __init__(self, strip_headers=True, lower_case=True, remove_punctuation=True,\n",
    "                 replace_urls=True, replace_numbers=True, stemming=True):\n",
    "        self.strip_headers = strip_headers\n",
    "        self.lower_case = lower_case\n",
    "        self.remove_punctuation = remove_punctuation\n",
    "        self.replace_urls = replace_urls\n",
    "        self.replace_numbers = replace_numbers\n",
    "        self.stemming = stemming\n",
    "    def fit(self, X, y=None):\n",
    "        return self\n",
    "    def transform(self, X, y=None):\n",
    "        X_transformed = []\n",
    "        for email in X:\n",
    "            text = email_to_text(email) or \"\"\n",
    "            if self.lower_case:\n",
    "                text = text.lower()\n",
    "            if self.replace_urls and url_extractor is not None:\n",
    "                urls = list(set(url_extractor.find_urls(text)))\n",
    "                urls.sort(key=lambda url: len(url), reverse=True)\n",
    "                for url in urls:\n",
    "                    text = text.replace(url, \" URL \")\n",
    "            if self.replace_numbers:\n",
    "                text = re.sub(r'\\d+(?:\\.\\d*)?(?:[eE][+-]?\\d+)?', 'NUMBER', text)\n",
    "            if self.remove_punctuation:\n",
    "                text = re.sub(r'\\W+', ' ', text, flags=re.M)\n",
    "            word_counts = Counter(text.split())\n",
    "            if self.stemming and stemmer is not None:\n",
    "                stemmed_word_counts = Counter()\n",
    "                for word, count in word_counts.items():\n",
    "                    stemmed_word = stemmer.stem(word)\n",
    "                    stemmed_word_counts[stemmed_word] += count\n",
    "                word_counts = stemmed_word_counts\n",
    "            X_transformed.append(word_counts)\n",
    "        return np.array(X_transformed)"
   ]
  },
  {
   "cell_type": "code",
   "execution_count": 59,
   "id": "012e3b81-5127-4a7e-9e1a-1239ccedc215",
   "metadata": {},
   "outputs": [],
   "source": [
    "X_few = X_train[:13]\n",
    "X_few_wordcounts = EmailToWordCounterTransformer().fit_transform(X_few)"
   ]
  },
  {
   "cell_type": "code",
   "execution_count": 60,
   "id": "06276a36-5f81-4349-90b0-87a446777e3d",
   "metadata": {},
   "outputs": [],
   "source": [
    "from scipy.sparse import csr_matrix"
   ]
  },
  {
   "cell_type": "code",
   "execution_count": 61,
   "id": "7fdc505f-be48-49a3-adf3-f2ff7162d80b",
   "metadata": {},
   "outputs": [],
   "source": [
    "class WordCounterToVectorTransformer(BaseEstimator, TransformerMixin):\n",
    "    def __init__(self, vocabulary_size=1000):\n",
    "        self.vocabulary_size = vocabulary_size\n",
    "    def fit(self, X, y=None):\n",
    "        total_count = Counter()\n",
    "        for word_count in X:\n",
    "            for word, count in word_count.items():\n",
    "                total_count[word] += min(count, 10)\n",
    "        most_common = total_count.most_common()[:self.vocabulary_size]\n",
    "        self.vocabulary_ = {word: index + 1 for index, (word, count) in enumerate(most_common)}\n",
    "        return self\n",
    "    def transform(self, X, y=None):\n",
    "        rows = []\n",
    "        cols = []\n",
    "        data = []\n",
    "        for row, word_count in enumerate(X):\n",
    "            for word, count in word_count.items():\n",
    "                rows.append(row)\n",
    "                cols.append(self.vocabulary_.get(word, 0))\n",
    "                data.append(count)\n",
    "        return csr_matrix((data, (rows, cols)), shape=(len(X), self.vocabulary_size + 1))"
   ]
  },
  {
   "cell_type": "code",
   "execution_count": 62,
   "id": "bcc6e3a8-39c2-469d-bd34-e5b6c3e5758b",
   "metadata": {},
   "outputs": [
    {
     "data": {
      "text/plain": [
       "<13x11 sparse matrix of type '<class 'numpy.intc'>'\n",
       "\twith 120 stored elements in Compressed Sparse Row format>"
      ]
     },
     "execution_count": 62,
     "metadata": {},
     "output_type": "execute_result"
    }
   ],
   "source": [
    "vocab_transformer = WordCounterToVectorTransformer(vocabulary_size=10)\n",
    "X_few_vectors = vocab_transformer.fit_transform(X_few_wordcounts)\n",
    "X_few_vectors"
   ]
  },
  {
   "cell_type": "code",
   "execution_count": 63,
   "id": "71516c05-4653-4834-967f-7e69e81a30a5",
   "metadata": {},
   "outputs": [
    {
     "data": {
      "text/plain": [
       "array([[2061,   36,   73,   88,   43,   53,   28,   29,   25,   53,   48],\n",
       "       [ 137,   14,    5,    4,    3,    0,    2,    1,    3,    5,    0],\n",
       "       [ 109,   10,    1,    2,    5,    3,    2,    1,    4,    0,    2],\n",
       "       [ 468,    5,   14,   22,   21,   11,   12,   11,    5,   19,    6],\n",
       "       [ 270,   10,   18,    4,    6,    4,    3,    6,    3,    3,   19],\n",
       "       [ 345,   12,   12,   26,    8,   11,   11,    9,    7,    3,    0],\n",
       "       [  47,    0,    1,    1,    2,    2,    2,    1,    1,    0,    1],\n",
       "       [ 202,    8,    4,    4,    4,    7,    0,    6,    4,   13,    3],\n",
       "       [ 170,    0,    6,    7,    4,    4,    7,    4,    5,    9,    0],\n",
       "       [  66,    4,    0,    1,    0,    0,    4,    0,    1,    0,    4],\n",
       "       [ 787,   23,   16,   36,   16,   18,   11,    6,   11,    1,    8],\n",
       "       [  26,    6,    1,    2,    1,    1,    1,    0,    0,    0,    0],\n",
       "       [  78,   10,    2,    0,    1,    1,    0,    0,    0,    0,    2]],\n",
       "      dtype=int32)"
      ]
     },
     "execution_count": 63,
     "metadata": {},
     "output_type": "execute_result"
    }
   ],
   "source": [
    "X_few_vectors.toarray()"
   ]
  },
  {
   "cell_type": "code",
   "execution_count": 64,
   "id": "45d6fbb3-8b87-4ff9-b0dd-0ab8196f049b",
   "metadata": {},
   "outputs": [
    {
     "data": {
      "text/plain": [
       "{'number': 1,\n",
       " 'to': 2,\n",
       " 'the': 3,\n",
       " 'a': 4,\n",
       " 'and': 5,\n",
       " 'of': 6,\n",
       " 'it': 7,\n",
       " 'in': 8,\n",
       " 'i': 9,\n",
       " 'you': 10}"
      ]
     },
     "execution_count": 64,
     "metadata": {},
     "output_type": "execute_result"
    }
   ],
   "source": [
    "vocab_transformer.vocabulary_"
   ]
  },
  {
   "cell_type": "code",
   "execution_count": 65,
   "id": "be852cd3-fab3-4b3c-af99-8f87215a0694",
   "metadata": {},
   "outputs": [],
   "source": [
    "from sklearn.pipeline import Pipeline\n",
    "from sklearn.linear_model import LogisticRegression\n",
    "from sklearn.model_selection import cross_val_score\n",
    "from sklearn.model_selection import RandomizedSearchCV"
   ]
  },
  {
   "cell_type": "code",
   "execution_count": 480,
   "id": "237486e5-68b5-4266-bfc2-5368466058b3",
   "metadata": {},
   "outputs": [],
   "source": [
    "param_grid = {\n",
    "    \"penalty\": [\"l1\", 'l2'],\n",
    "    # 'C': np.linspace(0.01, 1, 5),\n",
    "    'solver': [\"lbfgs\", 'saga', 'sag'],\n",
    "    'max_iter': np.arange(1000, 1500, 5),\n",
    "}"
   ]
  },
  {
   "cell_type": "code",
   "execution_count": 67,
   "id": "b0e39809-0f35-4fe2-8e12-3a2854978053",
   "metadata": {},
   "outputs": [
    {
     "data": {
      "text/plain": [
       "<3375x1001 sparse matrix of type '<class 'numpy.intc'>'\n",
       "\twith 303710 stored elements in Compressed Sparse Row format>"
      ]
     },
     "execution_count": 67,
     "metadata": {},
     "output_type": "execute_result"
    }
   ],
   "source": [
    "preprocess_pipeline = Pipeline([\n",
    "    (\"email_to_wordcount\", EmailToWordCounterTransformer()),\n",
    "    (\"wordcount_to_vector\", WordCounterToVectorTransformer()),\n",
    "])\n",
    "\n",
    "X_train_transformed = preprocess_pipeline.fit_transform(X_train)\n",
    "X_train_transformed"
   ]
  },
  {
   "cell_type": "code",
   "execution_count": 68,
   "id": "ef3549e3-b34f-4df1-9cef-18c4ba2e94f1",
   "metadata": {},
   "outputs": [
    {
     "name": "stdout",
     "output_type": "stream",
     "text": [
      "[CV] END ................................ score: (test=0.982) total time=   1.3s\n",
      "[CV] END ................................ score: (test=0.984) total time=   1.0s\n",
      "[CV] END ................................ score: (test=0.978) total time=   1.2s\n",
      "[CV] END ................................ score: (test=0.978) total time=   1.0s\n",
      "[CV] END ................................ score: (test=0.988) total time=   1.3s\n"
     ]
    },
    {
     "data": {
      "text/plain": [
       "0.981925925925926"
      ]
     },
     "execution_count": 68,
     "metadata": {},
     "output_type": "execute_result"
    }
   ],
   "source": [
    "from sklearn.linear_model import LogisticRegression\n",
    "from sklearn.model_selection import cross_val_score\n",
    "\n",
    "log_clf = LogisticRegression(solver=\"lbfgs\", max_iter=1000, random_state=42, class_weight='balanced')\n",
    "score = cross_val_score(log_clf, X_train_transformed, y_train, cv=5, verbose=4)\n",
    "score.mean()"
   ]
  },
  {
   "cell_type": "code",
   "execution_count": 69,
   "id": "105fdb66-1006-4c4a-8064-7ffb84881b0b",
   "metadata": {},
   "outputs": [
    {
     "name": "stdout",
     "output_type": "stream",
     "text": [
      "Precision: 95.10%\n",
      "Recall: 97.98%\n"
     ]
    }
   ],
   "source": [
    "from sklearn.metrics import precision_score, recall_score\n",
    "\n",
    "X_test_transformed = preprocess_pipeline.transform(X_test)\n",
    "\n",
    "log_clf = LogisticRegression(solver=\"lbfgs\", max_iter=1000, random_state=42)\n",
    "log_clf.fit(X_train_transformed, y_train)\n",
    "\n",
    "y_pred = log_clf.predict(X_test_transformed)\n",
    "\n",
    "print(\"Precision: {:.2f}%\".format(100 * precision_score(y_test, y_pred)))\n",
    "print(\"Recall: {:.2f}%\".format(100 * recall_score(y_test, y_pred)))"
   ]
  },
  {
   "cell_type": "code",
   "execution_count": 72,
   "id": "32076f65-42b3-46ab-9761-b0a1cd5c651a",
   "metadata": {},
   "outputs": [
    {
     "data": {
      "text/plain": [
       "array([[271,   5],\n",
       "       [  2,  97]], dtype=int64)"
      ]
     },
     "execution_count": 72,
     "metadata": {},
     "output_type": "execute_result"
    }
   ],
   "source": [
    "confusion_matrix(y_test, y_pred)"
   ]
  },
  {
   "cell_type": "code",
   "execution_count": 73,
   "id": "6b88a6d9-6cb1-41d0-a68f-eec35f9c2c5b",
   "metadata": {},
   "outputs": [],
   "source": [
    "from sklearn.ensemble import AdaBoostClassifier, RandomForestClassifier\n",
    "from sklearn.model_selection import RandomizedSearchCV\n",
    "from sklearn.neural_network import MLPClassifier\n",
    "model = MLPClassifier(random_state=42, early_stopping=True) #balpha=1, max_iter=1000, random_state=42\n",
    "\n",
    "# model.fit(X_train_transformed, y_train)"
   ]
  },
  {
   "cell_type": "code",
   "execution_count": null,
   "id": "484ed2fb-6408-49b1-85e4-a9bec9ea733a",
   "metadata": {},
   "outputs": [],
   "source": [
    "model.score(X_test_transformed, y_test)"
   ]
  },
  {
   "cell_type": "code",
   "execution_count": null,
   "id": "79efe83f-b077-4029-8dbc-1a07f8810eca",
   "metadata": {},
   "outputs": [],
   "source": [
    "param_grid = {\n",
    "    \"hidden_layer_sizes\": [(200,),(300,)],\n",
    "    \"activation\": ['relu', 'logistic'], \n",
    "    \"solver\":['adam',\"sgd\"], \n",
    "    \"learning_rate\":['adaptive', 'invscaling'],\n",
    "    \"shuffle\":[False, True],\n",
    "    # \"random_state\":np.arange(40, 53,4),\n",
    "    'alpha':np.linspace(0.001, 1, 5),\n",
    "    \n",
    "}"
   ]
  },
  {
   "cell_type": "code",
   "execution_count": null,
   "id": "9e81dca0-0538-48d8-b67a-5da3dddaf7cf",
   "metadata": {},
   "outputs": [],
   "source": [
    "grid_search = GridSearchCV(model, param_grid, cv=2, scoring='roc_auc_ovo')"
   ]
  },
  {
   "cell_type": "code",
   "execution_count": null,
   "id": "53f1f5be-57b0-4a3b-8831-e84e148c5083",
   "metadata": {},
   "outputs": [],
   "source": [
    "param_grid.fit(X_train_transformed, y_train)"
   ]
  },
  {
   "cell_type": "code",
   "execution_count": null,
   "id": "3de5a1bb-b502-4171-93f3-f7842e503ca0",
   "metadata": {},
   "outputs": [],
   "source": [
    "print(param_grid.best_estimator_)\n",
    "print(\"Accuracy: {}\".format(param_grid.score(X_test_transformed, y_test)))"
   ]
  },
  {
   "cell_type": "code",
   "execution_count": 71,
   "id": "78e40121-d3a9-4327-b3f8-abd52b23dcc7",
   "metadata": {},
   "outputs": [],
   "source": [
    "from sklearn.metrics import precision_score, recall_score, classification_report,confusion_matrix, mean_squared_error, f1_score"
   ]
  },
  {
   "cell_type": "code",
   "execution_count": null,
   "id": "9250c782-f9ee-431f-a390-f99b6b6a33b1",
   "metadata": {},
   "outputs": [],
   "source": [
    "y_pred_spam = param_grid.predict(X_test_transformed)"
   ]
  },
  {
   "cell_type": "code",
   "execution_count": null,
   "id": "5be60db2-7b83-4e4f-880d-1b1d2594f319",
   "metadata": {},
   "outputs": [],
   "source": [
    "precision_score(y_test, y_pred_spam)"
   ]
  },
  {
   "cell_type": "code",
   "execution_count": null,
   "id": "c25addda-131e-414f-bcab-14b6aa8f41ec",
   "metadata": {},
   "outputs": [],
   "source": [
    "confusion_matrix(y_test, y_pred_spam), recall_score(y_test, y_pred_spam)"
   ]
  },
  {
   "cell_type": "code",
   "execution_count": null,
   "id": "2124a0fe-05a2-4653-a2af-8fb63b437387",
   "metadata": {},
   "outputs": [],
   "source": []
  }
 ],
 "metadata": {
  "kernelspec": {
   "display_name": "Python 3 (ipykernel)",
   "language": "python",
   "name": "python3"
  },
  "language_info": {
   "codemirror_mode": {
    "name": "ipython",
    "version": 3
   },
   "file_extension": ".py",
   "mimetype": "text/x-python",
   "name": "python",
   "nbconvert_exporter": "python",
   "pygments_lexer": "ipython3",
   "version": "3.11.5"
  }
 },
 "nbformat": 4,
 "nbformat_minor": 5
}
